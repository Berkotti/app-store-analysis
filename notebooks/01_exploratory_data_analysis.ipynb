{
 "cells": [
  {
   "cell_type": "markdown",
   "metadata": {},
   "source": [
    "# 📊 App Store Veri Analizi - Keşifsel Veri Analizi (EDA)\n",
    "\n",
    "**Oluşturulma Tarihi:** 2025-08-30  \n",
    "**Güncelleme Tarihi:** 2025-08-30\n",
    "\n",
    "## 📋 İçerik\n",
    "1. Veri Yükleme\n",
    "2. Veri Yapısı İncelemesi\n",
    "3. Temel İstatistikler\n",
    "4. Veri Görselleştirmeleri\n",
    "5. İlk İçgörüler"
   ]
  },
  {
   "cell_type": "markdown",
   "metadata": {},
   "source": [
    "## 1. Kütüphaneleri Yükle"
   ]
  },
  {
   "cell_type": "code",
   "execution_count": 1,
   "metadata": {},
   "outputs": [
    {
     "name": "stdout",
     "output_type": "stream",
     "text": [
      "✅ Kütüphaneler başarıyla yüklendi!\n"
     ]
    }
   ],
   "source": [
    "# Temel kütüphaneler\n",
    "import pandas as pd\n",
    "import numpy as np\n",
    "import json\n",
    "import warnings\n",
    "from pathlib import Path\n",
    "\n",
    "# Görselleştirme kütüphaneleri\n",
    "import matplotlib.pyplot as plt\n",
    "import seaborn as sns\n",
    "import plotly.express as px\n",
    "import plotly.graph_objects as go\n",
    "from plotly.subplots import make_subplots\n",
    "\n",
    "# Ayarlar\n",
    "warnings.filterwarnings('ignore')\n",
    "pd.set_option('display.max_columns', None)\n",
    "pd.set_option('display.max_rows', 100)\n",
    "pd.set_option('display.float_format', lambda x: '%.2f' % x)\n",
    "\n",
    "# Görselleştirme ayarları\n",
    "plt.style.use('seaborn-v0_8-darkgrid')\n",
    "sns.set_palette('husl')\n",
    "\n",
    "print('✅ Kütüphaneler başarıyla yüklendi!')"
   ]
  },
  {
   "cell_type": "markdown",
   "metadata": {},
   "source": [
    "## 2. Veri Yükleme"
   ]
  },
  {
   "cell_type": "code",
   "execution_count": 2,
   "metadata": {},
   "outputs": [
    {
     "name": "stdout",
     "output_type": "stream",
     "text": [
      "📁 Mevcut veri dosyaları:\n",
      "\n",
      "Kaggle verileri:\n",
      "  - appleAppData.csv: 387.23 MB\n",
      "  - AppleStore.csv: 0.80 MB\n",
      "  - appleStore_description.csv: 12.37 MB\n",
      "\n",
      "iTunes API verileri:\n",
      "  - category_apps_20250830_092909.json: 9.20 MB\n",
      "  - search_results_20250830_092909.json: 2.97 MB\n",
      "  - category_apps_20250830_092717.json: 0.00 MB\n",
      "  - search_results_20250830_092717.json: 2.97 MB\n",
      "  - top_apps_20250830_131428.json: 0.56 MB\n"
     ]
    }
   ],
   "source": [
    "# Veri dizinleri\n",
    "data_dir = Path('../data/raw')\n",
    "kaggle_dir = data_dir / 'kaggle'\n",
    "api_dir = data_dir / 'api'\n",
    "\n",
    "print('📁 Mevcut veri dosyaları:')\n",
    "print('\\nKaggle verileri:')\n",
    "for f in kaggle_dir.rglob('*.csv'):\n",
    "    size = f.stat().st_size / (1024*1024)\n",
    "    print(f'  - {f.name}: {size:.2f} MB')\n",
    "\n",
    "print('\\niTunes API verileri:')\n",
    "for f in api_dir.glob('*.json'):\n",
    "    size = f.stat().st_size / (1024*1024)\n",
    "    print(f'  - {f.name}: {size:.2f} MB')"
   ]
  },
  {
   "cell_type": "markdown",
   "metadata": {},
   "source": [
    "### 2.1 Kaggle Verilerini Yükle"
   ]
  },
  {
   "cell_type": "code",
   "execution_count": 3,
   "metadata": {},
   "outputs": [
    {
     "name": "stdout",
     "output_type": "stream",
     "text": [
      "✅ AppleStore.csv yüklendi: 7,197 satır, 17 sütun\n",
      "✅ appleStore_description.csv yüklendi: 7,197 satır, 4 sütun\n",
      "✅ appleAppData.csv yüklendi (ilk 50K): 50,000 satır, 21 sütun\n"
     ]
    }
   ],
   "source": [
    "# AppleStore.csv - Ana uygulama verileri\n",
    "df_apps = pd.read_csv(kaggle_dir / 'ramamet4_app-store-apple-data-set-10k-apps/AppleStore.csv')\n",
    "print(f'✅ AppleStore.csv yüklendi: {df_apps.shape[0]:,} satır, {df_apps.shape[1]} sütun')\n",
    "\n",
    "# appleStore_description.csv - Uygulama açıklamaları\n",
    "df_desc = pd.read_csv(kaggle_dir / 'ramamet4_app-store-apple-data-set-10k-apps/appleStore_description.csv')\n",
    "print(f'✅ appleStore_description.csv yüklendi: {df_desc.shape[0]:,} satır, {df_desc.shape[1]} sütun')\n",
    "\n",
    "# Büyük veri seti - appleAppData.csv\n",
    "df_large = pd.read_csv(kaggle_dir / 'gauthamp10_apple-appstore-apps/appleAppData.csv', nrows=50000)  # İlk 50K satır\n",
    "print(f'✅ appleAppData.csv yüklendi (ilk 50K): {df_large.shape[0]:,} satır, {df_large.shape[1]} sütun')"
   ]
  },
  {
   "cell_type": "markdown",
   "metadata": {},
   "source": [
    "### 2.2 iTunes API Verilerini Yükle"
   ]
  },
  {
   "cell_type": "code",
   "execution_count": null,
   "metadata": {},
   "outputs": [],
   "source": [
    "# Top Apps verilerini yükle\n",
    "top_apps_files = sorted(api_dir.glob('top_apps_*.json'))\n",
    "if top_apps_files:\n",
    "    latest_top_file = top_apps_files[-1]\n",
    "    with open(latest_top_file, 'r', encoding='utf-8') as f:\n",
    "        top_apps_data = json.load(f)\n",
    "    \n",
    "    print(f'✅ Top Apps verileri yüklendi: {latest_top_file.name}')\n",
    "    \n",
    "    # Her kategoriyi DataFrame'e dönüştür\n",
    "    top_apps_dfs = {}\n",
    "    \n",
    "    if 'top_free_rss' in top_apps_data:\n",
    "        top_apps_dfs['top_free'] = pd.DataFrame(top_apps_data['top_free_rss'])\n",
    "        print(f'   • Top Free Apps: {len(top_apps_data[\"top_free_rss\"])} uygulama')\n",
    "    \n",
    "    if 'top_paid_rss' in top_apps_data:\n",
    "        top_apps_dfs['top_paid'] = pd.DataFrame(top_apps_data['top_paid_rss'])\n",
    "        print(f'   • Top Paid Apps: {len(top_apps_data[\"top_paid_rss\"])} uygulama')\n",
    "    \n",
    "    if 'top_grossing_rss' in top_apps_data:\n",
    "        top_apps_dfs['top_grossing'] = pd.DataFrame(top_apps_data['top_grossing_rss'])\n",
    "        print(f'   • Top Grossing Apps: {len(top_apps_data[\"top_grossing_rss\"])} uygulama')\n",
    "    \n",
    "    if 'popular_by_search' in top_apps_data:\n",
    "        top_apps_dfs['popular'] = pd.DataFrame(top_apps_data['popular_by_search'])\n",
    "        print(f'   • Search API Popüler: {len(top_apps_data[\"popular_by_search\"])} uygulama')\n",
    "    \n",
    "    if 'charts_by_category' in top_apps_data:\n",
    "        category_count = len(top_apps_data['charts_by_category'])\n",
    "        print(f'   • Kategori Charts: {category_count} kategori')\n",
    "    \n",
    "    print(f'   • Toplam liste: {len(top_apps_dfs)}')\n",
    "else:\n",
    "    print('⚠️ Top Apps verisi bulunamadı')\n",
    "    top_apps_dfs = {}"
   ]
  },
  {
   "cell_type": "markdown",
   "metadata": {},
   "source": [
    "### 2.3 Top Apps Verilerini Yükle (iTunes RSS Feed)"
   ]
  },
  {
   "cell_type": "code",
   "execution_count": 4,
   "metadata": {},
   "outputs": [
    {
     "name": "stdout",
     "output_type": "stream",
     "text": [
      "✅ iTunes API verileri yüklendi: 845 satır, 45 sütun\n",
      "   Kategoriler: 25 adet\n"
     ]
    }
   ],
   "source": [
    "# En güncel API verilerini bul\n",
    "api_files = sorted(api_dir.glob('category_apps_*.json'))\n",
    "if api_files:\n",
    "    latest_api_file = api_files[-1]\n",
    "    with open(latest_api_file, 'r', encoding='utf-8') as f:\n",
    "        api_data = json.load(f)\n",
    "    \n",
    "    # API verilerini DataFrame'e dönüştür\n",
    "    api_apps = []\n",
    "    for category, apps in api_data.items():\n",
    "        for app in apps:\n",
    "            app['category_search'] = category\n",
    "            api_apps.append(app)\n",
    "    \n",
    "    df_api = pd.DataFrame(api_apps)\n",
    "    print(f'✅ iTunes API verileri yüklendi: {df_api.shape[0]:,} satır, {df_api.shape[1]} sütun')\n",
    "    print(f'   Kategoriler: {len(api_data)} adet')\n",
    "else:\n",
    "    print('⚠️ API verisi bulunamadı')\n",
    "    df_api = pd.DataFrame()"
   ]
  },
  {
   "cell_type": "code",
   "execution_count": 5,
   "metadata": {},
   "outputs": [
    {
     "data": {
      "text/html": [
       "<div>\n",
       "<style scoped>\n",
       "    .dataframe tbody tr th:only-of-type {\n",
       "        vertical-align: middle;\n",
       "    }\n",
       "\n",
       "    .dataframe tbody tr th {\n",
       "        vertical-align: top;\n",
       "    }\n",
       "\n",
       "    .dataframe thead th {\n",
       "        text-align: right;\n",
       "    }\n",
       "</style>\n",
       "<table border=\"1\" class=\"dataframe\">\n",
       "  <thead>\n",
       "    <tr style=\"text-align: right;\">\n",
       "      <th></th>\n",
       "      <th>artistViewUrl</th>\n",
       "      <th>artworkUrl60</th>\n",
       "      <th>artworkUrl100</th>\n",
       "      <th>isGameCenterEnabled</th>\n",
       "      <th>features</th>\n",
       "      <th>supportedDevices</th>\n",
       "      <th>advisories</th>\n",
       "      <th>kind</th>\n",
       "      <th>screenshotUrls</th>\n",
       "      <th>ipadScreenshotUrls</th>\n",
       "      <th>appletvScreenshotUrls</th>\n",
       "      <th>artworkUrl512</th>\n",
       "      <th>trackCensoredName</th>\n",
       "      <th>contentAdvisoryRating</th>\n",
       "      <th>trackViewUrl</th>\n",
       "      <th>averageUserRating</th>\n",
       "      <th>minimumOsVersion</th>\n",
       "      <th>artistId</th>\n",
       "      <th>artistName</th>\n",
       "      <th>genres</th>\n",
       "      <th>price</th>\n",
       "      <th>trackName</th>\n",
       "      <th>trackId</th>\n",
       "      <th>bundleId</th>\n",
       "      <th>currentVersionReleaseDate</th>\n",
       "      <th>releaseNotes</th>\n",
       "      <th>releaseDate</th>\n",
       "      <th>genreIds</th>\n",
       "      <th>primaryGenreName</th>\n",
       "      <th>primaryGenreId</th>\n",
       "      <th>sellerName</th>\n",
       "      <th>isVppDeviceBasedLicensingEnabled</th>\n",
       "      <th>version</th>\n",
       "      <th>wrapperType</th>\n",
       "      <th>currency</th>\n",
       "      <th>description</th>\n",
       "      <th>averageUserRatingForCurrentVersion</th>\n",
       "      <th>languageCodesISO2A</th>\n",
       "      <th>fileSizeBytes</th>\n",
       "      <th>formattedPrice</th>\n",
       "      <th>userRatingCountForCurrentVersion</th>\n",
       "      <th>trackContentRating</th>\n",
       "      <th>userRatingCount</th>\n",
       "      <th>category_search</th>\n",
       "      <th>sellerUrl</th>\n",
       "    </tr>\n",
       "  </thead>\n",
       "  <tbody>\n",
       "    <tr>\n",
       "      <th>0</th>\n",
       "      <td>https://apps.apple.com/tr/developer/netflix-in...</td>\n",
       "      <td>https://is1-ssl.mzstatic.com/image/thumb/Purpl...</td>\n",
       "      <td>https://is1-ssl.mzstatic.com/image/thumb/Purpl...</td>\n",
       "      <td>False</td>\n",
       "      <td>[iosUniversal]</td>\n",
       "      <td>[iPhone5s-iPhone5s, iPadAir-iPadAir, iPadAirCe...</td>\n",
       "      <td>[Frequent/Intense Contests, Infrequent/Mild Ho...</td>\n",
       "      <td>software</td>\n",
       "      <td>[]</td>\n",
       "      <td>[]</td>\n",
       "      <td>[]</td>\n",
       "      <td>https://is1-ssl.mzstatic.com/image/thumb/Purpl...</td>\n",
       "      <td>Squid Game: Unleashed</td>\n",
       "      <td>12+</td>\n",
       "      <td>https://apps.apple.com/tr/app/squid-game-unlea...</td>\n",
       "      <td>4.51</td>\n",
       "      <td>17.0</td>\n",
       "      <td>363590054</td>\n",
       "      <td>Netflix, Inc.</td>\n",
       "      <td>[Games, Action, Casual]</td>\n",
       "      <td>0.00</td>\n",
       "      <td>Squid Game: Unleashed</td>\n",
       "      <td>6498719476</td>\n",
       "      <td>com.netflix.NGP.ProjectKraken</td>\n",
       "      <td>2025-08-25T15:30:14Z</td>\n",
       "      <td>We've squashed bugs and made behind-the-scenes...</td>\n",
       "      <td>2024-12-17T08:00:00Z</td>\n",
       "      <td>[6014, 7001, 7003]</td>\n",
       "      <td>Games</td>\n",
       "      <td>6014</td>\n",
       "      <td>Netflix, Inc.</td>\n",
       "      <td>True</td>\n",
       "      <td>0.0.15414</td>\n",
       "      <td>software</td>\n",
       "      <td>TRY</td>\n",
       "      <td>NO NETFLIX MEMBERSHIP REQUIRED.\\nEveryone is w...</td>\n",
       "      <td>4.51</td>\n",
       "      <td>[EN, FR, DE, ID, IT, JA, KO, PL, PT, ES, ZH, TR]</td>\n",
       "      <td>2036348928</td>\n",
       "      <td>Free</td>\n",
       "      <td>4424</td>\n",
       "      <td>12+</td>\n",
       "      <td>4424</td>\n",
       "      <td>games</td>\n",
       "      <td>NaN</td>\n",
       "    </tr>\n",
       "    <tr>\n",
       "      <th>1</th>\n",
       "      <td>https://apps.apple.com/tr/developer/tencent-mo...</td>\n",
       "      <td>https://is1-ssl.mzstatic.com/image/thumb/Purpl...</td>\n",
       "      <td>https://is1-ssl.mzstatic.com/image/thumb/Purpl...</td>\n",
       "      <td>True</td>\n",
       "      <td>[gameCenter, iosUniversal]</td>\n",
       "      <td>[iPhone5s-iPhone5s, iPadAir-iPadAir, iPadAirCe...</td>\n",
       "      <td>[Infrequent/Mild Realistic Violence]</td>\n",
       "      <td>software</td>\n",
       "      <td>[https://is1-ssl.mzstatic.com/image/thumb/Purp...</td>\n",
       "      <td>[]</td>\n",
       "      <td>[]</td>\n",
       "      <td>https://is1-ssl.mzstatic.com/image/thumb/Purpl...</td>\n",
       "      <td>PUBG MOBILE</td>\n",
       "      <td>12+</td>\n",
       "      <td>https://apps.apple.com/tr/app/pubg-mobile/id13...</td>\n",
       "      <td>4.15</td>\n",
       "      <td>12.0</td>\n",
       "      <td>504515421</td>\n",
       "      <td>Tencent Mobile International Limited</td>\n",
       "      <td>[Games, Action, Strategy]</td>\n",
       "      <td>0.00</td>\n",
       "      <td>PUBG MOBILE</td>\n",
       "      <td>1330123889</td>\n",
       "      <td>com.tencent.ig</td>\n",
       "      <td>2025-07-08T10:00:20Z</td>\n",
       "      <td>PUBG MOBILE × Transformers is here!\\n\\nClassic...</td>\n",
       "      <td>2018-03-19T17:13:23Z</td>\n",
       "      <td>[6014, 7001, 7017]</td>\n",
       "      <td>Games</td>\n",
       "      <td>6014</td>\n",
       "      <td>Tencent Mobile International Limited</td>\n",
       "      <td>True</td>\n",
       "      <td>3.9.0</td>\n",
       "      <td>software</td>\n",
       "      <td>TRY</td>\n",
       "      <td>【Epic battle royale masterpiece】\\nLots of even...</td>\n",
       "      <td>4.15</td>\n",
       "      <td>[AR, EN, FR, DE, HI, ID, PT, RU, ZH, ES, TH, Z...</td>\n",
       "      <td>3942322176</td>\n",
       "      <td>Free</td>\n",
       "      <td>642041</td>\n",
       "      <td>12+</td>\n",
       "      <td>642041</td>\n",
       "      <td>games</td>\n",
       "      <td>NaN</td>\n",
       "    </tr>\n",
       "    <tr>\n",
       "      <th>2</th>\n",
       "      <td>https://apps.apple.com/tr/developer/supercell/...</td>\n",
       "      <td>https://is1-ssl.mzstatic.com/image/thumb/Purpl...</td>\n",
       "      <td>https://is1-ssl.mzstatic.com/image/thumb/Purpl...</td>\n",
       "      <td>True</td>\n",
       "      <td>[gameCenter, iosUniversal]</td>\n",
       "      <td>[iPhone5s-iPhone5s, iPadAir-iPadAir, iPadAirCe...</td>\n",
       "      <td>[Loot Boxes]</td>\n",
       "      <td>software</td>\n",
       "      <td>[https://is1-ssl.mzstatic.com/image/thumb/Purp...</td>\n",
       "      <td>[https://is1-ssl.mzstatic.com/image/thumb/Purp...</td>\n",
       "      <td>[]</td>\n",
       "      <td>https://is1-ssl.mzstatic.com/image/thumb/Purpl...</td>\n",
       "      <td>Hay Day</td>\n",
       "      <td>4+</td>\n",
       "      <td>https://apps.apple.com/tr/app/hay-day/id506627...</td>\n",
       "      <td>4.58</td>\n",
       "      <td>12.0</td>\n",
       "      <td>488106216</td>\n",
       "      <td>Supercell</td>\n",
       "      <td>[Games, Simulation, Family, Entertainment]</td>\n",
       "      <td>0.00</td>\n",
       "      <td>Hay Day</td>\n",
       "      <td>506627515</td>\n",
       "      <td>com.supercell.soil</td>\n",
       "      <td>2025-07-07T14:42:53Z</td>\n",
       "      <td>Hay Day turns 13, and everyone’s invited to th...</td>\n",
       "      <td>2012-06-21T08:10:22Z</td>\n",
       "      <td>[6014, 7015, 7009, 6016]</td>\n",
       "      <td>Games</td>\n",
       "      <td>6014</td>\n",
       "      <td>Supercell Oy</td>\n",
       "      <td>True</td>\n",
       "      <td>1.66.159</td>\n",
       "      <td>software</td>\n",
       "      <td>TRY</td>\n",
       "      <td>Welcome to Hay Day. Build a farm, fish, raise ...</td>\n",
       "      <td>4.58</td>\n",
       "      <td>[AR, DA, NL, EN, FI, FR, DE, ID, IT, JA, KO, M...</td>\n",
       "      <td>558282752</td>\n",
       "      <td>Free</td>\n",
       "      <td>132920</td>\n",
       "      <td>4+</td>\n",
       "      <td>132920</td>\n",
       "      <td>games</td>\n",
       "      <td>https://help.supercellsupport.com/hay-day/en/</td>\n",
       "    </tr>\n",
       "    <tr>\n",
       "      <th>3</th>\n",
       "      <td>https://apps.apple.com/tr/developer/playrix/id...</td>\n",
       "      <td>https://is1-ssl.mzstatic.com/image/thumb/Purpl...</td>\n",
       "      <td>https://is1-ssl.mzstatic.com/image/thumb/Purpl...</td>\n",
       "      <td>True</td>\n",
       "      <td>[gameCenter, iosUniversal]</td>\n",
       "      <td>[iPhone5s-iPhone5s, iPadAir-iPadAir, iPadAirCe...</td>\n",
       "      <td>[Loot Boxes]</td>\n",
       "      <td>software</td>\n",
       "      <td>[https://is1-ssl.mzstatic.com/image/thumb/Purp...</td>\n",
       "      <td>[https://is1-ssl.mzstatic.com/image/thumb/Purp...</td>\n",
       "      <td>[]</td>\n",
       "      <td>https://is1-ssl.mzstatic.com/image/thumb/Purpl...</td>\n",
       "      <td>Township</td>\n",
       "      <td>4+</td>\n",
       "      <td>https://apps.apple.com/tr/app/township/id63868...</td>\n",
       "      <td>4.73</td>\n",
       "      <td>13.0</td>\n",
       "      <td>1162116447</td>\n",
       "      <td>Playrix</td>\n",
       "      <td>[Games, Entertainment, Puzzle, Casual]</td>\n",
       "      <td>0.00</td>\n",
       "      <td>Township</td>\n",
       "      <td>638689075</td>\n",
       "      <td>com.playrix.township-ios</td>\n",
       "      <td>2025-08-08T16:10:59Z</td>\n",
       "      <td>Get ready for a new update!\\nNew adventures in...</td>\n",
       "      <td>2013-10-23T17:29:00Z</td>\n",
       "      <td>[6014, 6016, 7012, 7003]</td>\n",
       "      <td>Games</td>\n",
       "      <td>6014</td>\n",
       "      <td>PLR Worldwide Sales Limited</td>\n",
       "      <td>True</td>\n",
       "      <td>29.1.0</td>\n",
       "      <td>software</td>\n",
       "      <td>TRY</td>\n",
       "      <td>BUILD YOUR DREAM TOWN!\\n\\nWelcome to Township,...</td>\n",
       "      <td>4.73</td>\n",
       "      <td>[AR, NL, EN, FR, DE, ID, IT, JA, KO, PT, RU, Z...</td>\n",
       "      <td>250808320</td>\n",
       "      <td>Free</td>\n",
       "      <td>110254</td>\n",
       "      <td>4+</td>\n",
       "      <td>110254</td>\n",
       "      <td>games</td>\n",
       "      <td>https://www.playrix.com/township/index.html</td>\n",
       "    </tr>\n",
       "    <tr>\n",
       "      <th>4</th>\n",
       "      <td>https://apps.apple.com/tr/developer/sybo-games...</td>\n",
       "      <td>https://is1-ssl.mzstatic.com/image/thumb/Purpl...</td>\n",
       "      <td>https://is1-ssl.mzstatic.com/image/thumb/Purpl...</td>\n",
       "      <td>True</td>\n",
       "      <td>[gameCenter, iosUniversal]</td>\n",
       "      <td>[iPhone5s-iPhone5s, iPadAir-iPadAir, iPadAirCe...</td>\n",
       "      <td>[Infrequent/Mild Cartoon or Fantasy Violence]</td>\n",
       "      <td>software</td>\n",
       "      <td>[https://is1-ssl.mzstatic.com/image/thumb/Purp...</td>\n",
       "      <td>[https://is1-ssl.mzstatic.com/image/thumb/Purp...</td>\n",
       "      <td>[]</td>\n",
       "      <td>https://is1-ssl.mzstatic.com/image/thumb/Purpl...</td>\n",
       "      <td>Subway Surfers</td>\n",
       "      <td>9+</td>\n",
       "      <td>https://apps.apple.com/tr/app/subway-surfers/i...</td>\n",
       "      <td>4.46</td>\n",
       "      <td>13.0</td>\n",
       "      <td>471259040</td>\n",
       "      <td>Sybo Games ApS</td>\n",
       "      <td>[Games, Action, Casual, Entertainment]</td>\n",
       "      <td>0.00</td>\n",
       "      <td>Subway Surfers</td>\n",
       "      <td>512939461</td>\n",
       "      <td>com.kiloo.subwaysurfers</td>\n",
       "      <td>2025-08-27T07:13:37Z</td>\n",
       "      <td>- It’s time to wrap up summer in style as the ...</td>\n",
       "      <td>2012-05-24T07:00:00Z</td>\n",
       "      <td>[6014, 7001, 7003, 6016]</td>\n",
       "      <td>Games</td>\n",
       "      <td>6014</td>\n",
       "      <td>Sybo Games ApS</td>\n",
       "      <td>True</td>\n",
       "      <td>3.51.1</td>\n",
       "      <td>software</td>\n",
       "      <td>TRY</td>\n",
       "      <td>DASH as fast as you can!\\nDODGE the oncoming t...</td>\n",
       "      <td>4.46</td>\n",
       "      <td>[NL, EN, FR, DE, ID, IT, JA, KO, PT, RU, ZH, E...</td>\n",
       "      <td>317793280</td>\n",
       "      <td>Free</td>\n",
       "      <td>280971</td>\n",
       "      <td>9+</td>\n",
       "      <td>280971</td>\n",
       "      <td>games</td>\n",
       "      <td>https://sybogames.com/</td>\n",
       "    </tr>\n",
       "  </tbody>\n",
       "</table>\n",
       "</div>"
      ],
      "text/plain": [
       "                                       artistViewUrl  \\\n",
       "0  https://apps.apple.com/tr/developer/netflix-in...   \n",
       "1  https://apps.apple.com/tr/developer/tencent-mo...   \n",
       "2  https://apps.apple.com/tr/developer/supercell/...   \n",
       "3  https://apps.apple.com/tr/developer/playrix/id...   \n",
       "4  https://apps.apple.com/tr/developer/sybo-games...   \n",
       "\n",
       "                                        artworkUrl60  \\\n",
       "0  https://is1-ssl.mzstatic.com/image/thumb/Purpl...   \n",
       "1  https://is1-ssl.mzstatic.com/image/thumb/Purpl...   \n",
       "2  https://is1-ssl.mzstatic.com/image/thumb/Purpl...   \n",
       "3  https://is1-ssl.mzstatic.com/image/thumb/Purpl...   \n",
       "4  https://is1-ssl.mzstatic.com/image/thumb/Purpl...   \n",
       "\n",
       "                                       artworkUrl100  isGameCenterEnabled  \\\n",
       "0  https://is1-ssl.mzstatic.com/image/thumb/Purpl...                False   \n",
       "1  https://is1-ssl.mzstatic.com/image/thumb/Purpl...                 True   \n",
       "2  https://is1-ssl.mzstatic.com/image/thumb/Purpl...                 True   \n",
       "3  https://is1-ssl.mzstatic.com/image/thumb/Purpl...                 True   \n",
       "4  https://is1-ssl.mzstatic.com/image/thumb/Purpl...                 True   \n",
       "\n",
       "                     features  \\\n",
       "0              [iosUniversal]   \n",
       "1  [gameCenter, iosUniversal]   \n",
       "2  [gameCenter, iosUniversal]   \n",
       "3  [gameCenter, iosUniversal]   \n",
       "4  [gameCenter, iosUniversal]   \n",
       "\n",
       "                                    supportedDevices  \\\n",
       "0  [iPhone5s-iPhone5s, iPadAir-iPadAir, iPadAirCe...   \n",
       "1  [iPhone5s-iPhone5s, iPadAir-iPadAir, iPadAirCe...   \n",
       "2  [iPhone5s-iPhone5s, iPadAir-iPadAir, iPadAirCe...   \n",
       "3  [iPhone5s-iPhone5s, iPadAir-iPadAir, iPadAirCe...   \n",
       "4  [iPhone5s-iPhone5s, iPadAir-iPadAir, iPadAirCe...   \n",
       "\n",
       "                                          advisories      kind  \\\n",
       "0  [Frequent/Intense Contests, Infrequent/Mild Ho...  software   \n",
       "1               [Infrequent/Mild Realistic Violence]  software   \n",
       "2                                       [Loot Boxes]  software   \n",
       "3                                       [Loot Boxes]  software   \n",
       "4      [Infrequent/Mild Cartoon or Fantasy Violence]  software   \n",
       "\n",
       "                                      screenshotUrls  \\\n",
       "0                                                 []   \n",
       "1  [https://is1-ssl.mzstatic.com/image/thumb/Purp...   \n",
       "2  [https://is1-ssl.mzstatic.com/image/thumb/Purp...   \n",
       "3  [https://is1-ssl.mzstatic.com/image/thumb/Purp...   \n",
       "4  [https://is1-ssl.mzstatic.com/image/thumb/Purp...   \n",
       "\n",
       "                                  ipadScreenshotUrls appletvScreenshotUrls  \\\n",
       "0                                                 []                    []   \n",
       "1                                                 []                    []   \n",
       "2  [https://is1-ssl.mzstatic.com/image/thumb/Purp...                    []   \n",
       "3  [https://is1-ssl.mzstatic.com/image/thumb/Purp...                    []   \n",
       "4  [https://is1-ssl.mzstatic.com/image/thumb/Purp...                    []   \n",
       "\n",
       "                                       artworkUrl512      trackCensoredName  \\\n",
       "0  https://is1-ssl.mzstatic.com/image/thumb/Purpl...  Squid Game: Unleashed   \n",
       "1  https://is1-ssl.mzstatic.com/image/thumb/Purpl...            PUBG MOBILE   \n",
       "2  https://is1-ssl.mzstatic.com/image/thumb/Purpl...                Hay Day   \n",
       "3  https://is1-ssl.mzstatic.com/image/thumb/Purpl...               Township   \n",
       "4  https://is1-ssl.mzstatic.com/image/thumb/Purpl...         Subway Surfers   \n",
       "\n",
       "  contentAdvisoryRating                                       trackViewUrl  \\\n",
       "0                   12+  https://apps.apple.com/tr/app/squid-game-unlea...   \n",
       "1                   12+  https://apps.apple.com/tr/app/pubg-mobile/id13...   \n",
       "2                    4+  https://apps.apple.com/tr/app/hay-day/id506627...   \n",
       "3                    4+  https://apps.apple.com/tr/app/township/id63868...   \n",
       "4                    9+  https://apps.apple.com/tr/app/subway-surfers/i...   \n",
       "\n",
       "   averageUserRating minimumOsVersion    artistId  \\\n",
       "0               4.51             17.0   363590054   \n",
       "1               4.15             12.0   504515421   \n",
       "2               4.58             12.0   488106216   \n",
       "3               4.73             13.0  1162116447   \n",
       "4               4.46             13.0   471259040   \n",
       "\n",
       "                             artistName  \\\n",
       "0                         Netflix, Inc.   \n",
       "1  Tencent Mobile International Limited   \n",
       "2                             Supercell   \n",
       "3                               Playrix   \n",
       "4                        Sybo Games ApS   \n",
       "\n",
       "                                       genres  price              trackName  \\\n",
       "0                     [Games, Action, Casual]   0.00  Squid Game: Unleashed   \n",
       "1                   [Games, Action, Strategy]   0.00            PUBG MOBILE   \n",
       "2  [Games, Simulation, Family, Entertainment]   0.00                Hay Day   \n",
       "3      [Games, Entertainment, Puzzle, Casual]   0.00               Township   \n",
       "4      [Games, Action, Casual, Entertainment]   0.00         Subway Surfers   \n",
       "\n",
       "      trackId                       bundleId currentVersionReleaseDate  \\\n",
       "0  6498719476  com.netflix.NGP.ProjectKraken      2025-08-25T15:30:14Z   \n",
       "1  1330123889                 com.tencent.ig      2025-07-08T10:00:20Z   \n",
       "2   506627515             com.supercell.soil      2025-07-07T14:42:53Z   \n",
       "3   638689075       com.playrix.township-ios      2025-08-08T16:10:59Z   \n",
       "4   512939461        com.kiloo.subwaysurfers      2025-08-27T07:13:37Z   \n",
       "\n",
       "                                        releaseNotes           releaseDate  \\\n",
       "0  We've squashed bugs and made behind-the-scenes...  2024-12-17T08:00:00Z   \n",
       "1  PUBG MOBILE × Transformers is here!\\n\\nClassic...  2018-03-19T17:13:23Z   \n",
       "2  Hay Day turns 13, and everyone’s invited to th...  2012-06-21T08:10:22Z   \n",
       "3  Get ready for a new update!\\nNew adventures in...  2013-10-23T17:29:00Z   \n",
       "4  - It’s time to wrap up summer in style as the ...  2012-05-24T07:00:00Z   \n",
       "\n",
       "                   genreIds primaryGenreName  primaryGenreId  \\\n",
       "0        [6014, 7001, 7003]            Games            6014   \n",
       "1        [6014, 7001, 7017]            Games            6014   \n",
       "2  [6014, 7015, 7009, 6016]            Games            6014   \n",
       "3  [6014, 6016, 7012, 7003]            Games            6014   \n",
       "4  [6014, 7001, 7003, 6016]            Games            6014   \n",
       "\n",
       "                             sellerName  isVppDeviceBasedLicensingEnabled  \\\n",
       "0                         Netflix, Inc.                              True   \n",
       "1  Tencent Mobile International Limited                              True   \n",
       "2                          Supercell Oy                              True   \n",
       "3           PLR Worldwide Sales Limited                              True   \n",
       "4                        Sybo Games ApS                              True   \n",
       "\n",
       "     version wrapperType currency  \\\n",
       "0  0.0.15414    software      TRY   \n",
       "1      3.9.0    software      TRY   \n",
       "2   1.66.159    software      TRY   \n",
       "3     29.1.0    software      TRY   \n",
       "4     3.51.1    software      TRY   \n",
       "\n",
       "                                         description  \\\n",
       "0  NO NETFLIX MEMBERSHIP REQUIRED.\\nEveryone is w...   \n",
       "1  【Epic battle royale masterpiece】\\nLots of even...   \n",
       "2  Welcome to Hay Day. Build a farm, fish, raise ...   \n",
       "3  BUILD YOUR DREAM TOWN!\\n\\nWelcome to Township,...   \n",
       "4  DASH as fast as you can!\\nDODGE the oncoming t...   \n",
       "\n",
       "   averageUserRatingForCurrentVersion  \\\n",
       "0                                4.51   \n",
       "1                                4.15   \n",
       "2                                4.58   \n",
       "3                                4.73   \n",
       "4                                4.46   \n",
       "\n",
       "                                  languageCodesISO2A fileSizeBytes  \\\n",
       "0   [EN, FR, DE, ID, IT, JA, KO, PL, PT, ES, ZH, TR]    2036348928   \n",
       "1  [AR, EN, FR, DE, HI, ID, PT, RU, ZH, ES, TH, Z...    3942322176   \n",
       "2  [AR, DA, NL, EN, FI, FR, DE, ID, IT, JA, KO, M...     558282752   \n",
       "3  [AR, NL, EN, FR, DE, ID, IT, JA, KO, PT, RU, Z...     250808320   \n",
       "4  [NL, EN, FR, DE, ID, IT, JA, KO, PT, RU, ZH, E...     317793280   \n",
       "\n",
       "  formattedPrice  userRatingCountForCurrentVersion trackContentRating  \\\n",
       "0           Free                              4424                12+   \n",
       "1           Free                            642041                12+   \n",
       "2           Free                            132920                 4+   \n",
       "3           Free                            110254                 4+   \n",
       "4           Free                            280971                 9+   \n",
       "\n",
       "   userRatingCount category_search  \\\n",
       "0             4424           games   \n",
       "1           642041           games   \n",
       "2           132920           games   \n",
       "3           110254           games   \n",
       "4           280971           games   \n",
       "\n",
       "                                       sellerUrl  \n",
       "0                                            NaN  \n",
       "1                                            NaN  \n",
       "2  https://help.supercellsupport.com/hay-day/en/  \n",
       "3    https://www.playrix.com/township/index.html  \n",
       "4                         https://sybogames.com/  "
      ]
     },
     "execution_count": 5,
     "metadata": {},
     "output_type": "execute_result"
    }
   ],
   "source": [
    "df_api.head()"
   ]
  },
  {
   "cell_type": "markdown",
   "metadata": {},
   "source": [
    "## 3. Veri Yapısı İncelemesi"
   ]
  },
  {
   "cell_type": "markdown",
   "metadata": {},
   "source": [
    "### 3.1 AppleStore.csv Veri Yapısı"
   ]
  },
  {
   "cell_type": "code",
   "execution_count": 6,
   "metadata": {},
   "outputs": [
    {
     "name": "stdout",
     "output_type": "stream",
     "text": [
      "📊 AppleStore.csv Veri Yapısı\n",
      "==================================================\n",
      "\n",
      "Boyut: (7197, 17)\n",
      "\n",
      "Sütunlar:\n",
      "  - Unnamed: 0: int64 (Eksik: 0, Benzersiz: 7197)\n",
      "  - id: int64 (Eksik: 0, Benzersiz: 7197)\n",
      "  - track_name: object (Eksik: 0, Benzersiz: 7195)\n",
      "  - size_bytes: int64 (Eksik: 0, Benzersiz: 7107)\n",
      "  - currency: object (Eksik: 0, Benzersiz: 1)\n",
      "  - price: float64 (Eksik: 0, Benzersiz: 36)\n",
      "  - rating_count_tot: int64 (Eksik: 0, Benzersiz: 3185)\n",
      "  - rating_count_ver: int64 (Eksik: 0, Benzersiz: 1138)\n",
      "  - user_rating: float64 (Eksik: 0, Benzersiz: 10)\n",
      "  - user_rating_ver: float64 (Eksik: 0, Benzersiz: 10)\n",
      "  - ver: object (Eksik: 0, Benzersiz: 1590)\n",
      "  - cont_rating: object (Eksik: 0, Benzersiz: 4)\n",
      "  - prime_genre: object (Eksik: 0, Benzersiz: 23)\n",
      "  - sup_devices.num: int64 (Eksik: 0, Benzersiz: 20)\n",
      "  - ipadSc_urls.num: int64 (Eksik: 0, Benzersiz: 6)\n",
      "  - lang.num: int64 (Eksik: 0, Benzersiz: 57)\n",
      "  - vpp_lic: int64 (Eksik: 0, Benzersiz: 2)\n",
      "\n",
      "İlk 5 satır:\n"
     ]
    },
    {
     "data": {
      "text/html": [
       "<div>\n",
       "<style scoped>\n",
       "    .dataframe tbody tr th:only-of-type {\n",
       "        vertical-align: middle;\n",
       "    }\n",
       "\n",
       "    .dataframe tbody tr th {\n",
       "        vertical-align: top;\n",
       "    }\n",
       "\n",
       "    .dataframe thead th {\n",
       "        text-align: right;\n",
       "    }\n",
       "</style>\n",
       "<table border=\"1\" class=\"dataframe\">\n",
       "  <thead>\n",
       "    <tr style=\"text-align: right;\">\n",
       "      <th></th>\n",
       "      <th>Unnamed: 0</th>\n",
       "      <th>id</th>\n",
       "      <th>track_name</th>\n",
       "      <th>size_bytes</th>\n",
       "      <th>currency</th>\n",
       "      <th>price</th>\n",
       "      <th>rating_count_tot</th>\n",
       "      <th>rating_count_ver</th>\n",
       "      <th>user_rating</th>\n",
       "      <th>user_rating_ver</th>\n",
       "      <th>ver</th>\n",
       "      <th>cont_rating</th>\n",
       "      <th>prime_genre</th>\n",
       "      <th>sup_devices.num</th>\n",
       "      <th>ipadSc_urls.num</th>\n",
       "      <th>lang.num</th>\n",
       "      <th>vpp_lic</th>\n",
       "    </tr>\n",
       "  </thead>\n",
       "  <tbody>\n",
       "    <tr>\n",
       "      <th>0</th>\n",
       "      <td>1</td>\n",
       "      <td>281656475</td>\n",
       "      <td>PAC-MAN Premium</td>\n",
       "      <td>100788224</td>\n",
       "      <td>USD</td>\n",
       "      <td>3.99</td>\n",
       "      <td>21292</td>\n",
       "      <td>26</td>\n",
       "      <td>4.00</td>\n",
       "      <td>4.50</td>\n",
       "      <td>6.3.5</td>\n",
       "      <td>4+</td>\n",
       "      <td>Games</td>\n",
       "      <td>38</td>\n",
       "      <td>5</td>\n",
       "      <td>10</td>\n",
       "      <td>1</td>\n",
       "    </tr>\n",
       "    <tr>\n",
       "      <th>1</th>\n",
       "      <td>2</td>\n",
       "      <td>281796108</td>\n",
       "      <td>Evernote - stay organized</td>\n",
       "      <td>158578688</td>\n",
       "      <td>USD</td>\n",
       "      <td>0.00</td>\n",
       "      <td>161065</td>\n",
       "      <td>26</td>\n",
       "      <td>4.00</td>\n",
       "      <td>3.50</td>\n",
       "      <td>8.2.2</td>\n",
       "      <td>4+</td>\n",
       "      <td>Productivity</td>\n",
       "      <td>37</td>\n",
       "      <td>5</td>\n",
       "      <td>23</td>\n",
       "      <td>1</td>\n",
       "    </tr>\n",
       "    <tr>\n",
       "      <th>2</th>\n",
       "      <td>3</td>\n",
       "      <td>281940292</td>\n",
       "      <td>WeatherBug - Local Weather, Radar, Maps, Alerts</td>\n",
       "      <td>100524032</td>\n",
       "      <td>USD</td>\n",
       "      <td>0.00</td>\n",
       "      <td>188583</td>\n",
       "      <td>2822</td>\n",
       "      <td>3.50</td>\n",
       "      <td>4.50</td>\n",
       "      <td>5.0.0</td>\n",
       "      <td>4+</td>\n",
       "      <td>Weather</td>\n",
       "      <td>37</td>\n",
       "      <td>5</td>\n",
       "      <td>3</td>\n",
       "      <td>1</td>\n",
       "    </tr>\n",
       "    <tr>\n",
       "      <th>3</th>\n",
       "      <td>4</td>\n",
       "      <td>282614216</td>\n",
       "      <td>eBay: Best App to Buy, Sell, Save! Online Shop...</td>\n",
       "      <td>128512000</td>\n",
       "      <td>USD</td>\n",
       "      <td>0.00</td>\n",
       "      <td>262241</td>\n",
       "      <td>649</td>\n",
       "      <td>4.00</td>\n",
       "      <td>4.50</td>\n",
       "      <td>5.10.0</td>\n",
       "      <td>12+</td>\n",
       "      <td>Shopping</td>\n",
       "      <td>37</td>\n",
       "      <td>5</td>\n",
       "      <td>9</td>\n",
       "      <td>1</td>\n",
       "    </tr>\n",
       "    <tr>\n",
       "      <th>4</th>\n",
       "      <td>5</td>\n",
       "      <td>282935706</td>\n",
       "      <td>Bible</td>\n",
       "      <td>92774400</td>\n",
       "      <td>USD</td>\n",
       "      <td>0.00</td>\n",
       "      <td>985920</td>\n",
       "      <td>5320</td>\n",
       "      <td>4.50</td>\n",
       "      <td>5.00</td>\n",
       "      <td>7.5.1</td>\n",
       "      <td>4+</td>\n",
       "      <td>Reference</td>\n",
       "      <td>37</td>\n",
       "      <td>5</td>\n",
       "      <td>45</td>\n",
       "      <td>1</td>\n",
       "    </tr>\n",
       "  </tbody>\n",
       "</table>\n",
       "</div>"
      ],
      "text/plain": [
       "   Unnamed: 0         id                                         track_name  \\\n",
       "0           1  281656475                                    PAC-MAN Premium   \n",
       "1           2  281796108                          Evernote - stay organized   \n",
       "2           3  281940292    WeatherBug - Local Weather, Radar, Maps, Alerts   \n",
       "3           4  282614216  eBay: Best App to Buy, Sell, Save! Online Shop...   \n",
       "4           5  282935706                                              Bible   \n",
       "\n",
       "   size_bytes currency  price  rating_count_tot  rating_count_ver  \\\n",
       "0   100788224      USD   3.99             21292                26   \n",
       "1   158578688      USD   0.00            161065                26   \n",
       "2   100524032      USD   0.00            188583              2822   \n",
       "3   128512000      USD   0.00            262241               649   \n",
       "4    92774400      USD   0.00            985920              5320   \n",
       "\n",
       "   user_rating  user_rating_ver     ver cont_rating   prime_genre  \\\n",
       "0         4.00             4.50   6.3.5          4+         Games   \n",
       "1         4.00             3.50   8.2.2          4+  Productivity   \n",
       "2         3.50             4.50   5.0.0          4+       Weather   \n",
       "3         4.00             4.50  5.10.0         12+      Shopping   \n",
       "4         4.50             5.00   7.5.1          4+     Reference   \n",
       "\n",
       "   sup_devices.num  ipadSc_urls.num  lang.num  vpp_lic  \n",
       "0               38                5        10        1  \n",
       "1               37                5        23        1  \n",
       "2               37                5         3        1  \n",
       "3               37                5         9        1  \n",
       "4               37                5        45        1  "
      ]
     },
     "execution_count": 6,
     "metadata": {},
     "output_type": "execute_result"
    }
   ],
   "source": [
    "print('📊 AppleStore.csv Veri Yapısı')\n",
    "print('='*50)\n",
    "print(f'\\nBoyut: {df_apps.shape}')\n",
    "print(f'\\nSütunlar:')\n",
    "for col in df_apps.columns:\n",
    "    dtype = df_apps[col].dtype\n",
    "    null_count = df_apps[col].isnull().sum()\n",
    "    unique_count = df_apps[col].nunique()\n",
    "    print(f'  - {col}: {dtype} (Eksik: {null_count}, Benzersiz: {unique_count})')\n",
    "\n",
    "print('\\nİlk 5 satır:')\n",
    "df_apps.head()"
   ]
  },
  {
   "cell_type": "markdown",
   "metadata": {},
   "source": [
    "### 3.2 Temel İstatistikler"
   ]
  },
  {
   "cell_type": "code",
   "execution_count": 7,
   "metadata": {},
   "outputs": [
    {
     "name": "stdout",
     "output_type": "stream",
     "text": [
      "📈 Sayısal Değişken İstatistikleri\n",
      "==================================================\n"
     ]
    },
    {
     "data": {
      "text/html": [
       "<div>\n",
       "<style scoped>\n",
       "    .dataframe tbody tr th:only-of-type {\n",
       "        vertical-align: middle;\n",
       "    }\n",
       "\n",
       "    .dataframe tbody tr th {\n",
       "        vertical-align: top;\n",
       "    }\n",
       "\n",
       "    .dataframe thead th {\n",
       "        text-align: right;\n",
       "    }\n",
       "</style>\n",
       "<table border=\"1\" class=\"dataframe\">\n",
       "  <thead>\n",
       "    <tr style=\"text-align: right;\">\n",
       "      <th></th>\n",
       "      <th>Unnamed: 0</th>\n",
       "      <th>id</th>\n",
       "      <th>size_bytes</th>\n",
       "      <th>price</th>\n",
       "      <th>rating_count_tot</th>\n",
       "      <th>rating_count_ver</th>\n",
       "      <th>user_rating</th>\n",
       "      <th>user_rating_ver</th>\n",
       "      <th>sup_devices.num</th>\n",
       "      <th>ipadSc_urls.num</th>\n",
       "      <th>lang.num</th>\n",
       "      <th>vpp_lic</th>\n",
       "    </tr>\n",
       "  </thead>\n",
       "  <tbody>\n",
       "    <tr>\n",
       "      <th>count</th>\n",
       "      <td>7197.00</td>\n",
       "      <td>7197.00</td>\n",
       "      <td>7197.00</td>\n",
       "      <td>7197.00</td>\n",
       "      <td>7197.00</td>\n",
       "      <td>7197.00</td>\n",
       "      <td>7197.00</td>\n",
       "      <td>7197.00</td>\n",
       "      <td>7197.00</td>\n",
       "      <td>7197.00</td>\n",
       "      <td>7197.00</td>\n",
       "      <td>7197.00</td>\n",
       "    </tr>\n",
       "    <tr>\n",
       "      <th>mean</th>\n",
       "      <td>4759.07</td>\n",
       "      <td>863130997.45</td>\n",
       "      <td>199134453.83</td>\n",
       "      <td>1.73</td>\n",
       "      <td>12892.91</td>\n",
       "      <td>460.37</td>\n",
       "      <td>3.53</td>\n",
       "      <td>3.25</td>\n",
       "      <td>37.36</td>\n",
       "      <td>3.71</td>\n",
       "      <td>5.43</td>\n",
       "      <td>0.99</td>\n",
       "    </tr>\n",
       "    <tr>\n",
       "      <th>std</th>\n",
       "      <td>3093.63</td>\n",
       "      <td>271236755.89</td>\n",
       "      <td>359206913.54</td>\n",
       "      <td>5.83</td>\n",
       "      <td>75739.41</td>\n",
       "      <td>3920.46</td>\n",
       "      <td>1.52</td>\n",
       "      <td>1.81</td>\n",
       "      <td>3.74</td>\n",
       "      <td>1.99</td>\n",
       "      <td>7.92</td>\n",
       "      <td>0.08</td>\n",
       "    </tr>\n",
       "    <tr>\n",
       "      <th>min</th>\n",
       "      <td>1.00</td>\n",
       "      <td>281656475.00</td>\n",
       "      <td>589824.00</td>\n",
       "      <td>0.00</td>\n",
       "      <td>0.00</td>\n",
       "      <td>0.00</td>\n",
       "      <td>0.00</td>\n",
       "      <td>0.00</td>\n",
       "      <td>9.00</td>\n",
       "      <td>0.00</td>\n",
       "      <td>0.00</td>\n",
       "      <td>0.00</td>\n",
       "    </tr>\n",
       "    <tr>\n",
       "      <th>25%</th>\n",
       "      <td>2090.00</td>\n",
       "      <td>600093661.00</td>\n",
       "      <td>46922752.00</td>\n",
       "      <td>0.00</td>\n",
       "      <td>28.00</td>\n",
       "      <td>1.00</td>\n",
       "      <td>3.50</td>\n",
       "      <td>2.50</td>\n",
       "      <td>37.00</td>\n",
       "      <td>3.00</td>\n",
       "      <td>1.00</td>\n",
       "      <td>1.00</td>\n",
       "    </tr>\n",
       "    <tr>\n",
       "      <th>50%</th>\n",
       "      <td>4380.00</td>\n",
       "      <td>978148241.00</td>\n",
       "      <td>97153024.00</td>\n",
       "      <td>0.00</td>\n",
       "      <td>300.00</td>\n",
       "      <td>23.00</td>\n",
       "      <td>4.00</td>\n",
       "      <td>4.00</td>\n",
       "      <td>37.00</td>\n",
       "      <td>5.00</td>\n",
       "      <td>1.00</td>\n",
       "      <td>1.00</td>\n",
       "    </tr>\n",
       "    <tr>\n",
       "      <th>75%</th>\n",
       "      <td>7223.00</td>\n",
       "      <td>1082309664.00</td>\n",
       "      <td>181924864.00</td>\n",
       "      <td>1.99</td>\n",
       "      <td>2793.00</td>\n",
       "      <td>140.00</td>\n",
       "      <td>4.50</td>\n",
       "      <td>4.50</td>\n",
       "      <td>38.00</td>\n",
       "      <td>5.00</td>\n",
       "      <td>8.00</td>\n",
       "      <td>1.00</td>\n",
       "    </tr>\n",
       "    <tr>\n",
       "      <th>max</th>\n",
       "      <td>11097.00</td>\n",
       "      <td>1188375727.00</td>\n",
       "      <td>4025969664.00</td>\n",
       "      <td>299.99</td>\n",
       "      <td>2974676.00</td>\n",
       "      <td>177050.00</td>\n",
       "      <td>5.00</td>\n",
       "      <td>5.00</td>\n",
       "      <td>47.00</td>\n",
       "      <td>5.00</td>\n",
       "      <td>75.00</td>\n",
       "      <td>1.00</td>\n",
       "    </tr>\n",
       "  </tbody>\n",
       "</table>\n",
       "</div>"
      ],
      "text/plain": [
       "       Unnamed: 0            id    size_bytes   price  rating_count_tot  \\\n",
       "count     7197.00       7197.00       7197.00 7197.00           7197.00   \n",
       "mean      4759.07  863130997.45  199134453.83    1.73          12892.91   \n",
       "std       3093.63  271236755.89  359206913.54    5.83          75739.41   \n",
       "min          1.00  281656475.00     589824.00    0.00              0.00   \n",
       "25%       2090.00  600093661.00   46922752.00    0.00             28.00   \n",
       "50%       4380.00  978148241.00   97153024.00    0.00            300.00   \n",
       "75%       7223.00 1082309664.00  181924864.00    1.99           2793.00   \n",
       "max      11097.00 1188375727.00 4025969664.00  299.99        2974676.00   \n",
       "\n",
       "       rating_count_ver  user_rating  user_rating_ver  sup_devices.num  \\\n",
       "count           7197.00      7197.00          7197.00          7197.00   \n",
       "mean             460.37         3.53             3.25            37.36   \n",
       "std             3920.46         1.52             1.81             3.74   \n",
       "min                0.00         0.00             0.00             9.00   \n",
       "25%                1.00         3.50             2.50            37.00   \n",
       "50%               23.00         4.00             4.00            37.00   \n",
       "75%              140.00         4.50             4.50            38.00   \n",
       "max           177050.00         5.00             5.00            47.00   \n",
       "\n",
       "       ipadSc_urls.num  lang.num  vpp_lic  \n",
       "count          7197.00   7197.00  7197.00  \n",
       "mean              3.71      5.43     0.99  \n",
       "std               1.99      7.92     0.08  \n",
       "min               0.00      0.00     0.00  \n",
       "25%               3.00      1.00     1.00  \n",
       "50%               5.00      1.00     1.00  \n",
       "75%               5.00      8.00     1.00  \n",
       "max               5.00     75.00     1.00  "
      ]
     },
     "execution_count": 7,
     "metadata": {},
     "output_type": "execute_result"
    }
   ],
   "source": [
    "# Sayısal değişkenler için istatistikler\n",
    "print('📈 Sayısal Değişken İstatistikleri')\n",
    "print('='*50)\n",
    "df_apps.describe()"
   ]
  },
  {
   "cell_type": "code",
   "execution_count": 8,
   "metadata": {},
   "outputs": [
    {
     "name": "stdout",
     "output_type": "stream",
     "text": [
      "🏷️ Kategorik Değişken Dağılımları\n",
      "==================================================\n",
      "\n",
      "PRIME_GENRE Dağılımı:\n",
      "prime_genre\n",
      "Games                3862\n",
      "Entertainment         535\n",
      "Education             453\n",
      "Photo & Video         349\n",
      "Utilities             248\n",
      "Health & Fitness      180\n",
      "Productivity          178\n",
      "Social Networking     167\n",
      "Lifestyle             144\n",
      "Music                 138\n",
      "Name: count, dtype: int64\n",
      "Toplam benzersiz değer: 23\n",
      "\n",
      "CONT_RATING Dağılımı:\n",
      "cont_rating\n",
      "4+     4433\n",
      "12+    1155\n",
      "9+      987\n",
      "17+     622\n",
      "Name: count, dtype: int64\n",
      "Toplam benzersiz değer: 4\n",
      "\n",
      "CURRENCY Dağılımı:\n",
      "currency\n",
      "USD    7197\n",
      "Name: count, dtype: int64\n",
      "Toplam benzersiz değer: 1\n"
     ]
    }
   ],
   "source": [
    "# Kategorik değişkenler\n",
    "print('🏷️ Kategorik Değişken Dağılımları')\n",
    "print('='*50)\n",
    "\n",
    "categorical_cols = ['prime_genre', 'cont_rating', 'currency']\n",
    "for col in categorical_cols:\n",
    "    if col in df_apps.columns:\n",
    "        print(f'\\n{col.upper()} Dağılımı:')\n",
    "        print(df_apps[col].value_counts().head(10))\n",
    "        print(f'Toplam benzersiz değer: {df_apps[col].nunique()}')"
   ]
  },
  {
   "cell_type": "markdown",
   "metadata": {},
   "source": [
    "## 4. Veri Görselleştirmeleri"
   ]
  },
  {
   "cell_type": "markdown",
   "metadata": {},
   "source": [
    "### 4.1 Kategori Dağılımı"
   ]
  },
  {
   "cell_type": "code",
   "execution_count": 9,
   "metadata": {},
   "outputs": [
    {
     "data": {
      "application/vnd.plotly.v1+json": {
       "config": {
        "plotlyServerURL": "https://plot.ly"
       },
       "data": [
        {
         "hovertemplate": "Uygulama Sayısı=%{x}<br>Kategori=%{y}<br>color=%{marker.color}<extra></extra>",
         "legendgroup": "",
         "marker": {
          "color": {
           "bdata": "Fg8XAsUBXQH4ALQAsgCnAJAAigB6AHIAcABoAFEA",
           "dtype": "i2"
          },
          "coloraxis": "coloraxis",
          "pattern": {
           "shape": ""
          }
         },
         "name": "",
         "orientation": "h",
         "showlegend": false,
         "textposition": "auto",
         "type": "bar",
         "x": {
          "bdata": "Fg8XAsUBXQH4ALQAsgCnAJAAigB6AHIAcABoAFEA",
          "dtype": "i2"
         },
         "xaxis": "x",
         "y": [
          "Games",
          "Entertainment",
          "Education",
          "Photo & Video",
          "Utilities",
          "Health & Fitness",
          "Productivity",
          "Social Networking",
          "Lifestyle",
          "Music",
          "Shopping",
          "Sports",
          "Book",
          "Finance",
          "Travel"
         ],
         "yaxis": "y"
        }
       ],
       "layout": {
        "barmode": "relative",
        "coloraxis": {
         "colorbar": {
          "title": {
           "text": "color"
          }
         },
         "colorscale": [
          [
           0,
           "#440154"
          ],
          [
           0.1111111111111111,
           "#482878"
          ],
          [
           0.2222222222222222,
           "#3e4989"
          ],
          [
           0.3333333333333333,
           "#31688e"
          ],
          [
           0.4444444444444444,
           "#26828e"
          ],
          [
           0.5555555555555556,
           "#1f9e89"
          ],
          [
           0.6666666666666666,
           "#35b779"
          ],
          [
           0.7777777777777778,
           "#6ece58"
          ],
          [
           0.8888888888888888,
           "#b5de2b"
          ],
          [
           1,
           "#fde725"
          ]
         ]
        },
        "font": {
         "size": 12
        },
        "height": 600,
        "hovermode": "y unified",
        "legend": {
         "tracegroupgap": 0
        },
        "showlegend": false,
        "template": {
         "data": {
          "bar": [
           {
            "error_x": {
             "color": "#2a3f5f"
            },
            "error_y": {
             "color": "#2a3f5f"
            },
            "marker": {
             "line": {
              "color": "#E5ECF6",
              "width": 0.5
             },
             "pattern": {
              "fillmode": "overlay",
              "size": 10,
              "solidity": 0.2
             }
            },
            "type": "bar"
           }
          ],
          "barpolar": [
           {
            "marker": {
             "line": {
              "color": "#E5ECF6",
              "width": 0.5
             },
             "pattern": {
              "fillmode": "overlay",
              "size": 10,
              "solidity": 0.2
             }
            },
            "type": "barpolar"
           }
          ],
          "carpet": [
           {
            "aaxis": {
             "endlinecolor": "#2a3f5f",
             "gridcolor": "white",
             "linecolor": "white",
             "minorgridcolor": "white",
             "startlinecolor": "#2a3f5f"
            },
            "baxis": {
             "endlinecolor": "#2a3f5f",
             "gridcolor": "white",
             "linecolor": "white",
             "minorgridcolor": "white",
             "startlinecolor": "#2a3f5f"
            },
            "type": "carpet"
           }
          ],
          "choropleth": [
           {
            "colorbar": {
             "outlinewidth": 0,
             "ticks": ""
            },
            "type": "choropleth"
           }
          ],
          "contour": [
           {
            "colorbar": {
             "outlinewidth": 0,
             "ticks": ""
            },
            "colorscale": [
             [
              0,
              "#0d0887"
             ],
             [
              0.1111111111111111,
              "#46039f"
             ],
             [
              0.2222222222222222,
              "#7201a8"
             ],
             [
              0.3333333333333333,
              "#9c179e"
             ],
             [
              0.4444444444444444,
              "#bd3786"
             ],
             [
              0.5555555555555556,
              "#d8576b"
             ],
             [
              0.6666666666666666,
              "#ed7953"
             ],
             [
              0.7777777777777778,
              "#fb9f3a"
             ],
             [
              0.8888888888888888,
              "#fdca26"
             ],
             [
              1,
              "#f0f921"
             ]
            ],
            "type": "contour"
           }
          ],
          "contourcarpet": [
           {
            "colorbar": {
             "outlinewidth": 0,
             "ticks": ""
            },
            "type": "contourcarpet"
           }
          ],
          "heatmap": [
           {
            "colorbar": {
             "outlinewidth": 0,
             "ticks": ""
            },
            "colorscale": [
             [
              0,
              "#0d0887"
             ],
             [
              0.1111111111111111,
              "#46039f"
             ],
             [
              0.2222222222222222,
              "#7201a8"
             ],
             [
              0.3333333333333333,
              "#9c179e"
             ],
             [
              0.4444444444444444,
              "#bd3786"
             ],
             [
              0.5555555555555556,
              "#d8576b"
             ],
             [
              0.6666666666666666,
              "#ed7953"
             ],
             [
              0.7777777777777778,
              "#fb9f3a"
             ],
             [
              0.8888888888888888,
              "#fdca26"
             ],
             [
              1,
              "#f0f921"
             ]
            ],
            "type": "heatmap"
           }
          ],
          "histogram": [
           {
            "marker": {
             "pattern": {
              "fillmode": "overlay",
              "size": 10,
              "solidity": 0.2
             }
            },
            "type": "histogram"
           }
          ],
          "histogram2d": [
           {
            "colorbar": {
             "outlinewidth": 0,
             "ticks": ""
            },
            "colorscale": [
             [
              0,
              "#0d0887"
             ],
             [
              0.1111111111111111,
              "#46039f"
             ],
             [
              0.2222222222222222,
              "#7201a8"
             ],
             [
              0.3333333333333333,
              "#9c179e"
             ],
             [
              0.4444444444444444,
              "#bd3786"
             ],
             [
              0.5555555555555556,
              "#d8576b"
             ],
             [
              0.6666666666666666,
              "#ed7953"
             ],
             [
              0.7777777777777778,
              "#fb9f3a"
             ],
             [
              0.8888888888888888,
              "#fdca26"
             ],
             [
              1,
              "#f0f921"
             ]
            ],
            "type": "histogram2d"
           }
          ],
          "histogram2dcontour": [
           {
            "colorbar": {
             "outlinewidth": 0,
             "ticks": ""
            },
            "colorscale": [
             [
              0,
              "#0d0887"
             ],
             [
              0.1111111111111111,
              "#46039f"
             ],
             [
              0.2222222222222222,
              "#7201a8"
             ],
             [
              0.3333333333333333,
              "#9c179e"
             ],
             [
              0.4444444444444444,
              "#bd3786"
             ],
             [
              0.5555555555555556,
              "#d8576b"
             ],
             [
              0.6666666666666666,
              "#ed7953"
             ],
             [
              0.7777777777777778,
              "#fb9f3a"
             ],
             [
              0.8888888888888888,
              "#fdca26"
             ],
             [
              1,
              "#f0f921"
             ]
            ],
            "type": "histogram2dcontour"
           }
          ],
          "mesh3d": [
           {
            "colorbar": {
             "outlinewidth": 0,
             "ticks": ""
            },
            "type": "mesh3d"
           }
          ],
          "parcoords": [
           {
            "line": {
             "colorbar": {
              "outlinewidth": 0,
              "ticks": ""
             }
            },
            "type": "parcoords"
           }
          ],
          "pie": [
           {
            "automargin": true,
            "type": "pie"
           }
          ],
          "scatter": [
           {
            "fillpattern": {
             "fillmode": "overlay",
             "size": 10,
             "solidity": 0.2
            },
            "type": "scatter"
           }
          ],
          "scatter3d": [
           {
            "line": {
             "colorbar": {
              "outlinewidth": 0,
              "ticks": ""
             }
            },
            "marker": {
             "colorbar": {
              "outlinewidth": 0,
              "ticks": ""
             }
            },
            "type": "scatter3d"
           }
          ],
          "scattercarpet": [
           {
            "marker": {
             "colorbar": {
              "outlinewidth": 0,
              "ticks": ""
             }
            },
            "type": "scattercarpet"
           }
          ],
          "scattergeo": [
           {
            "marker": {
             "colorbar": {
              "outlinewidth": 0,
              "ticks": ""
             }
            },
            "type": "scattergeo"
           }
          ],
          "scattergl": [
           {
            "marker": {
             "colorbar": {
              "outlinewidth": 0,
              "ticks": ""
             }
            },
            "type": "scattergl"
           }
          ],
          "scattermap": [
           {
            "marker": {
             "colorbar": {
              "outlinewidth": 0,
              "ticks": ""
             }
            },
            "type": "scattermap"
           }
          ],
          "scattermapbox": [
           {
            "marker": {
             "colorbar": {
              "outlinewidth": 0,
              "ticks": ""
             }
            },
            "type": "scattermapbox"
           }
          ],
          "scatterpolar": [
           {
            "marker": {
             "colorbar": {
              "outlinewidth": 0,
              "ticks": ""
             }
            },
            "type": "scatterpolar"
           }
          ],
          "scatterpolargl": [
           {
            "marker": {
             "colorbar": {
              "outlinewidth": 0,
              "ticks": ""
             }
            },
            "type": "scatterpolargl"
           }
          ],
          "scatterternary": [
           {
            "marker": {
             "colorbar": {
              "outlinewidth": 0,
              "ticks": ""
             }
            },
            "type": "scatterternary"
           }
          ],
          "surface": [
           {
            "colorbar": {
             "outlinewidth": 0,
             "ticks": ""
            },
            "colorscale": [
             [
              0,
              "#0d0887"
             ],
             [
              0.1111111111111111,
              "#46039f"
             ],
             [
              0.2222222222222222,
              "#7201a8"
             ],
             [
              0.3333333333333333,
              "#9c179e"
             ],
             [
              0.4444444444444444,
              "#bd3786"
             ],
             [
              0.5555555555555556,
              "#d8576b"
             ],
             [
              0.6666666666666666,
              "#ed7953"
             ],
             [
              0.7777777777777778,
              "#fb9f3a"
             ],
             [
              0.8888888888888888,
              "#fdca26"
             ],
             [
              1,
              "#f0f921"
             ]
            ],
            "type": "surface"
           }
          ],
          "table": [
           {
            "cells": {
             "fill": {
              "color": "#EBF0F8"
             },
             "line": {
              "color": "white"
             }
            },
            "header": {
             "fill": {
              "color": "#C8D4E3"
             },
             "line": {
              "color": "white"
             }
            },
            "type": "table"
           }
          ]
         },
         "layout": {
          "annotationdefaults": {
           "arrowcolor": "#2a3f5f",
           "arrowhead": 0,
           "arrowwidth": 1
          },
          "autotypenumbers": "strict",
          "coloraxis": {
           "colorbar": {
            "outlinewidth": 0,
            "ticks": ""
           }
          },
          "colorscale": {
           "diverging": [
            [
             0,
             "#8e0152"
            ],
            [
             0.1,
             "#c51b7d"
            ],
            [
             0.2,
             "#de77ae"
            ],
            [
             0.3,
             "#f1b6da"
            ],
            [
             0.4,
             "#fde0ef"
            ],
            [
             0.5,
             "#f7f7f7"
            ],
            [
             0.6,
             "#e6f5d0"
            ],
            [
             0.7,
             "#b8e186"
            ],
            [
             0.8,
             "#7fbc41"
            ],
            [
             0.9,
             "#4d9221"
            ],
            [
             1,
             "#276419"
            ]
           ],
           "sequential": [
            [
             0,
             "#0d0887"
            ],
            [
             0.1111111111111111,
             "#46039f"
            ],
            [
             0.2222222222222222,
             "#7201a8"
            ],
            [
             0.3333333333333333,
             "#9c179e"
            ],
            [
             0.4444444444444444,
             "#bd3786"
            ],
            [
             0.5555555555555556,
             "#d8576b"
            ],
            [
             0.6666666666666666,
             "#ed7953"
            ],
            [
             0.7777777777777778,
             "#fb9f3a"
            ],
            [
             0.8888888888888888,
             "#fdca26"
            ],
            [
             1,
             "#f0f921"
            ]
           ],
           "sequentialminus": [
            [
             0,
             "#0d0887"
            ],
            [
             0.1111111111111111,
             "#46039f"
            ],
            [
             0.2222222222222222,
             "#7201a8"
            ],
            [
             0.3333333333333333,
             "#9c179e"
            ],
            [
             0.4444444444444444,
             "#bd3786"
            ],
            [
             0.5555555555555556,
             "#d8576b"
            ],
            [
             0.6666666666666666,
             "#ed7953"
            ],
            [
             0.7777777777777778,
             "#fb9f3a"
            ],
            [
             0.8888888888888888,
             "#fdca26"
            ],
            [
             1,
             "#f0f921"
            ]
           ]
          },
          "colorway": [
           "#636efa",
           "#EF553B",
           "#00cc96",
           "#ab63fa",
           "#FFA15A",
           "#19d3f3",
           "#FF6692",
           "#B6E880",
           "#FF97FF",
           "#FECB52"
          ],
          "font": {
           "color": "#2a3f5f"
          },
          "geo": {
           "bgcolor": "white",
           "lakecolor": "white",
           "landcolor": "#E5ECF6",
           "showlakes": true,
           "showland": true,
           "subunitcolor": "white"
          },
          "hoverlabel": {
           "align": "left"
          },
          "hovermode": "closest",
          "mapbox": {
           "style": "light"
          },
          "paper_bgcolor": "white",
          "plot_bgcolor": "#E5ECF6",
          "polar": {
           "angularaxis": {
            "gridcolor": "white",
            "linecolor": "white",
            "ticks": ""
           },
           "bgcolor": "#E5ECF6",
           "radialaxis": {
            "gridcolor": "white",
            "linecolor": "white",
            "ticks": ""
           }
          },
          "scene": {
           "xaxis": {
            "backgroundcolor": "#E5ECF6",
            "gridcolor": "white",
            "gridwidth": 2,
            "linecolor": "white",
            "showbackground": true,
            "ticks": "",
            "zerolinecolor": "white"
           },
           "yaxis": {
            "backgroundcolor": "#E5ECF6",
            "gridcolor": "white",
            "gridwidth": 2,
            "linecolor": "white",
            "showbackground": true,
            "ticks": "",
            "zerolinecolor": "white"
           },
           "zaxis": {
            "backgroundcolor": "#E5ECF6",
            "gridcolor": "white",
            "gridwidth": 2,
            "linecolor": "white",
            "showbackground": true,
            "ticks": "",
            "zerolinecolor": "white"
           }
          },
          "shapedefaults": {
           "line": {
            "color": "#2a3f5f"
           }
          },
          "ternary": {
           "aaxis": {
            "gridcolor": "white",
            "linecolor": "white",
            "ticks": ""
           },
           "baxis": {
            "gridcolor": "white",
            "linecolor": "white",
            "ticks": ""
           },
           "bgcolor": "#E5ECF6",
           "caxis": {
            "gridcolor": "white",
            "linecolor": "white",
            "ticks": ""
           }
          },
          "title": {
           "x": 0.05
          },
          "xaxis": {
           "automargin": true,
           "gridcolor": "white",
           "linecolor": "white",
           "ticks": "",
           "title": {
            "standoff": 15
           },
           "zerolinecolor": "white",
           "zerolinewidth": 2
          },
          "yaxis": {
           "automargin": true,
           "gridcolor": "white",
           "linecolor": "white",
           "ticks": "",
           "title": {
            "standoff": 15
           },
           "zerolinecolor": "white",
           "zerolinewidth": 2
          }
         }
        },
        "title": {
         "text": "📱 En Popüler 15 App Store Kategorisi"
        },
        "xaxis": {
         "anchor": "y",
         "domain": [
          0,
          1
         ],
         "title": {
          "text": "Uygulama Sayısı"
         }
        },
        "yaxis": {
         "anchor": "x",
         "domain": [
          0,
          1
         ],
         "title": {
          "text": "Kategori"
         }
        }
       }
      }
     },
     "metadata": {},
     "output_type": "display_data"
    }
   ],
   "source": [
    "# Kategori dağılımı\n",
    "category_counts = df_apps['prime_genre'].value_counts().head(15)\n",
    "\n",
    "# Plotly ile interaktif grafik\n",
    "fig = px.bar(\n",
    "    x=category_counts.values,\n",
    "    y=category_counts.index,\n",
    "    orientation='h',\n",
    "    title='📱 En Popüler 15 App Store Kategorisi',\n",
    "    labels={'x': 'Uygulama Sayısı', 'y': 'Kategori'},\n",
    "    color=category_counts.values,\n",
    "    color_continuous_scale='viridis'\n",
    ")\n",
    "\n",
    "fig.update_layout(\n",
    "    height=600,\n",
    "    showlegend=False,\n",
    "    font=dict(size=12),\n",
    "    hovermode='y unified'\n",
    ")\n",
    "\n",
    "fig.show()"
   ]
  },
  {
   "cell_type": "markdown",
   "metadata": {},
   "source": [
    "### 4.2 Fiyat Dağılımı"
   ]
  },
  {
   "cell_type": "code",
   "execution_count": 10,
   "metadata": {},
   "outputs": [
    {
     "data": {
      "application/vnd.plotly.v1+json": {
       "config": {
        "plotlyServerURL": "https://plot.ly"
       },
       "data": [
        {
         "domain": {
          "x": [
           0,
           0.45
          ],
          "y": [
           0,
           1
          ]
         },
         "hole": 0.4,
         "labels": [
          "Ücretsiz",
          "Ücretli"
         ],
         "marker": {
          "colors": [
           "#2ecc71",
           "#e74c3c"
          ]
         },
         "type": "pie",
         "values": [
          4056,
          3141
         ]
        },
        {
         "marker": {
          "color": "#3498db"
         },
         "name": "Fiyat Dağılımı",
         "nbinsx": 30,
         "type": "histogram",
         "x": {
          "bdata": "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",
          "dtype": "f8"
         },
         "xaxis": "x",
         "yaxis": "y"
        }
       ],
       "layout": {
        "annotations": [
         {
          "font": {
           "size": 16
          },
          "showarrow": false,
          "text": "Ücretsiz vs Ücretli Dağılım",
          "x": 0.225,
          "xanchor": "center",
          "xref": "paper",
          "y": 1,
          "yanchor": "bottom",
          "yref": "paper"
         },
         {
          "font": {
           "size": 16
          },
          "showarrow": false,
          "text": "Ücretli Uygulamaların Fiyat Dağılımı",
          "x": 0.775,
          "xanchor": "center",
          "xref": "paper",
          "y": 1,
          "yanchor": "bottom",
          "yref": "paper"
         }
        ],
        "height": 400,
        "showlegend": false,
        "template": {
         "data": {
          "bar": [
           {
            "error_x": {
             "color": "#2a3f5f"
            },
            "error_y": {
             "color": "#2a3f5f"
            },
            "marker": {
             "line": {
              "color": "#E5ECF6",
              "width": 0.5
             },
             "pattern": {
              "fillmode": "overlay",
              "size": 10,
              "solidity": 0.2
             }
            },
            "type": "bar"
           }
          ],
          "barpolar": [
           {
            "marker": {
             "line": {
              "color": "#E5ECF6",
              "width": 0.5
             },
             "pattern": {
              "fillmode": "overlay",
              "size": 10,
              "solidity": 0.2
             }
            },
            "type": "barpolar"
           }
          ],
          "carpet": [
           {
            "aaxis": {
             "endlinecolor": "#2a3f5f",
             "gridcolor": "white",
             "linecolor": "white",
             "minorgridcolor": "white",
             "startlinecolor": "#2a3f5f"
            },
            "baxis": {
             "endlinecolor": "#2a3f5f",
             "gridcolor": "white",
             "linecolor": "white",
             "minorgridcolor": "white",
             "startlinecolor": "#2a3f5f"
            },
            "type": "carpet"
           }
          ],
          "choropleth": [
           {
            "colorbar": {
             "outlinewidth": 0,
             "ticks": ""
            },
            "type": "choropleth"
           }
          ],
          "contour": [
           {
            "colorbar": {
             "outlinewidth": 0,
             "ticks": ""
            },
            "colorscale": [
             [
              0,
              "#0d0887"
             ],
             [
              0.1111111111111111,
              "#46039f"
             ],
             [
              0.2222222222222222,
              "#7201a8"
             ],
             [
              0.3333333333333333,
              "#9c179e"
             ],
             [
              0.4444444444444444,
              "#bd3786"
             ],
             [
              0.5555555555555556,
              "#d8576b"
             ],
             [
              0.6666666666666666,
              "#ed7953"
             ],
             [
              0.7777777777777778,
              "#fb9f3a"
             ],
             [
              0.8888888888888888,
              "#fdca26"
             ],
             [
              1,
              "#f0f921"
             ]
            ],
            "type": "contour"
           }
          ],
          "contourcarpet": [
           {
            "colorbar": {
             "outlinewidth": 0,
             "ticks": ""
            },
            "type": "contourcarpet"
           }
          ],
          "heatmap": [
           {
            "colorbar": {
             "outlinewidth": 0,
             "ticks": ""
            },
            "colorscale": [
             [
              0,
              "#0d0887"
             ],
             [
              0.1111111111111111,
              "#46039f"
             ],
             [
              0.2222222222222222,
              "#7201a8"
             ],
             [
              0.3333333333333333,
              "#9c179e"
             ],
             [
              0.4444444444444444,
              "#bd3786"
             ],
             [
              0.5555555555555556,
              "#d8576b"
             ],
             [
              0.6666666666666666,
              "#ed7953"
             ],
             [
              0.7777777777777778,
              "#fb9f3a"
             ],
             [
              0.8888888888888888,
              "#fdca26"
             ],
             [
              1,
              "#f0f921"
             ]
            ],
            "type": "heatmap"
           }
          ],
          "histogram": [
           {
            "marker": {
             "pattern": {
              "fillmode": "overlay",
              "size": 10,
              "solidity": 0.2
             }
            },
            "type": "histogram"
           }
          ],
          "histogram2d": [
           {
            "colorbar": {
             "outlinewidth": 0,
             "ticks": ""
            },
            "colorscale": [
             [
              0,
              "#0d0887"
             ],
             [
              0.1111111111111111,
              "#46039f"
             ],
             [
              0.2222222222222222,
              "#7201a8"
             ],
             [
              0.3333333333333333,
              "#9c179e"
             ],
             [
              0.4444444444444444,
              "#bd3786"
             ],
             [
              0.5555555555555556,
              "#d8576b"
             ],
             [
              0.6666666666666666,
              "#ed7953"
             ],
             [
              0.7777777777777778,
              "#fb9f3a"
             ],
             [
              0.8888888888888888,
              "#fdca26"
             ],
             [
              1,
              "#f0f921"
             ]
            ],
            "type": "histogram2d"
           }
          ],
          "histogram2dcontour": [
           {
            "colorbar": {
             "outlinewidth": 0,
             "ticks": ""
            },
            "colorscale": [
             [
              0,
              "#0d0887"
             ],
             [
              0.1111111111111111,
              "#46039f"
             ],
             [
              0.2222222222222222,
              "#7201a8"
             ],
             [
              0.3333333333333333,
              "#9c179e"
             ],
             [
              0.4444444444444444,
              "#bd3786"
             ],
             [
              0.5555555555555556,
              "#d8576b"
             ],
             [
              0.6666666666666666,
              "#ed7953"
             ],
             [
              0.7777777777777778,
              "#fb9f3a"
             ],
             [
              0.8888888888888888,
              "#fdca26"
             ],
             [
              1,
              "#f0f921"
             ]
            ],
            "type": "histogram2dcontour"
           }
          ],
          "mesh3d": [
           {
            "colorbar": {
             "outlinewidth": 0,
             "ticks": ""
            },
            "type": "mesh3d"
           }
          ],
          "parcoords": [
           {
            "line": {
             "colorbar": {
              "outlinewidth": 0,
              "ticks": ""
             }
            },
            "type": "parcoords"
           }
          ],
          "pie": [
           {
            "automargin": true,
            "type": "pie"
           }
          ],
          "scatter": [
           {
            "fillpattern": {
             "fillmode": "overlay",
             "size": 10,
             "solidity": 0.2
            },
            "type": "scatter"
           }
          ],
          "scatter3d": [
           {
            "line": {
             "colorbar": {
              "outlinewidth": 0,
              "ticks": ""
             }
            },
            "marker": {
             "colorbar": {
              "outlinewidth": 0,
              "ticks": ""
             }
            },
            "type": "scatter3d"
           }
          ],
          "scattercarpet": [
           {
            "marker": {
             "colorbar": {
              "outlinewidth": 0,
              "ticks": ""
             }
            },
            "type": "scattercarpet"
           }
          ],
          "scattergeo": [
           {
            "marker": {
             "colorbar": {
              "outlinewidth": 0,
              "ticks": ""
             }
            },
            "type": "scattergeo"
           }
          ],
          "scattergl": [
           {
            "marker": {
             "colorbar": {
              "outlinewidth": 0,
              "ticks": ""
             }
            },
            "type": "scattergl"
           }
          ],
          "scattermap": [
           {
            "marker": {
             "colorbar": {
              "outlinewidth": 0,
              "ticks": ""
             }
            },
            "type": "scattermap"
           }
          ],
          "scattermapbox": [
           {
            "marker": {
             "colorbar": {
              "outlinewidth": 0,
              "ticks": ""
             }
            },
            "type": "scattermapbox"
           }
          ],
          "scatterpolar": [
           {
            "marker": {
             "colorbar": {
              "outlinewidth": 0,
              "ticks": ""
             }
            },
            "type": "scatterpolar"
           }
          ],
          "scatterpolargl": [
           {
            "marker": {
             "colorbar": {
              "outlinewidth": 0,
              "ticks": ""
             }
            },
            "type": "scatterpolargl"
           }
          ],
          "scatterternary": [
           {
            "marker": {
             "colorbar": {
              "outlinewidth": 0,
              "ticks": ""
             }
            },
            "type": "scatterternary"
           }
          ],
          "surface": [
           {
            "colorbar": {
             "outlinewidth": 0,
             "ticks": ""
            },
            "colorscale": [
             [
              0,
              "#0d0887"
             ],
             [
              0.1111111111111111,
              "#46039f"
             ],
             [
              0.2222222222222222,
              "#7201a8"
             ],
             [
              0.3333333333333333,
              "#9c179e"
             ],
             [
              0.4444444444444444,
              "#bd3786"
             ],
             [
              0.5555555555555556,
              "#d8576b"
             ],
             [
              0.6666666666666666,
              "#ed7953"
             ],
             [
              0.7777777777777778,
              "#fb9f3a"
             ],
             [
              0.8888888888888888,
              "#fdca26"
             ],
             [
              1,
              "#f0f921"
             ]
            ],
            "type": "surface"
           }
          ],
          "table": [
           {
            "cells": {
             "fill": {
              "color": "#EBF0F8"
             },
             "line": {
              "color": "white"
             }
            },
            "header": {
             "fill": {
              "color": "#C8D4E3"
             },
             "line": {
              "color": "white"
             }
            },
            "type": "table"
           }
          ]
         },
         "layout": {
          "annotationdefaults": {
           "arrowcolor": "#2a3f5f",
           "arrowhead": 0,
           "arrowwidth": 1
          },
          "autotypenumbers": "strict",
          "coloraxis": {
           "colorbar": {
            "outlinewidth": 0,
            "ticks": ""
           }
          },
          "colorscale": {
           "diverging": [
            [
             0,
             "#8e0152"
            ],
            [
             0.1,
             "#c51b7d"
            ],
            [
             0.2,
             "#de77ae"
            ],
            [
             0.3,
             "#f1b6da"
            ],
            [
             0.4,
             "#fde0ef"
            ],
            [
             0.5,
             "#f7f7f7"
            ],
            [
             0.6,
             "#e6f5d0"
            ],
            [
             0.7,
             "#b8e186"
            ],
            [
             0.8,
             "#7fbc41"
            ],
            [
             0.9,
             "#4d9221"
            ],
            [
             1,
             "#276419"
            ]
           ],
           "sequential": [
            [
             0,
             "#0d0887"
            ],
            [
             0.1111111111111111,
             "#46039f"
            ],
            [
             0.2222222222222222,
             "#7201a8"
            ],
            [
             0.3333333333333333,
             "#9c179e"
            ],
            [
             0.4444444444444444,
             "#bd3786"
            ],
            [
             0.5555555555555556,
             "#d8576b"
            ],
            [
             0.6666666666666666,
             "#ed7953"
            ],
            [
             0.7777777777777778,
             "#fb9f3a"
            ],
            [
             0.8888888888888888,
             "#fdca26"
            ],
            [
             1,
             "#f0f921"
            ]
           ],
           "sequentialminus": [
            [
             0,
             "#0d0887"
            ],
            [
             0.1111111111111111,
             "#46039f"
            ],
            [
             0.2222222222222222,
             "#7201a8"
            ],
            [
             0.3333333333333333,
             "#9c179e"
            ],
            [
             0.4444444444444444,
             "#bd3786"
            ],
            [
             0.5555555555555556,
             "#d8576b"
            ],
            [
             0.6666666666666666,
             "#ed7953"
            ],
            [
             0.7777777777777778,
             "#fb9f3a"
            ],
            [
             0.8888888888888888,
             "#fdca26"
            ],
            [
             1,
             "#f0f921"
            ]
           ]
          },
          "colorway": [
           "#636efa",
           "#EF553B",
           "#00cc96",
           "#ab63fa",
           "#FFA15A",
           "#19d3f3",
           "#FF6692",
           "#B6E880",
           "#FF97FF",
           "#FECB52"
          ],
          "font": {
           "color": "#2a3f5f"
          },
          "geo": {
           "bgcolor": "white",
           "lakecolor": "white",
           "landcolor": "#E5ECF6",
           "showlakes": true,
           "showland": true,
           "subunitcolor": "white"
          },
          "hoverlabel": {
           "align": "left"
          },
          "hovermode": "closest",
          "mapbox": {
           "style": "light"
          },
          "paper_bgcolor": "white",
          "plot_bgcolor": "#E5ECF6",
          "polar": {
           "angularaxis": {
            "gridcolor": "white",
            "linecolor": "white",
            "ticks": ""
           },
           "bgcolor": "#E5ECF6",
           "radialaxis": {
            "gridcolor": "white",
            "linecolor": "white",
            "ticks": ""
           }
          },
          "scene": {
           "xaxis": {
            "backgroundcolor": "#E5ECF6",
            "gridcolor": "white",
            "gridwidth": 2,
            "linecolor": "white",
            "showbackground": true,
            "ticks": "",
            "zerolinecolor": "white"
           },
           "yaxis": {
            "backgroundcolor": "#E5ECF6",
            "gridcolor": "white",
            "gridwidth": 2,
            "linecolor": "white",
            "showbackground": true,
            "ticks": "",
            "zerolinecolor": "white"
           },
           "zaxis": {
            "backgroundcolor": "#E5ECF6",
            "gridcolor": "white",
            "gridwidth": 2,
            "linecolor": "white",
            "showbackground": true,
            "ticks": "",
            "zerolinecolor": "white"
           }
          },
          "shapedefaults": {
           "line": {
            "color": "#2a3f5f"
           }
          },
          "ternary": {
           "aaxis": {
            "gridcolor": "white",
            "linecolor": "white",
            "ticks": ""
           },
           "baxis": {
            "gridcolor": "white",
            "linecolor": "white",
            "ticks": ""
           },
           "bgcolor": "#E5ECF6",
           "caxis": {
            "gridcolor": "white",
            "linecolor": "white",
            "ticks": ""
           }
          },
          "title": {
           "x": 0.05
          },
          "xaxis": {
           "automargin": true,
           "gridcolor": "white",
           "linecolor": "white",
           "ticks": "",
           "title": {
            "standoff": 15
           },
           "zerolinecolor": "white",
           "zerolinewidth": 2
          },
          "yaxis": {
           "automargin": true,
           "gridcolor": "white",
           "linecolor": "white",
           "ticks": "",
           "title": {
            "standoff": 15
           },
           "zerolinecolor": "white",
           "zerolinewidth": 2
          }
         }
        },
        "title": {
         "text": "💰 App Store Fiyat Analizi"
        },
        "xaxis": {
         "anchor": "y",
         "domain": [
          0.55,
          1
         ]
        },
        "yaxis": {
         "anchor": "x",
         "domain": [
          0,
          1
         ]
        }
       }
      }
     },
     "metadata": {},
     "output_type": "display_data"
    },
    {
     "name": "stdout",
     "output_type": "stream",
     "text": [
      "📊 Özet İstatistikler:\n",
      "  • Ücretsiz uygulamalar: 4,056 (56.4%)\n",
      "  • Ücretli uygulamalar: 3,141 (43.6%)\n",
      "  • Ortalama fiyat (ücretli): $3.96\n",
      "  • Medyan fiyat (ücretli): $2.99\n",
      "  • En pahalı uygulama: $299.99\n"
     ]
    }
   ],
   "source": [
    "# Ücretsiz vs Ücretli uygulamalar\n",
    "free_apps = df_apps[df_apps['price'] == 0].shape[0]\n",
    "paid_apps = df_apps[df_apps['price'] > 0].shape[0]\n",
    "\n",
    "# Pie chart\n",
    "fig = make_subplots(\n",
    "    rows=1, cols=2,\n",
    "    subplot_titles=('Ücretsiz vs Ücretli Dağılım', 'Ücretli Uygulamaların Fiyat Dağılımı'),\n",
    "    specs=[[{'type': 'pie'}, {'type': 'histogram'}]]\n",
    ")\n",
    "\n",
    "# Pie chart\n",
    "fig.add_trace(\n",
    "    go.Pie(\n",
    "        labels=['Ücretsiz', 'Ücretli'],\n",
    "        values=[free_apps, paid_apps],\n",
    "        hole=0.4,\n",
    "        marker_colors=['#2ecc71', '#e74c3c']\n",
    "    ),\n",
    "    row=1, col=1\n",
    ")\n",
    "\n",
    "# Histogram\n",
    "paid_prices = df_apps[df_apps['price'] > 0]['price']\n",
    "fig.add_trace(\n",
    "    go.Histogram(\n",
    "        x=paid_prices,\n",
    "        nbinsx=30,\n",
    "        name='Fiyat Dağılımı',\n",
    "        marker_color='#3498db'\n",
    "    ),\n",
    "    row=1, col=2\n",
    ")\n",
    "\n",
    "fig.update_layout(\n",
    "    title_text='💰 App Store Fiyat Analizi',\n",
    "    height=400,\n",
    "    showlegend=False\n",
    ")\n",
    "\n",
    "fig.show()\n",
    "\n",
    "print(f'📊 Özet İstatistikler:')\n",
    "print(f'  • Ücretsiz uygulamalar: {free_apps:,} ({free_apps/len(df_apps)*100:.1f}%)')\n",
    "print(f'  • Ücretli uygulamalar: {paid_apps:,} ({paid_apps/len(df_apps)*100:.1f}%)')\n",
    "print(f'  • Ortalama fiyat (ücretli): ${paid_prices.mean():.2f}')\n",
    "print(f'  • Medyan fiyat (ücretli): ${paid_prices.median():.2f}')\n",
    "print(f'  • En pahalı uygulama: ${paid_prices.max():.2f}')"
   ]
  },
  {
   "cell_type": "markdown",
   "metadata": {},
   "source": [
    "### 4.3 Kullanıcı Puanları Analizi"
   ]
  },
  {
   "cell_type": "code",
   "execution_count": 11,
   "metadata": {},
   "outputs": [
    {
     "data": {
      "application/vnd.plotly.v1+json": {
       "config": {
        "plotlyServerURL": "https://plot.ly"
       },
       "data": [
        {
         "marker": {
          "color": "#9b59b6"
         },
         "name": "Puan Dağılımı",
         "nbinsx": 20,
         "type": "histogram",
         "x": {
          "bdata": "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",
          "dtype": "f8"
         },
         "xaxis": "x",
         "yaxis": "y"
        },
        {
         "marker": {
          "color": "#3498db"
         },
         "name": "Ortalama Puan",
         "orientation": "h",
         "type": "bar",
         "x": {
          "bdata": "4AIXuMAFEEC96U1vetMPQM8ezhMpaA5AcB/BfQT3DUCamZmZmZkNQKNiSFrleg1AchzHcRzHDEBDsI4271MMQAAAAAAAoAtA3ZofFikDC0A=",
          "dtype": "f8"
         },
         "xaxis": "x2",
         "y": [
          "Productivity",
          "Music",
          "Photo & Video",
          "Business",
          "Health & Fitness",
          "Games",
          "Weather",
          "Shopping",
          "Reference",
          "Travel"
         ],
         "yaxis": "y2"
        },
        {
         "marker": {
          "color": {
           "bdata": "AAAAAAAAAADsUbgehesPQPYoXI/C9RNArkfhehSu7z/Xo3A9Ctf/PwAAAAAAAAAA7FG4HoXrB0AAAAAAAAAAAK5H4XoUru8/9ihcj8L1E0AAAAAAAAAAAK5H4XoUru8/AAAAAAAAAADXo3A9Ctf/PwAAAAAAAAAAAAAAAAAAAAAAAAAAAAAAAK5H4XoUru8/AAAAAAAAAADXo3A9Ctf/P65H4XoUru8/AAAAAAAAAADsUbgehesHQK5H4XoUru8/AAAAAAAAAAAAAAAAAAAAAHsUrkfh+iNAAAAAAAAAAAAAAAAAAAAAAAAAAAAAAAAAAAAAAAAAAACuR+F6FK7vP+xRuB6F6w9AAAAAAAAAAAD2KFyPwvUbQPYoXI/C9RNA16NwPQrX/z8AAAAAAAAAAOxRuB6F6wdArkfhehSu7z8AAAAAAAAAAAAAAAAAAAAA9ihcj8L1E0AAAAAAAAAAAOxRuB6F6wdAAAAAAAAAAAAAAAAAAAAAANejcD0K1/8/9ihcj8L1E0AAAAAAAAAAAPYoXI/C9RtAPQrXo3D9M0CuR+F6FK7vP65H4XoUru8/AAAAAAAAAAD2KFyPwvUbQK5H4XoUru8/AAAAAAAAAAAAAAAAAAAAAHsUrkfh+iNAAAAAAAAAAAAAAAAAAAAAAAAAAAAAAAAAAAAAAAAAAADXo3A9Ctf/PwAAAAAAAAAAAAAAAAAAAAAAAAAAAAAAAK5H4XoUru8/rkfhehSu7z8AAAAAAAAAAAAAAAAAAAAAAAAAAAAAAAD2KFyPwvUfQAAAAAAAAAAAAAAAAAAAAAAAAAAAAAAAAAAAAAAAAAAA16NwPQrX/z/Xo3A9Ctf/PwAAAAAAAAAA16NwPQrX/z/Xo3A9Ctf/PwAAAAAAAAAAAAAAAAAAAAAAAAAAAAAAAK5H4XoUru8/rkfhehSu7z/sUbgehesHQAAAAAAAAAAAAAAAAAAAAAAAAAAAAAAAAAAAAAAAAAAAAAAAAAAAAAD2KFyPwvUTQOxRuB6F6wdAAAAAAAAAAAAAAAAAAAAAAAAAAAAAAAAAAAAAAAAAAAD2KFyPwvUfQAAAAAAAAAAA16NwPQrX/z/sUbgehesHQAAAAAAAAAAA16NwPQrX/z8AAAAAAAAAAAAAAAAAAAAA16NwPQrX/z8AAAAAAAAAAK5H4XoUru8/AAAAAAAAAAAAAAAAAAAAAAAAAAAAAAAArkfhehSu7z8AAAAAAAAAAAAAAAAAAAAAAAAAAAAAAAAAAAAAAAAAAAAAAAAAAAAA9ihcj8L1E0DXo3A9Ctf/PwAAAAAAAAAA16NwPQrX/z/2KFyPwvUXQK5H4XoUru8/AAAAAAAAAAD2KFyPwvUTQAAAAAAAAAAA16NwPQrX/z/2KFyPwvUTQAAAAAAAAAAArkfhehSu7z8AAAAAAAAAAAAAAAAAAAAA9ihcj8L1E0CuR+F6FK7vP/YoXI/C9RNAAAAAAAAAAAAAAAAAAAAAAAAAAAAAAAAAAAAAAAAAAAAAAAAAAAAAAB+F61G4/kNAPQrXo3D9M0CuR+F6FK7vP+xRuB6F6w9AAAAAAAAAAAAAAAAAAAAAAPYoXI/C9RtA7FG4HoXrB0DsUbgehesHQAAAAAAAAAAAAAAAAAAAAAAAAAAAAAAAAPYoXI/C9RNArkfhehSu7z8AAAAAAAAAAK5H4XoUru8/AAAAAAAAAAAAAAAAAAAAAAAAAAAAAAAAAAAAAAAAAACuR+F6FK7vP+xRuB6F6wdA7FG4HoXrB0AAAAAAAAAAAAAAAAAAAAAAAAAAAAAAAAAAAAAAAAAAAPYoXI/C9RNAAAAAAAAAAADsUbgehesHQAAAAAAAAAAA7FG4HoXrB0AAAAAAAAAAAAAAAAAAAAAAAAAAAAAAAADsUbgehesPQAAAAAAAAAAAAAAAAAAAAADXo3A9Ctf/PwAAAAAAAAAAAAAAAAAAAACuR+F6FK7vPwAAAAAAAAAAAAAAAAAAAADsUbgehesPQAAAAAAAAAAAAAAAAAAAAAAAAAAAAAAAAOxRuB6F6wdA7FG4HoXrD0AAAAAAAAAAAAAAAAAAAAAAAAAAAAAAAACuR+F6FK7vPwAAAAAAAAAA9ihcj8L1G0DXo3A9Ctf/PwAAAAAAAAAA16NwPQrX/z/2KFyPwvUTQAAAAAAAAAAA9ihcj8L1E0CuR+F6FK7vP65H4XoUru8/AAAAAAAAAADXo3A9Ctf/PwAAAAAAAAAAAAAAAAAAAADXo3A9Ctf/PwAAAAAAAAAA9ihcj8L1E0AAAAAAAAAAAAAAAAAAAAAA7FG4HoXrD0DsUbgehesHQOxRuB6F6w9AAAAAAAAAAAD2KFyPwvUTQAAAAAAAAAAAAAAAAAAAAACuR+F6FK7vP9ejcD0K1/8/9ihcj8L1G0AAAAAAAAAAAAAAAAAAAAAAAAAAAAAAAAAAAAAAAAAAAAAAAAAAAAAA7FG4HoXrB0A9CtejcP0zQK5H4XoUru8/AAAAAAAAAAAAAAAAAAAAAOxRuB6F6wdAAAAAAAAAAAAAAAAAAAAAAAAAAAAAAAAA9ihcj8L1G0DXo3A9Ctf/P+xRuB6F6w9AAAAAAAAAAAD2KFyPwvUTQAAAAAAAAAAAH4XrUbj+SEAAAAAAAAAAAAAAAAAAAAAAAAAAAAAAAAAAAAAAAAAAAAAAAAAAAAAA7FG4HoXrB0D2KFyPwvUTQAAAAAAAAAAAAAAAAAAAAAAAAAAAAAAAAAAAAAAAAAAA9ihcj8L1E0AAAAAAAAAAAAAAAAAAAAAAAAAAAAAAAAAAAAAAAAAAAOxRuB6F6wdA7FG4HoXrB0CuR+F6FK7vPwAAAAAAAAAAAAAAAAAAAAAAAAAAAAAAAK5H4XoUru8/AAAAAAAAAAAAAAAAAAAAAHsUrkfh+iNArkfhehSu7z/2KFyPwvUTQAAAAAAAAAAA9ihcj8L1G0D2KFyPwvUbQAAAAAAAAAAAAAAAAAAAAAD2KFyPwvUTQPYoXI/C9RNArkfhehSu7z8AAAAAAAAAAAAAAAAAAAAArkfhehSu7z8AAAAAAAAAAAAAAAAAAAAA16NwPQrX/z+uR+F6FK7vPwAAAAAAAAAAAAAAAAAAAAAAAAAAAAAAAK5H4XoUru8/rkfhehSu7z8AAAAAAAAAAAAAAAAAAAAA7FG4HoXrD0AAAAAAAAAAAOxRuB6F6w9A9ihcj8L1G0AAAAAAAAAAAAAAAAAAAAAA16NwPQrX/z8AAAAAAAAAAAAAAAAAAAAA7FG4HoXrD0AAAAAAAAAAAOxRuB6F6wdA16NwPQrX/z+uR+F6FK7vPwAAAAAAAAAArkfhehSu7z8AAAAAAAAAAAAAAAAAAAAA7FG4HoXrD0AAAAAAAAAAAAAAAAAAAAAA16NwPQrX/z8AAAAAAAAAAK5H4XoUru8/9ihcj8L1G0AAAAAAAAAAAAAAAAAAAAAAAAAAAAAAAACuR+F6FK7vPwAAAAAAAAAAAAAAAAAAAACuR+F6FK7vP9ejcD0K1/8/AAAAAAAAAAAAAAAAAAAAAAAAAAAAAAAAAAAAAAAAAAAAAAAAAAAAAAAAAAAAAAAAAAAAAAAAAAD2KFyPwvUXQPYoXI/C9RtA7FG4HoXrB0CuR+F6FK7vP+xRuB6F6w9AAAAAAAAAAAAAAAAAAAAAAAAAAAAAAAAAAAAAAAAAAAAAAAAAAAAAAAAAAAAAAAAAAAAAAAAAAAAAAAAAAAAAAK5H4XoUru8/PQrXo3D9PUAAAAAAAAAAAK5H4XoUru8/rkfhehSu7z/Xo3A9Ctf/PwAAAAAAAAAAAAAAAAAAAAAAAAAAAAAAAAAAAAAAAAAA7FG4HoXrD0DsUbgehesHQAAAAAAAAAAA7FG4HoXrB0AAAAAAAAAAANejcD0K1/8/7FG4HoXrD0AAAAAAAAAAAAAAAAAAAAAAAAAAAAAAAAAAAAAAAAAAAAAAAAAAAAAAAAAAAAAAAAAAAAAAAAAAAPYoXI/C9RNAAAAAAAAAAAAAAAAAAAAAAAAAAAAAAAAAAAAAAAAAAAAAAAAAAAAAANejcD0K1/8/9ihcj8L1E0B7FK5H4fojQNejcD0K1/8/AAAAAAAAAAAAAAAAAAAAAOxRuB6F6w9AAAAAAAAAAAAAAAAAAAAAAOxRuB6F6w9AAAAAAAAAAAAAAAAAAAAAANejcD0K1/8/AAAAAAAAAAAAAAAAAAAAAAAAAAAAAAAA7FG4HoXrB0AAAAAAAAAAAAAAAAAAAAAArkfhehSu7z8AAAAAAAAAAAAAAAAAAAAAAAAAAAAAAAAAAAAAAAAAAAAAAAAAAAAA16NwPQrX/z/sUbgehesHQAAAAAAAAAAAAAAAAAAAAAAAAAAAAAAAANejcD0K1/8/AAAAAAAAAAAAAAAAAAAAAAAAAAAAAAAAAAAAAAAAAAAAAAAAAAAAAAAAAAAAAAAA7FG4HoXrB0AAAAAAAAAAAK5H4XoUru8/16NwPQrX/z+uR+F6FK7vPwAAAAAAAAAAAAAAAAAAAACuR+F6FK7vP+xRuB6F6wdA9ihcj8L1F0D2KFyPwvUXQNejcD0K1/8/AAAAAAAAAAAAAAAAAAAAAPYoXI/C9RtAAAAAAAAAAADsUbgehesHQAAAAAAAAAAA9ihcj8L1E0B7FK5H4fotQNejcD0K1/8/9ihcj8L1E0AAAAAAAAAAAAAAAAAAAAAAAAAAAAAAAAD2KFyPwvUbQAAAAAAAAAAAAAAAAAAAAAAAAAAAAAAAAAAAAAAAAAAA7FG4HoXrB0AAAAAAAAAAAPYoXI/C9RtAAAAAAAAAAADXo3A9Ctf/PwAAAAAAAAAAAAAAAAAAAAAAAAAAAAAAAAAAAAAAAAAA9ihcj8L1G0AAAAAAAAAAAAAAAAAAAAAArkfhehSu7z8AAAAAAAAAANejcD0K1/8/7FG4HoXrB0CuR+F6FK7vPwAAAAAAAAAAAAAAAAAAAADsUbgehesPQAAAAAAAAAAA16NwPQrX/z8AAAAAAAAAAAAAAAAAAAAAAAAAAAAAAAAAAAAAAAAAANejcD0K1/8/rkfhehSu7z8AAAAAAAAAAOxRuB6F6w9ArkfhehSu7z8AAAAAAAAAAAAAAAAAAAAAAAAAAAAAAAAAAAAAAAAAAAAAAAAAAAAArkfhehSu7z8AAAAAAAAAAAAAAAAAAAAAAAAAAAAAAAAAAAAAAAAAAAAAAAAAAAAAexSuR+H6I0DXo3A9Ctf/PwAAAAAAAAAA7FG4HoXrB0DsUbgehesHQAAAAAAAAAAAAAAAAAAAAADsUbgehesHQAAAAAAAAAAAAAAAAAAAAAAAAAAAAAAAAD0K16Nw/TNA16NwPQrX/z/sUbgehesHQAAAAAAAAAAA16NwPQrX/z8AAAAAAAAAAOxRuB6F6wdArkfhehSu7z/2KFyPwvUbQAAAAAAAAAAA9ihcj8L1G0AAAAAAAAAAAOxRuB6F6wdAAAAAAAAAAADsUbgehesHQAAAAAAAAAAAAAAAAAAAAAAAAAAAAAAAAAAAAAAAAAAAAAAAAAAAAAAAAAAAAAAAAAAAAAAAAAAAAAAAAAAAAAAAAAAAAAAAAAAAAAAAAAAAAAAAAAAAAAAAAAAAAAAAAPYoXI/C9RdA16NwPQrX/z/sUbgehesHQAAAAAAAAAAAAAAAAAAAAADXo3A9Ctf/P+xRuB6F6w9A7FG4HoXrB0AAAAAAAAAAAAAAAAAAAAAA9ihcj8L1E0AAAAAAAAAAAAAAAAAAAAAAAAAAAAAAAADsUbgehesHQK5H4XoUru8/AAAAAAAAAAAAAAAAAAAAAAAAAAAAAAAAAAAAAAAAAAAAAAAAAAAAAAAAAAAAAAAAexSuR+H6I0AAAAAAAAAAANejcD0K1/8/7FG4HoXrB0AAAAAAAAAAAAAAAAAAAAAAAAAAAAAAAACuR+F6FK7vP65H4XoUru8/AAAAAAAAAAAAAAAAAAAAAAAAAAAAAAAAAAAAAAAAAAD2KFyPwvUbQAAAAAAAAAAAAAAAAAAAAADXo3A9Ctf/PwAAAAAAAAAAAAAAAAAAAADXo3A9Ctf/PwAAAAAAAAAAAAAAAAAAAAAAAAAAAAAAAOxRuB6F6wdAAAAAAAAAAAD2KFyPwvUXQNejcD0K1/8/AAAAAAAAAADsUbgehesHQK5H4XoUru8/AAAAAAAAAADsUbgehesHQOxRuB6F6wdAPQrXo3D9MEAAAAAAAAAAAOxRuB6F6wdAAAAAAAAAAAAAAAAAAAAAAAAAAAAAAAAA9ihcj8L1F0CuR+F6FK7vPwAAAAAAAAAAAAAAAAAAAAAAAAAAAAAAAPYoXI/C9RNA7FG4HoXrD0CuR+F6FK7vP9ejcD0K1/8/AAAAAAAAAAAAAAAAAAAAAAAAAAAAAAAA7FG4HoXrB0A9CtejcP00QAAAAAAAAAAA9ihcj8L1E0AAAAAAAAAAAAAAAAAAAAAAAAAAAAAAAAAAAAAAAAAAAOxRuB6F6wdAAAAAAAAAAAA9CtejcP04QNejcD0K1/8/rkfhehSu7z/sUbgehesHQAAAAAAAAAAA9ihcj8L1G0DXo3A9Ctf/PwAAAAAAAAAA16NwPQrX/z+uR+F6FK7vP6RwPQrXv3JAAAAAAAAAAAAAAAAAAAAAAAAAAAAAAAAArkfhehSu7z/sUbgehesHQAAAAAAAAAAA7FG4HoXrB0AAAAAAAAAAAAAAAAAAAAAAAAAAAAAAAAAAAAAAAAAAANejcD0K1/8/7FG4HoXrD0DXo3A9Ctf/P65H4XoUru8/AAAAAAAAAADXo3A9Ctf/P/YoXI/C9RtAAAAAAAAAAACuR+F6FK7vP65H4XoUru8/AAAAAAAAAAAAAAAAAAAAAOxRuB6F6w9A16NwPQrX/z8AAAAAAAAAAAAAAAAAAAAA9ihcj8L1E0AAAAAAAAAAAAAAAAAAAAAArkfhehSu7z+uR+F6FK7vPwAAAAAAAAAAAAAAAAAAAAD2KFyPwvUbQAAAAAAAAAAAAAAAAAAAAAAAAAAAAAAAAAAAAAAAAAAAAAAAAAAAAAAAAAAAAAAAAAAAAAAAAAAA7FG4HoXrB0AAAAAAAAAAAHsUrkfh+iNAAAAAAAAAAAAAAAAAAAAAAK5H4XoUru8/rkfhehSu7z/Xo3A9Ctf/PwAAAAAAAAAAAAAAAAAAAADXo3A9Ctf/PwAAAAAAAAAA7FG4HoXrB0AAAAAAAAAAAAAAAAAAAAAArkfhehSu7z8AAAAAAAAAAAAAAAAAAAAAAAAAAAAAAAAAAAAAAAAAAOxRuB6F6wdAAAAAAAAAAAAAAAAAAAAAAAAAAAAAAAAAAAAAAAAAAAAAAAAAAAAAAOxRuB6F6wdAAAAAAAAAAADXo3A9Ctf/P65H4XoUru8/AAAAAAAAAADXo3A9Ctf/PwAAAAAAAAAA9ihcj8L1E0AAAAAAAAAAAAAAAAAAAAAA7FG4HoXrB0DsUbgehesHQAAAAAAAAAAArkfhehSu7z8AAAAAAAAAAAAAAAAAAAAArkfhehSu7z8AAAAAAAAAAOxRuB6F6wdAAAAAAAAAAAAAAAAAAAAAAAAAAAAAAAAAAAAAAAAAAAAAAAAAAAAAAAAAAAAAAAAArkfhehSu7z/sUbgehesHQK5H4XoUru8/7FG4HoXrD0AAAAAAAAAAANejcD0K1/8/7FG4HoXrB0AAAAAAAAAAAAAAAAAAAAAAAAAAAAAAAACuR+F6FK7vP+xRuB6F6wdAAAAAAAAAAAAAAAAAAAAAAAAAAAAAAAAAAAAAAAAAAAD2KFyPwvUbQAAAAAAAAAAAAAAAAAAAAADXo3A9Ctf/P9ejcD0K1/8/AAAAAAAAAAD2KFyPwvUXQAAAAAAAAAAA7FG4HoXrB0AAAAAAAAAAAAAAAAAAAAAAAAAAAAAAAAD2KFyPwvUTQNejcD0K1/8/7FG4HoXrD0DXo3A9Ctf/PwAAAAAAAAAArkfhehSu7z/sUbgehesHQNejcD0K1/8/AAAAAAAAAAAAAAAAAAAAANejcD0K1/8/7FG4HoXrB0D2KFyPwvUbQOxRuB6F6w9ArkfhehSu7z8AAAAAAAAAAAAAAAAAAAAAAAAAAAAAAADsUbgehesHQK5H4XoUru8/AAAAAAAAAAAAAAAAAAAAAAAAAAAAAAAA9ihcj8L1E0AAAAAAAAAAANejcD0K1/8/rkfhehSu7z8AAAAAAAAAAK5H4XoUru8/16NwPQrX/z97FK5H4fonQK5H4XoUru8/7FG4HoXrD0AAAAAAAAAAAAAAAAAAAAAArkfhehSu7z8AAAAAAAAAAAAAAAAAAAAAAAAAAAAAAAAAAAAAAAAAAAAAAAAAAAAAAAAAAAAAAAAAAAAAAAAAANejcD0K1/8/9ihcj8L1E0AAAAAAAAAAAOxRuB6F6wdA9ihcj8L1G0AAAAAAAAAAAPYoXI/C9RNA16NwPQrX/z8AAAAAAAAAAK5H4XoUru8/7FG4HoXrB0AAAAAAAAAAAAAAAAAAAAAArkfhehSu7z/Xo3A9Ctf/P+xRuB6F6w9AAAAAAAAAAAD2KFyPwvUTQAAAAAAAAAAAAAAAAAAAAAAAAAAAAAAAAAAAAAAAAAAAAAAAAAAAAAAAAAAAAAAAAAAAAAAAAAAArkfhehSu7z/sUbgehesHQNejcD0K1/8/16NwPQrX/z8AAAAAAAAAAAAAAAAAAAAAAAAAAAAAAAAAAAAAAAAAAAAAAAAAAAAAAAAAAAAAAADsUbgehesHQAAAAAAAAAAArkfhehSu7z/2KFyPwvUTQAAAAAAAAAAA9ihcj8L1G0AAAAAAAAAAAK5H4XoUru8/9ihcj8L1E0DsUbgehesHQAAAAAAAAAAArkfhehSu7z/2KFyPwvUbQOxRuB6F6wdA7FG4HoXrD0AAAAAAAAAAAAAAAAAAAAAA9ihcj8L1G0AAAAAAAAAAAAAAAAAAAAAA9ihcj8L1E0B7FK5H4fojQNejcD0K1/8/AAAAAAAAAAD2KFyPwvUTQPYoXI/C9R9AAAAAAAAAAAAAAAAAAAAAAAAAAAAAAAAAAAAAAAAAAADsUbgehesPQAAAAAAAAAAAAAAAAAAAAAAAAAAAAAAAAAAAAAAAAAAArkfhehSu7z8AAAAAAAAAAAAAAAAAAAAA9ihcj8L1E0CuR+F6FK7vPwAAAAAAAAAA7FG4HoXrB0AAAAAAAAAAAAAAAAAAAAAAAAAAAAAAAAD2KFyPwvUTQPYoXI/C9RNA16NwPQrX/z/2KFyPwvUbQK5H4XoUru8/AAAAAAAAAADXo3A9Ctf/P+xRuB6F6wdAAAAAAAAAAACuR+F6FK7vPwAAAAAAAAAA16NwPQrX/z8AAAAAAAAAAAAAAAAAAAAA16NwPQrX/z/sUbgehesPQAAAAAAAAAAAAAAAAAAAAAAAAAAAAAAAAK5H4XoUru8/9ihcj8L1E0AAAAAAAAAAAPYoXI/C9RNAAAAAAAAAAAAAAAAAAAAAAHsUrkfh+i1AAAAAAAAAAAB7FK5H4fojQAAAAAAAAAAA7FG4HoXrB0D2KFyPwvUbQAAAAAAAAAAA9ihcj8L1E0D2KFyPwvUXQPYoXI/C9RdAAAAAAAAAAAAAAAAAAAAAANejcD0K1/8/7FG4HoXrB0AAAAAAAAAAAPYoXI/C9RNA9ihcj8L1E0AAAAAAAAAAAAAAAAAAAAAArkfhehSu7z+uR+F6FK7vPwAAAAAAAAAAAAAAAAAAAAAAAAAAAAAAAB+F61G4/k1AAAAAAAAAAADsUbgehesHQAAAAAAAAAAA9ihcj8L1E0AAAAAAAAAAAOxRuB6F6w9AAAAAAAAAAAAAAAAAAAAAAK5H4XoUru8/AAAAAAAAAAAAAAAAAAAAAK5H4XoUru8/AAAAAAAAAADsUbgehesHQK5H4XoUru8/AAAAAAAAAACuR+F6FK7vP/YoXI/C9RtAAAAAAAAAAADXo3A9Ctf/PwAAAAAAAAAAAAAAAAAAAAAAAAAAAAAAAOxRuB6F6w9AAAAAAAAAAACuR+F6FK7vPwAAAAAAAAAAAAAAAAAAAADsUbgehesHQAAAAAAAAAAAexSuR+H6I0CuR+F6FK7vP9ejcD0K1/8/exSuR+H6I0AAAAAAAAAAAK5H4XoUru8/rkfhehSu7z+uR+F6FK7vPwAAAAAAAAAAAAAAAAAAAACuR+F6FK7vPwAAAAAAAAAA9ihcj8L1G0AAAAAAAAAAAPYoXI/C9RNAAAAAAAAAAAAAAAAAAAAAAPYoXI/C9RNAAAAAAAAAAADsUbgehesPQAAAAAAAAAAAAAAAAAAAAAD2KFyPwvUTQAAAAAAAAAAAAAAAAAAAAADXo3A9Ctf/P+xRuB6F6wdAAAAAAAAAAAAAAAAAAAAAAAAAAAAAAAAAAAAAAAAAAAAAAAAAAAAAAOxRuB6F6wdAAAAAAAAAAADsUbgehesHQPYoXI/C9RNAAAAAAAAAAADsUbgehesPQAAAAAAAAAAAAAAAAAAAAAAAAAAAAAAAAAAAAAAAAAAA9ihcj8L1G0AAAAAAAAAAAAAAAAAAAAAAAAAAAAAAAACuR+F6FK7vPwAAAAAAAAAAAAAAAAAAAAAAAAAAAAAAAAAAAAAAAAAAAAAAAAAAAAAAAAAAAAAAAAAAAAAAAAAAAAAAAAAAAAA=",
           "dtype": "f8"
          },
          "colorscale": [
           [
            0,
            "#440154"
           ],
           [
            0.1111111111111111,
            "#482878"
           ],
           [
            0.2222222222222222,
            "#3e4989"
           ],
           [
            0.3333333333333333,
            "#31688e"
           ],
           [
            0.4444444444444444,
            "#26828e"
           ],
           [
            0.5555555555555556,
            "#1f9e89"
           ],
           [
            0.6666666666666666,
            "#35b779"
           ],
           [
            0.7777777777777778,
            "#6ece58"
           ],
           [
            0.8888888888888888,
            "#b5de2b"
           ],
           [
            1,
            "#fde725"
           ]
          ],
          "showscale": true,
          "size": 5
         },
         "mode": "markers",
         "name": "Apps",
         "type": "scatter",
         "x": {
          "bdata": "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",
          "dtype": "i4"
         },
         "xaxis": "x3",
         "y": {
          "bdata": "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",
          "dtype": "f8"
         },
         "yaxis": "y3"
        },
        {
         "boxmean": true,
         "name": "Ücretsiz",
         "type": "box",
         "xaxis": "x4",
         "y": {
          "bdata": "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",
          "dtype": "f8"
         },
         "yaxis": "y4"
        },
        {
         "boxmean": true,
         "name": "Ücretli",
         "type": "box",
         "xaxis": "x4",
         "y": {
          "bdata": "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",
          "dtype": "f8"
         },
         "yaxis": "y4"
        }
       ],
       "layout": {
        "annotations": [
         {
          "font": {
           "size": 16
          },
          "showarrow": false,
          "text": "Kullanıcı Puanı Dağılımı",
          "x": 0.225,
          "xanchor": "center",
          "xref": "paper",
          "y": 1,
          "yanchor": "bottom",
          "yref": "paper"
         },
         {
          "font": {
           "size": 16
          },
          "showarrow": false,
          "text": "Kategori Bazında Ortalama Puan",
          "x": 0.775,
          "xanchor": "center",
          "xref": "paper",
          "y": 1,
          "yanchor": "bottom",
          "yref": "paper"
         },
         {
          "font": {
           "size": 16
          },
          "showarrow": false,
          "text": "Puan vs Değerlendirme Sayısı",
          "x": 0.225,
          "xanchor": "center",
          "xref": "paper",
          "y": 0.375,
          "yanchor": "bottom",
          "yref": "paper"
         },
         {
          "font": {
           "size": 16
          },
          "showarrow": false,
          "text": "Ücretsiz vs Ücretli Puan Karşılaştırması",
          "x": 0.775,
          "xanchor": "center",
          "xref": "paper",
          "y": 0.375,
          "yanchor": "bottom",
          "yref": "paper"
         }
        ],
        "height": 800,
        "showlegend": false,
        "template": {
         "data": {
          "bar": [
           {
            "error_x": {
             "color": "#2a3f5f"
            },
            "error_y": {
             "color": "#2a3f5f"
            },
            "marker": {
             "line": {
              "color": "#E5ECF6",
              "width": 0.5
             },
             "pattern": {
              "fillmode": "overlay",
              "size": 10,
              "solidity": 0.2
             }
            },
            "type": "bar"
           }
          ],
          "barpolar": [
           {
            "marker": {
             "line": {
              "color": "#E5ECF6",
              "width": 0.5
             },
             "pattern": {
              "fillmode": "overlay",
              "size": 10,
              "solidity": 0.2
             }
            },
            "type": "barpolar"
           }
          ],
          "carpet": [
           {
            "aaxis": {
             "endlinecolor": "#2a3f5f",
             "gridcolor": "white",
             "linecolor": "white",
             "minorgridcolor": "white",
             "startlinecolor": "#2a3f5f"
            },
            "baxis": {
             "endlinecolor": "#2a3f5f",
             "gridcolor": "white",
             "linecolor": "white",
             "minorgridcolor": "white",
             "startlinecolor": "#2a3f5f"
            },
            "type": "carpet"
           }
          ],
          "choropleth": [
           {
            "colorbar": {
             "outlinewidth": 0,
             "ticks": ""
            },
            "type": "choropleth"
           }
          ],
          "contour": [
           {
            "colorbar": {
             "outlinewidth": 0,
             "ticks": ""
            },
            "colorscale": [
             [
              0,
              "#0d0887"
             ],
             [
              0.1111111111111111,
              "#46039f"
             ],
             [
              0.2222222222222222,
              "#7201a8"
             ],
             [
              0.3333333333333333,
              "#9c179e"
             ],
             [
              0.4444444444444444,
              "#bd3786"
             ],
             [
              0.5555555555555556,
              "#d8576b"
             ],
             [
              0.6666666666666666,
              "#ed7953"
             ],
             [
              0.7777777777777778,
              "#fb9f3a"
             ],
             [
              0.8888888888888888,
              "#fdca26"
             ],
             [
              1,
              "#f0f921"
             ]
            ],
            "type": "contour"
           }
          ],
          "contourcarpet": [
           {
            "colorbar": {
             "outlinewidth": 0,
             "ticks": ""
            },
            "type": "contourcarpet"
           }
          ],
          "heatmap": [
           {
            "colorbar": {
             "outlinewidth": 0,
             "ticks": ""
            },
            "colorscale": [
             [
              0,
              "#0d0887"
             ],
             [
              0.1111111111111111,
              "#46039f"
             ],
             [
              0.2222222222222222,
              "#7201a8"
             ],
             [
              0.3333333333333333,
              "#9c179e"
             ],
             [
              0.4444444444444444,
              "#bd3786"
             ],
             [
              0.5555555555555556,
              "#d8576b"
             ],
             [
              0.6666666666666666,
              "#ed7953"
             ],
             [
              0.7777777777777778,
              "#fb9f3a"
             ],
             [
              0.8888888888888888,
              "#fdca26"
             ],
             [
              1,
              "#f0f921"
             ]
            ],
            "type": "heatmap"
           }
          ],
          "histogram": [
           {
            "marker": {
             "pattern": {
              "fillmode": "overlay",
              "size": 10,
              "solidity": 0.2
             }
            },
            "type": "histogram"
           }
          ],
          "histogram2d": [
           {
            "colorbar": {
             "outlinewidth": 0,
             "ticks": ""
            },
            "colorscale": [
             [
              0,
              "#0d0887"
             ],
             [
              0.1111111111111111,
              "#46039f"
             ],
             [
              0.2222222222222222,
              "#7201a8"
             ],
             [
              0.3333333333333333,
              "#9c179e"
             ],
             [
              0.4444444444444444,
              "#bd3786"
             ],
             [
              0.5555555555555556,
              "#d8576b"
             ],
             [
              0.6666666666666666,
              "#ed7953"
             ],
             [
              0.7777777777777778,
              "#fb9f3a"
             ],
             [
              0.8888888888888888,
              "#fdca26"
             ],
             [
              1,
              "#f0f921"
             ]
            ],
            "type": "histogram2d"
           }
          ],
          "histogram2dcontour": [
           {
            "colorbar": {
             "outlinewidth": 0,
             "ticks": ""
            },
            "colorscale": [
             [
              0,
              "#0d0887"
             ],
             [
              0.1111111111111111,
              "#46039f"
             ],
             [
              0.2222222222222222,
              "#7201a8"
             ],
             [
              0.3333333333333333,
              "#9c179e"
             ],
             [
              0.4444444444444444,
              "#bd3786"
             ],
             [
              0.5555555555555556,
              "#d8576b"
             ],
             [
              0.6666666666666666,
              "#ed7953"
             ],
             [
              0.7777777777777778,
              "#fb9f3a"
             ],
             [
              0.8888888888888888,
              "#fdca26"
             ],
             [
              1,
              "#f0f921"
             ]
            ],
            "type": "histogram2dcontour"
           }
          ],
          "mesh3d": [
           {
            "colorbar": {
             "outlinewidth": 0,
             "ticks": ""
            },
            "type": "mesh3d"
           }
          ],
          "parcoords": [
           {
            "line": {
             "colorbar": {
              "outlinewidth": 0,
              "ticks": ""
             }
            },
            "type": "parcoords"
           }
          ],
          "pie": [
           {
            "automargin": true,
            "type": "pie"
           }
          ],
          "scatter": [
           {
            "fillpattern": {
             "fillmode": "overlay",
             "size": 10,
             "solidity": 0.2
            },
            "type": "scatter"
           }
          ],
          "scatter3d": [
           {
            "line": {
             "colorbar": {
              "outlinewidth": 0,
              "ticks": ""
             }
            },
            "marker": {
             "colorbar": {
              "outlinewidth": 0,
              "ticks": ""
             }
            },
            "type": "scatter3d"
           }
          ],
          "scattercarpet": [
           {
            "marker": {
             "colorbar": {
              "outlinewidth": 0,
              "ticks": ""
             }
            },
            "type": "scattercarpet"
           }
          ],
          "scattergeo": [
           {
            "marker": {
             "colorbar": {
              "outlinewidth": 0,
              "ticks": ""
             }
            },
            "type": "scattergeo"
           }
          ],
          "scattergl": [
           {
            "marker": {
             "colorbar": {
              "outlinewidth": 0,
              "ticks": ""
             }
            },
            "type": "scattergl"
           }
          ],
          "scattermap": [
           {
            "marker": {
             "colorbar": {
              "outlinewidth": 0,
              "ticks": ""
             }
            },
            "type": "scattermap"
           }
          ],
          "scattermapbox": [
           {
            "marker": {
             "colorbar": {
              "outlinewidth": 0,
              "ticks": ""
             }
            },
            "type": "scattermapbox"
           }
          ],
          "scatterpolar": [
           {
            "marker": {
             "colorbar": {
              "outlinewidth": 0,
              "ticks": ""
             }
            },
            "type": "scatterpolar"
           }
          ],
          "scatterpolargl": [
           {
            "marker": {
             "colorbar": {
              "outlinewidth": 0,
              "ticks": ""
             }
            },
            "type": "scatterpolargl"
           }
          ],
          "scatterternary": [
           {
            "marker": {
             "colorbar": {
              "outlinewidth": 0,
              "ticks": ""
             }
            },
            "type": "scatterternary"
           }
          ],
          "surface": [
           {
            "colorbar": {
             "outlinewidth": 0,
             "ticks": ""
            },
            "colorscale": [
             [
              0,
              "#0d0887"
             ],
             [
              0.1111111111111111,
              "#46039f"
             ],
             [
              0.2222222222222222,
              "#7201a8"
             ],
             [
              0.3333333333333333,
              "#9c179e"
             ],
             [
              0.4444444444444444,
              "#bd3786"
             ],
             [
              0.5555555555555556,
              "#d8576b"
             ],
             [
              0.6666666666666666,
              "#ed7953"
             ],
             [
              0.7777777777777778,
              "#fb9f3a"
             ],
             [
              0.8888888888888888,
              "#fdca26"
             ],
             [
              1,
              "#f0f921"
             ]
            ],
            "type": "surface"
           }
          ],
          "table": [
           {
            "cells": {
             "fill": {
              "color": "#EBF0F8"
             },
             "line": {
              "color": "white"
             }
            },
            "header": {
             "fill": {
              "color": "#C8D4E3"
             },
             "line": {
              "color": "white"
             }
            },
            "type": "table"
           }
          ]
         },
         "layout": {
          "annotationdefaults": {
           "arrowcolor": "#2a3f5f",
           "arrowhead": 0,
           "arrowwidth": 1
          },
          "autotypenumbers": "strict",
          "coloraxis": {
           "colorbar": {
            "outlinewidth": 0,
            "ticks": ""
           }
          },
          "colorscale": {
           "diverging": [
            [
             0,
             "#8e0152"
            ],
            [
             0.1,
             "#c51b7d"
            ],
            [
             0.2,
             "#de77ae"
            ],
            [
             0.3,
             "#f1b6da"
            ],
            [
             0.4,
             "#fde0ef"
            ],
            [
             0.5,
             "#f7f7f7"
            ],
            [
             0.6,
             "#e6f5d0"
            ],
            [
             0.7,
             "#b8e186"
            ],
            [
             0.8,
             "#7fbc41"
            ],
            [
             0.9,
             "#4d9221"
            ],
            [
             1,
             "#276419"
            ]
           ],
           "sequential": [
            [
             0,
             "#0d0887"
            ],
            [
             0.1111111111111111,
             "#46039f"
            ],
            [
             0.2222222222222222,
             "#7201a8"
            ],
            [
             0.3333333333333333,
             "#9c179e"
            ],
            [
             0.4444444444444444,
             "#bd3786"
            ],
            [
             0.5555555555555556,
             "#d8576b"
            ],
            [
             0.6666666666666666,
             "#ed7953"
            ],
            [
             0.7777777777777778,
             "#fb9f3a"
            ],
            [
             0.8888888888888888,
             "#fdca26"
            ],
            [
             1,
             "#f0f921"
            ]
           ],
           "sequentialminus": [
            [
             0,
             "#0d0887"
            ],
            [
             0.1111111111111111,
             "#46039f"
            ],
            [
             0.2222222222222222,
             "#7201a8"
            ],
            [
             0.3333333333333333,
             "#9c179e"
            ],
            [
             0.4444444444444444,
             "#bd3786"
            ],
            [
             0.5555555555555556,
             "#d8576b"
            ],
            [
             0.6666666666666666,
             "#ed7953"
            ],
            [
             0.7777777777777778,
             "#fb9f3a"
            ],
            [
             0.8888888888888888,
             "#fdca26"
            ],
            [
             1,
             "#f0f921"
            ]
           ]
          },
          "colorway": [
           "#636efa",
           "#EF553B",
           "#00cc96",
           "#ab63fa",
           "#FFA15A",
           "#19d3f3",
           "#FF6692",
           "#B6E880",
           "#FF97FF",
           "#FECB52"
          ],
          "font": {
           "color": "#2a3f5f"
          },
          "geo": {
           "bgcolor": "white",
           "lakecolor": "white",
           "landcolor": "#E5ECF6",
           "showlakes": true,
           "showland": true,
           "subunitcolor": "white"
          },
          "hoverlabel": {
           "align": "left"
          },
          "hovermode": "closest",
          "mapbox": {
           "style": "light"
          },
          "paper_bgcolor": "white",
          "plot_bgcolor": "#E5ECF6",
          "polar": {
           "angularaxis": {
            "gridcolor": "white",
            "linecolor": "white",
            "ticks": ""
           },
           "bgcolor": "#E5ECF6",
           "radialaxis": {
            "gridcolor": "white",
            "linecolor": "white",
            "ticks": ""
           }
          },
          "scene": {
           "xaxis": {
            "backgroundcolor": "#E5ECF6",
            "gridcolor": "white",
            "gridwidth": 2,
            "linecolor": "white",
            "showbackground": true,
            "ticks": "",
            "zerolinecolor": "white"
           },
           "yaxis": {
            "backgroundcolor": "#E5ECF6",
            "gridcolor": "white",
            "gridwidth": 2,
            "linecolor": "white",
            "showbackground": true,
            "ticks": "",
            "zerolinecolor": "white"
           },
           "zaxis": {
            "backgroundcolor": "#E5ECF6",
            "gridcolor": "white",
            "gridwidth": 2,
            "linecolor": "white",
            "showbackground": true,
            "ticks": "",
            "zerolinecolor": "white"
           }
          },
          "shapedefaults": {
           "line": {
            "color": "#2a3f5f"
           }
          },
          "ternary": {
           "aaxis": {
            "gridcolor": "white",
            "linecolor": "white",
            "ticks": ""
           },
           "baxis": {
            "gridcolor": "white",
            "linecolor": "white",
            "ticks": ""
           },
           "bgcolor": "#E5ECF6",
           "caxis": {
            "gridcolor": "white",
            "linecolor": "white",
            "ticks": ""
           }
          },
          "title": {
           "x": 0.05
          },
          "xaxis": {
           "automargin": true,
           "gridcolor": "white",
           "linecolor": "white",
           "ticks": "",
           "title": {
            "standoff": 15
           },
           "zerolinecolor": "white",
           "zerolinewidth": 2
          },
          "yaxis": {
           "automargin": true,
           "gridcolor": "white",
           "linecolor": "white",
           "ticks": "",
           "title": {
            "standoff": 15
           },
           "zerolinecolor": "white",
           "zerolinewidth": 2
          }
         }
        },
        "title": {
         "text": "⭐ Kullanıcı Puanları Detaylı Analizi"
        },
        "xaxis": {
         "anchor": "y",
         "domain": [
          0,
          0.45
         ],
         "title": {
          "text": "Puan"
         }
        },
        "xaxis2": {
         "anchor": "y2",
         "domain": [
          0.55,
          1
         ],
         "title": {
          "text": "Ortalama Puan"
         }
        },
        "xaxis3": {
         "anchor": "y3",
         "domain": [
          0,
          0.45
         ],
         "title": {
          "text": "Değerlendirme Sayısı (log scale)"
         },
         "type": "log"
        },
        "xaxis4": {
         "anchor": "y4",
         "domain": [
          0.55,
          1
         ]
        },
        "yaxis": {
         "anchor": "x",
         "domain": [
          0.625,
          1
         ]
        },
        "yaxis2": {
         "anchor": "x2",
         "domain": [
          0.625,
          1
         ]
        },
        "yaxis3": {
         "anchor": "x3",
         "domain": [
          0,
          0.375
         ],
         "title": {
          "text": "Puan"
         }
        },
        "yaxis4": {
         "anchor": "x4",
         "domain": [
          0,
          0.375
         ]
        }
       }
      }
     },
     "metadata": {},
     "output_type": "display_data"
    }
   ],
   "source": [
    "# Puan dağılımı\n",
    "fig = make_subplots(\n",
    "    rows=2, cols=2,\n",
    "    subplot_titles=(\n",
    "        'Kullanıcı Puanı Dağılımı',\n",
    "        'Kategori Bazında Ortalama Puan',\n",
    "        'Puan vs Değerlendirme Sayısı',\n",
    "        'Ücretsiz vs Ücretli Puan Karşılaştırması'\n",
    "    )\n",
    ")\n",
    "\n",
    "# 1. Puan dağılımı histogramı\n",
    "fig.add_trace(\n",
    "    go.Histogram(\n",
    "        x=df_apps['user_rating'],\n",
    "        nbinsx=20,\n",
    "        marker_color='#9b59b6',\n",
    "        name='Puan Dağılımı'\n",
    "    ),\n",
    "    row=1, col=1\n",
    ")\n",
    "\n",
    "# 2. Kategori bazında ortalama puan\n",
    "category_ratings = df_apps.groupby('prime_genre')['user_rating'].mean().sort_values(ascending=False).head(10)\n",
    "fig.add_trace(\n",
    "    go.Bar(\n",
    "        x=category_ratings.values,\n",
    "        y=category_ratings.index,\n",
    "        orientation='h',\n",
    "        marker_color='#3498db',\n",
    "        name='Ortalama Puan'\n",
    "    ),\n",
    "    row=1, col=2\n",
    ")\n",
    "\n",
    "# 3. Puan vs Değerlendirme sayısı scatter\n",
    "sample_data = df_apps.sample(min(1000, len(df_apps)))\n",
    "fig.add_trace(\n",
    "    go.Scatter(\n",
    "        x=sample_data['rating_count_tot'],\n",
    "        y=sample_data['user_rating'],\n",
    "        mode='markers',\n",
    "        marker=dict(\n",
    "            size=5,\n",
    "            color=sample_data['price'],\n",
    "            colorscale='viridis',\n",
    "            showscale=True\n",
    "        ),\n",
    "        name='Apps'\n",
    "    ),\n",
    "    row=2, col=1\n",
    ")\n",
    "\n",
    "# 4. Ücretsiz vs Ücretli box plot\n",
    "df_apps['is_free'] = df_apps['price'] == 0\n",
    "for is_free, name in [(True, 'Ücretsiz'), (False, 'Ücretli')]:\n",
    "    data = df_apps[df_apps['is_free'] == is_free]['user_rating']\n",
    "    fig.add_trace(\n",
    "        go.Box(\n",
    "            y=data,\n",
    "            name=name,\n",
    "            boxmean=True\n",
    "        ),\n",
    "        row=2, col=2\n",
    "    )\n",
    "\n",
    "fig.update_layout(\n",
    "    title_text='⭐ Kullanıcı Puanları Detaylı Analizi',\n",
    "    height=800,\n",
    "    showlegend=False\n",
    ")\n",
    "\n",
    "fig.update_xaxes(title_text='Puan', row=1, col=1)\n",
    "fig.update_xaxes(title_text='Ortalama Puan', row=1, col=2)\n",
    "fig.update_xaxes(title_text='Değerlendirme Sayısı (log scale)', type='log', row=2, col=1)\n",
    "fig.update_yaxes(title_text='Puan', row=2, col=1)\n",
    "\n",
    "fig.show()"
   ]
  },
  {
   "cell_type": "markdown",
   "metadata": {},
   "source": [
    "### 4.4 Uygulama Boyutu Analizi"
   ]
  },
  {
   "cell_type": "code",
   "execution_count": 12,
   "metadata": {},
   "outputs": [
    {
     "data": {
      "application/vnd.plotly.v1+json": {
       "config": {
        "plotlyServerURL": "https://plot.ly"
       },
       "data": [
        {
         "marker": {
          "color": "#e67e22"
         },
         "orientation": "h",
         "text": [
          "359.0 MB",
          "270.5 MB",
          "172.1 MB",
          "170.5 MB",
          "148.0 MB",
          "104.6 MB",
          "98.6 MB",
          "96.8 MB",
          "89.0 MB",
          "85.9 MB"
         ],
         "textposition": "auto",
         "type": "bar",
         "x": {
          "bdata": "QxaykD1vdkA/eH88SOhwQLEOrjocgmVAJUmSJCxRZUAAAGB2MH9iQImfUdagI1pALWQh1UGkWEDgDRUExTFYQD/FJUNwQVZARERERKx7VUA=",
          "dtype": "f8"
         },
         "xaxis": "x",
         "y": [
          "Medical",
          "Games",
          "Education",
          "Book",
          "Reference",
          "Music",
          "Navigation",
          "Entertainment",
          "Shopping",
          "Health & Fitness"
         ],
         "yaxis": "y"
        },
        {
         "marker": {
          "color": {
           "bdata": "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",
           "dtype": "i4"
          },
          "colorbar": {
           "title": {
            "text": "Değerlendirme<br>Sayısı"
           }
          },
          "colorscale": [
           [
            0,
            "#0d0887"
           ],
           [
            0.1111111111111111,
            "#46039f"
           ],
           [
            0.2222222222222222,
            "#7201a8"
           ],
           [
            0.3333333333333333,
            "#9c179e"
           ],
           [
            0.4444444444444444,
            "#bd3786"
           ],
           [
            0.5555555555555556,
            "#d8576b"
           ],
           [
            0.6666666666666666,
            "#ed7953"
           ],
           [
            0.7777777777777778,
            "#fb9f3a"
           ],
           [
            0.8888888888888888,
            "#fdca26"
           ],
           [
            1,
            "#f0f921"
           ]
          ],
          "showscale": true,
          "size": 5
         },
         "mode": "markers",
         "type": "scatter",
         "x": {
          "bdata": "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",
          "dtype": "f8"
         },
         "xaxis": "x2",
         "y": {
          "bdata": "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",
          "dtype": "f8"
         },
         "yaxis": "y2"
        }
       ],
       "layout": {
        "annotations": [
         {
          "font": {
           "size": 16
          },
          "showarrow": false,
          "text": "En Büyük Uygulamalar (Ortalama)",
          "x": 0.225,
          "xanchor": "center",
          "xref": "paper",
          "y": 1,
          "yanchor": "bottom",
          "yref": "paper"
         },
         {
          "font": {
           "size": 16
          },
          "showarrow": false,
          "text": "Boyut vs Puan İlişkisi",
          "x": 0.775,
          "xanchor": "center",
          "xref": "paper",
          "y": 1,
          "yanchor": "bottom",
          "yref": "paper"
         }
        ],
        "height": 400,
        "showlegend": false,
        "template": {
         "data": {
          "bar": [
           {
            "error_x": {
             "color": "#2a3f5f"
            },
            "error_y": {
             "color": "#2a3f5f"
            },
            "marker": {
             "line": {
              "color": "#E5ECF6",
              "width": 0.5
             },
             "pattern": {
              "fillmode": "overlay",
              "size": 10,
              "solidity": 0.2
             }
            },
            "type": "bar"
           }
          ],
          "barpolar": [
           {
            "marker": {
             "line": {
              "color": "#E5ECF6",
              "width": 0.5
             },
             "pattern": {
              "fillmode": "overlay",
              "size": 10,
              "solidity": 0.2
             }
            },
            "type": "barpolar"
           }
          ],
          "carpet": [
           {
            "aaxis": {
             "endlinecolor": "#2a3f5f",
             "gridcolor": "white",
             "linecolor": "white",
             "minorgridcolor": "white",
             "startlinecolor": "#2a3f5f"
            },
            "baxis": {
             "endlinecolor": "#2a3f5f",
             "gridcolor": "white",
             "linecolor": "white",
             "minorgridcolor": "white",
             "startlinecolor": "#2a3f5f"
            },
            "type": "carpet"
           }
          ],
          "choropleth": [
           {
            "colorbar": {
             "outlinewidth": 0,
             "ticks": ""
            },
            "type": "choropleth"
           }
          ],
          "contour": [
           {
            "colorbar": {
             "outlinewidth": 0,
             "ticks": ""
            },
            "colorscale": [
             [
              0,
              "#0d0887"
             ],
             [
              0.1111111111111111,
              "#46039f"
             ],
             [
              0.2222222222222222,
              "#7201a8"
             ],
             [
              0.3333333333333333,
              "#9c179e"
             ],
             [
              0.4444444444444444,
              "#bd3786"
             ],
             [
              0.5555555555555556,
              "#d8576b"
             ],
             [
              0.6666666666666666,
              "#ed7953"
             ],
             [
              0.7777777777777778,
              "#fb9f3a"
             ],
             [
              0.8888888888888888,
              "#fdca26"
             ],
             [
              1,
              "#f0f921"
             ]
            ],
            "type": "contour"
           }
          ],
          "contourcarpet": [
           {
            "colorbar": {
             "outlinewidth": 0,
             "ticks": ""
            },
            "type": "contourcarpet"
           }
          ],
          "heatmap": [
           {
            "colorbar": {
             "outlinewidth": 0,
             "ticks": ""
            },
            "colorscale": [
             [
              0,
              "#0d0887"
             ],
             [
              0.1111111111111111,
              "#46039f"
             ],
             [
              0.2222222222222222,
              "#7201a8"
             ],
             [
              0.3333333333333333,
              "#9c179e"
             ],
             [
              0.4444444444444444,
              "#bd3786"
             ],
             [
              0.5555555555555556,
              "#d8576b"
             ],
             [
              0.6666666666666666,
              "#ed7953"
             ],
             [
              0.7777777777777778,
              "#fb9f3a"
             ],
             [
              0.8888888888888888,
              "#fdca26"
             ],
             [
              1,
              "#f0f921"
             ]
            ],
            "type": "heatmap"
           }
          ],
          "histogram": [
           {
            "marker": {
             "pattern": {
              "fillmode": "overlay",
              "size": 10,
              "solidity": 0.2
             }
            },
            "type": "histogram"
           }
          ],
          "histogram2d": [
           {
            "colorbar": {
             "outlinewidth": 0,
             "ticks": ""
            },
            "colorscale": [
             [
              0,
              "#0d0887"
             ],
             [
              0.1111111111111111,
              "#46039f"
             ],
             [
              0.2222222222222222,
              "#7201a8"
             ],
             [
              0.3333333333333333,
              "#9c179e"
             ],
             [
              0.4444444444444444,
              "#bd3786"
             ],
             [
              0.5555555555555556,
              "#d8576b"
             ],
             [
              0.6666666666666666,
              "#ed7953"
             ],
             [
              0.7777777777777778,
              "#fb9f3a"
             ],
             [
              0.8888888888888888,
              "#fdca26"
             ],
             [
              1,
              "#f0f921"
             ]
            ],
            "type": "histogram2d"
           }
          ],
          "histogram2dcontour": [
           {
            "colorbar": {
             "outlinewidth": 0,
             "ticks": ""
            },
            "colorscale": [
             [
              0,
              "#0d0887"
             ],
             [
              0.1111111111111111,
              "#46039f"
             ],
             [
              0.2222222222222222,
              "#7201a8"
             ],
             [
              0.3333333333333333,
              "#9c179e"
             ],
             [
              0.4444444444444444,
              "#bd3786"
             ],
             [
              0.5555555555555556,
              "#d8576b"
             ],
             [
              0.6666666666666666,
              "#ed7953"
             ],
             [
              0.7777777777777778,
              "#fb9f3a"
             ],
             [
              0.8888888888888888,
              "#fdca26"
             ],
             [
              1,
              "#f0f921"
             ]
            ],
            "type": "histogram2dcontour"
           }
          ],
          "mesh3d": [
           {
            "colorbar": {
             "outlinewidth": 0,
             "ticks": ""
            },
            "type": "mesh3d"
           }
          ],
          "parcoords": [
           {
            "line": {
             "colorbar": {
              "outlinewidth": 0,
              "ticks": ""
             }
            },
            "type": "parcoords"
           }
          ],
          "pie": [
           {
            "automargin": true,
            "type": "pie"
           }
          ],
          "scatter": [
           {
            "fillpattern": {
             "fillmode": "overlay",
             "size": 10,
             "solidity": 0.2
            },
            "type": "scatter"
           }
          ],
          "scatter3d": [
           {
            "line": {
             "colorbar": {
              "outlinewidth": 0,
              "ticks": ""
             }
            },
            "marker": {
             "colorbar": {
              "outlinewidth": 0,
              "ticks": ""
             }
            },
            "type": "scatter3d"
           }
          ],
          "scattercarpet": [
           {
            "marker": {
             "colorbar": {
              "outlinewidth": 0,
              "ticks": ""
             }
            },
            "type": "scattercarpet"
           }
          ],
          "scattergeo": [
           {
            "marker": {
             "colorbar": {
              "outlinewidth": 0,
              "ticks": ""
             }
            },
            "type": "scattergeo"
           }
          ],
          "scattergl": [
           {
            "marker": {
             "colorbar": {
              "outlinewidth": 0,
              "ticks": ""
             }
            },
            "type": "scattergl"
           }
          ],
          "scattermap": [
           {
            "marker": {
             "colorbar": {
              "outlinewidth": 0,
              "ticks": ""
             }
            },
            "type": "scattermap"
           }
          ],
          "scattermapbox": [
           {
            "marker": {
             "colorbar": {
              "outlinewidth": 0,
              "ticks": ""
             }
            },
            "type": "scattermapbox"
           }
          ],
          "scatterpolar": [
           {
            "marker": {
             "colorbar": {
              "outlinewidth": 0,
              "ticks": ""
             }
            },
            "type": "scatterpolar"
           }
          ],
          "scatterpolargl": [
           {
            "marker": {
             "colorbar": {
              "outlinewidth": 0,
              "ticks": ""
             }
            },
            "type": "scatterpolargl"
           }
          ],
          "scatterternary": [
           {
            "marker": {
             "colorbar": {
              "outlinewidth": 0,
              "ticks": ""
             }
            },
            "type": "scatterternary"
           }
          ],
          "surface": [
           {
            "colorbar": {
             "outlinewidth": 0,
             "ticks": ""
            },
            "colorscale": [
             [
              0,
              "#0d0887"
             ],
             [
              0.1111111111111111,
              "#46039f"
             ],
             [
              0.2222222222222222,
              "#7201a8"
             ],
             [
              0.3333333333333333,
              "#9c179e"
             ],
             [
              0.4444444444444444,
              "#bd3786"
             ],
             [
              0.5555555555555556,
              "#d8576b"
             ],
             [
              0.6666666666666666,
              "#ed7953"
             ],
             [
              0.7777777777777778,
              "#fb9f3a"
             ],
             [
              0.8888888888888888,
              "#fdca26"
             ],
             [
              1,
              "#f0f921"
             ]
            ],
            "type": "surface"
           }
          ],
          "table": [
           {
            "cells": {
             "fill": {
              "color": "#EBF0F8"
             },
             "line": {
              "color": "white"
             }
            },
            "header": {
             "fill": {
              "color": "#C8D4E3"
             },
             "line": {
              "color": "white"
             }
            },
            "type": "table"
           }
          ]
         },
         "layout": {
          "annotationdefaults": {
           "arrowcolor": "#2a3f5f",
           "arrowhead": 0,
           "arrowwidth": 1
          },
          "autotypenumbers": "strict",
          "coloraxis": {
           "colorbar": {
            "outlinewidth": 0,
            "ticks": ""
           }
          },
          "colorscale": {
           "diverging": [
            [
             0,
             "#8e0152"
            ],
            [
             0.1,
             "#c51b7d"
            ],
            [
             0.2,
             "#de77ae"
            ],
            [
             0.3,
             "#f1b6da"
            ],
            [
             0.4,
             "#fde0ef"
            ],
            [
             0.5,
             "#f7f7f7"
            ],
            [
             0.6,
             "#e6f5d0"
            ],
            [
             0.7,
             "#b8e186"
            ],
            [
             0.8,
             "#7fbc41"
            ],
            [
             0.9,
             "#4d9221"
            ],
            [
             1,
             "#276419"
            ]
           ],
           "sequential": [
            [
             0,
             "#0d0887"
            ],
            [
             0.1111111111111111,
             "#46039f"
            ],
            [
             0.2222222222222222,
             "#7201a8"
            ],
            [
             0.3333333333333333,
             "#9c179e"
            ],
            [
             0.4444444444444444,
             "#bd3786"
            ],
            [
             0.5555555555555556,
             "#d8576b"
            ],
            [
             0.6666666666666666,
             "#ed7953"
            ],
            [
             0.7777777777777778,
             "#fb9f3a"
            ],
            [
             0.8888888888888888,
             "#fdca26"
            ],
            [
             1,
             "#f0f921"
            ]
           ],
           "sequentialminus": [
            [
             0,
             "#0d0887"
            ],
            [
             0.1111111111111111,
             "#46039f"
            ],
            [
             0.2222222222222222,
             "#7201a8"
            ],
            [
             0.3333333333333333,
             "#9c179e"
            ],
            [
             0.4444444444444444,
             "#bd3786"
            ],
            [
             0.5555555555555556,
             "#d8576b"
            ],
            [
             0.6666666666666666,
             "#ed7953"
            ],
            [
             0.7777777777777778,
             "#fb9f3a"
            ],
            [
             0.8888888888888888,
             "#fdca26"
            ],
            [
             1,
             "#f0f921"
            ]
           ]
          },
          "colorway": [
           "#636efa",
           "#EF553B",
           "#00cc96",
           "#ab63fa",
           "#FFA15A",
           "#19d3f3",
           "#FF6692",
           "#B6E880",
           "#FF97FF",
           "#FECB52"
          ],
          "font": {
           "color": "#2a3f5f"
          },
          "geo": {
           "bgcolor": "white",
           "lakecolor": "white",
           "landcolor": "#E5ECF6",
           "showlakes": true,
           "showland": true,
           "subunitcolor": "white"
          },
          "hoverlabel": {
           "align": "left"
          },
          "hovermode": "closest",
          "mapbox": {
           "style": "light"
          },
          "paper_bgcolor": "white",
          "plot_bgcolor": "#E5ECF6",
          "polar": {
           "angularaxis": {
            "gridcolor": "white",
            "linecolor": "white",
            "ticks": ""
           },
           "bgcolor": "#E5ECF6",
           "radialaxis": {
            "gridcolor": "white",
            "linecolor": "white",
            "ticks": ""
           }
          },
          "scene": {
           "xaxis": {
            "backgroundcolor": "#E5ECF6",
            "gridcolor": "white",
            "gridwidth": 2,
            "linecolor": "white",
            "showbackground": true,
            "ticks": "",
            "zerolinecolor": "white"
           },
           "yaxis": {
            "backgroundcolor": "#E5ECF6",
            "gridcolor": "white",
            "gridwidth": 2,
            "linecolor": "white",
            "showbackground": true,
            "ticks": "",
            "zerolinecolor": "white"
           },
           "zaxis": {
            "backgroundcolor": "#E5ECF6",
            "gridcolor": "white",
            "gridwidth": 2,
            "linecolor": "white",
            "showbackground": true,
            "ticks": "",
            "zerolinecolor": "white"
           }
          },
          "shapedefaults": {
           "line": {
            "color": "#2a3f5f"
           }
          },
          "ternary": {
           "aaxis": {
            "gridcolor": "white",
            "linecolor": "white",
            "ticks": ""
           },
           "baxis": {
            "gridcolor": "white",
            "linecolor": "white",
            "ticks": ""
           },
           "bgcolor": "#E5ECF6",
           "caxis": {
            "gridcolor": "white",
            "linecolor": "white",
            "ticks": ""
           }
          },
          "title": {
           "x": 0.05
          },
          "xaxis": {
           "automargin": true,
           "gridcolor": "white",
           "linecolor": "white",
           "ticks": "",
           "title": {
            "standoff": 15
           },
           "zerolinecolor": "white",
           "zerolinewidth": 2
          },
          "yaxis": {
           "automargin": true,
           "gridcolor": "white",
           "linecolor": "white",
           "ticks": "",
           "title": {
            "standoff": 15
           },
           "zerolinecolor": "white",
           "zerolinewidth": 2
          }
         }
        },
        "title": {
         "text": "💾 Uygulama Boyut Analizi"
        },
        "xaxis": {
         "anchor": "y",
         "domain": [
          0,
          0.45
         ],
         "title": {
          "text": "Ortalama Boyut (MB)"
         }
        },
        "xaxis2": {
         "anchor": "y2",
         "domain": [
          0.55,
          1
         ],
         "title": {
          "text": "Uygulama Boyutu (MB)"
         }
        },
        "yaxis": {
         "anchor": "x",
         "domain": [
          0,
          1
         ]
        },
        "yaxis2": {
         "anchor": "x2",
         "domain": [
          0,
          1
         ],
         "title": {
          "text": "Kullanıcı Puanı"
         }
        }
       }
      }
     },
     "metadata": {},
     "output_type": "display_data"
    }
   ],
   "source": [
    "# Boyut MB'a çevir\n",
    "df_apps['size_mb'] = df_apps['size_bytes'] / (1024 * 1024)\n",
    "\n",
    "# Kategori bazında ortalama boyut\n",
    "category_sizes = df_apps.groupby('prime_genre')['size_mb'].mean().sort_values(ascending=False).head(10)\n",
    "\n",
    "# Görselleştirme\n",
    "fig = make_subplots(\n",
    "    rows=1, cols=2,\n",
    "    subplot_titles=('En Büyük Uygulamalar (Ortalama)', 'Boyut vs Puan İlişkisi')\n",
    ")\n",
    "\n",
    "# Bar chart\n",
    "fig.add_trace(\n",
    "    go.Bar(\n",
    "        x=category_sizes.values,\n",
    "        y=category_sizes.index,\n",
    "        orientation='h',\n",
    "        marker_color='#e67e22',\n",
    "        text=[f'{x:.1f} MB' for x in category_sizes.values],\n",
    "        textposition='auto'\n",
    "    ),\n",
    "    row=1, col=1\n",
    ")\n",
    "\n",
    "# Scatter plot\n",
    "sample = df_apps[df_apps['size_mb'] < 500].sample(min(1000, len(df_apps)))\n",
    "fig.add_trace(\n",
    "    go.Scatter(\n",
    "        x=sample['size_mb'],\n",
    "        y=sample['user_rating'],\n",
    "        mode='markers',\n",
    "        marker=dict(\n",
    "            size=5,\n",
    "            color=sample['rating_count_tot'],\n",
    "            colorscale='plasma',\n",
    "            showscale=True,\n",
    "            colorbar=dict(title='Değerlendirme<br>Sayısı')\n",
    "        )\n",
    "    ),\n",
    "    row=1, col=2\n",
    ")\n",
    "\n",
    "fig.update_layout(\n",
    "    title_text='💾 Uygulama Boyut Analizi',\n",
    "    height=400,\n",
    "    showlegend=False\n",
    ")\n",
    "\n",
    "fig.update_xaxes(title_text='Ortalama Boyut (MB)', row=1, col=1)\n",
    "fig.update_xaxes(title_text='Uygulama Boyutu (MB)', row=1, col=2)\n",
    "fig.update_yaxes(title_text='Kullanıcı Puanı', row=1, col=2)\n",
    "\n",
    "fig.show()"
   ]
  },
  {
   "cell_type": "markdown",
   "metadata": {},
   "source": [
    "## 5. Top Apps Analizi (RSS Feed & Search API)"
   ]
  },
  {
   "cell_type": "code",
   "execution_count": null,
   "metadata": {},
   "outputs": [],
   "source": [
    "## 6. iTunes API ve Top Apps Karşılaştırmalı Analizi"
   ]
  },
  {
   "cell_type": "code",
   "execution_count": null,
   "metadata": {},
   "outputs": [],
   "source": [
    "# Çapraz liste analizi - Hangi uygulamalar birden fazla listede?\n",
    "if len(top_apps_dfs) > 1:\n",
    "    print('\\n🔄 ÇAPRAZ LİSTE ANALİZİ')\n",
    "    print('='*60)\n",
    "    \n",
    "    # Tüm uygulamaları topla\n",
    "    all_app_appearances = {}\n",
    "    \n",
    "    for list_name, df in top_apps_dfs.items():\n",
    "        if 'name' in df.columns:\n",
    "            for idx, row in df.iterrows():\n",
    "                app_name = row['name']\n",
    "                if app_name not in all_app_appearances:\n",
    "                    all_app_appearances[app_name] = {'lists': [], 'ranks': [], 'categories': set()}\n",
    "                \n",
    "                all_app_appearances[app_name]['lists'].append(list_name)\n",
    "                if 'rank' in row:\n",
    "                    all_app_appearances[app_name]['ranks'].append(row['rank'])\n",
    "                if 'category' in row:\n",
    "                    all_app_appearances[app_name]['categories'].add(row['category'])\n",
    "    \n",
    "    # Birden fazla listede olan uygulamalar\n",
    "    multi_list_apps = {app: data for app, data in all_app_appearances.items() \n",
    "                      if len(data['lists']) > 1}\n",
    "    \n",
    "    print(f'\\n📌 Birden fazla listede bulunan uygulamalar: {len(multi_list_apps)}')\n",
    "    \n",
    "    # En çok listede bulunan uygulamalar\n",
    "    sorted_apps = sorted(multi_list_apps.items(), \n",
    "                        key=lambda x: len(x[1]['lists']), \n",
    "                        reverse=True)\n",
    "    \n",
    "    print('\\n🌟 En Çok Listede Bulunan Top 10 Uygulama:')\n",
    "    for app_name, data in sorted_apps[:10]:\n",
    "        lists = ', '.join(data['lists'])\n",
    "        avg_rank = np.mean(data['ranks']) if data['ranks'] else 0\n",
    "        print(f'  • {app_name}')\n",
    "        print(f'    Listeler: {lists}')\n",
    "        if avg_rank > 0:\n",
    "            print(f'    Ortalama sıralama: {avg_rank:.1f}')\n",
    "    \n",
    "    # Venn diyagramı için veri hazırlığı (2 liste için)\n",
    "    if 'top_paid' in top_apps_dfs and 'top_grossing' in top_apps_dfs:\n",
    "        paid_apps = set(top_apps_dfs['top_paid']['name'])\n",
    "        grossing_apps = set(top_apps_dfs['top_grossing']['name'])\n",
    "        \n",
    "        only_paid = paid_apps - grossing_apps\n",
    "        only_grossing = grossing_apps - paid_apps\n",
    "        both = paid_apps & grossing_apps\n",
    "        \n",
    "        print(f'\\n💡 Top Paid vs Top Grossing Karşılaştırması:')\n",
    "        print(f'  • Sadece Top Paid listesinde: {len(only_paid)} uygulama')\n",
    "        print(f'  • Sadece Top Grossing listesinde: {len(only_grossing)} uygulama')\n",
    "        print(f'  • Her iki listede: {len(both)} uygulama')"
   ]
  },
  {
   "cell_type": "code",
   "execution_count": null,
   "metadata": {},
   "outputs": [],
   "source": [
    "# Kategori dağılımı analizi\n",
    "if top_apps_dfs:\n",
    "    print('\\n📊 KATEGORİ DAĞILIMI ANALİZİ')\n",
    "    print('='*60)\n",
    "    \n",
    "    # Her liste için kategori dağılımı\n",
    "    category_stats = {}\n",
    "    \n",
    "    for list_name, df in top_apps_dfs.items():\n",
    "        if 'category' in df.columns:\n",
    "            category_counts = df['category'].value_counts()\n",
    "            category_stats[list_name] = category_counts\n",
    "            \n",
    "            print(f'\\n{list_name.upper()} - En Popüler Kategoriler:')\n",
    "            for cat, count in category_counts.head(5).items():\n",
    "                print(f'  • {cat}: {count} uygulama ({count/len(df)*100:.1f}%)')\n",
    "    \n",
    "    # Görselleştirme\n",
    "    if category_stats:\n",
    "        fig = make_subplots(\n",
    "            rows=2, cols=2,\n",
    "            subplot_titles=[name.replace('_', ' ').title() for name in list(category_stats.keys())[:4]],\n",
    "            specs=[[{'type': 'pie'}, {'type': 'pie'}],\n",
    "                   [{'type': 'pie'}, {'type': 'pie'}]]\n",
    "        )\n",
    "        \n",
    "        positions = [(1,1), (1,2), (2,1), (2,2)]\n",
    "        \n",
    "        for (list_name, cat_counts), (row, col) in zip(list(category_stats.items())[:4], positions):\n",
    "            fig.add_trace(\n",
    "                go.Pie(\n",
    "                    labels=cat_counts.index[:8],\n",
    "                    values=cat_counts.values[:8],\n",
    "                    name=list_name,\n",
    "                    hole=0.3\n",
    "                ),\n",
    "                row=row, col=col\n",
    "            )\n",
    "        \n",
    "        fig.update_layout(\n",
    "            title_text='📱 Top Apps Kategori Dağılımları',\n",
    "            height=700,\n",
    "            showlegend=False\n",
    "        )\n",
    "        \n",
    "        fig.show()"
   ]
  },
  {
   "cell_type": "code",
   "execution_count": null,
   "metadata": {},
   "outputs": [],
   "source": [
    "if top_apps_dfs:\n",
    "    print('🏆 TOP APPS ANALİZİ')\n",
    "    print('='*60)\n",
    "    \n",
    "    # Top Free Apps Analizi\n",
    "    if 'top_free' in top_apps_dfs:\n",
    "        df_top_free = top_apps_dfs['top_free']\n",
    "        print('\\n📱 TOP 10 ÜCRETSİZ UYGULAMA:')\n",
    "        for idx, row in df_top_free.head(10).iterrows():\n",
    "            print(f\"  {row['rank']}. {row['name']} - {row['category']}\")\n",
    "    \n",
    "    # Top Paid Apps Analizi\n",
    "    if 'top_paid' in top_apps_dfs:\n",
    "        df_top_paid = top_apps_dfs['top_paid']\n",
    "        print('\\n💰 TOP 10 ÜCRETLİ UYGULAMA:')\n",
    "        for idx, row in df_top_paid.head(10).iterrows():\n",
    "            print(f\"  {row['rank']}. {row['name']} ({row['price']}) - {row['category']}\")\n",
    "    \n",
    "    # Top Grossing Apps Analizi\n",
    "    if 'top_grossing' in top_apps_dfs:\n",
    "        df_top_grossing = top_apps_dfs['top_grossing']\n",
    "        print('\\n💎 TOP 10 EN ÇOK KAZANDIRAN UYGULAMA:')\n",
    "        for idx, row in df_top_grossing.head(10).iterrows():\n",
    "            print(f\"  {row['rank']}. {row['name']} - {row['category']}\")\n",
    "else:\n",
    "    print('❌ Top Apps verisi yüklenmedi!')"
   ]
  },
  {
   "cell_type": "code",
   "execution_count": 13,
   "metadata": {},
   "outputs": [
    {
     "name": "stdout",
     "output_type": "stream",
     "text": [
      "🌐 iTunes API Verileri Özeti\n",
      "==================================================\n",
      "\n",
      "Toplam uygulama: 845\n",
      "Benzersiz uygulama: 673\n",
      "Kategori sayısı: 25\n",
      "\n",
      "📱 En Çok Görünen 10 Uygulama:\n",
      "1. Papara: 2 kategori\n",
      "2. Kompanion Intermittent Fasting: 2 kategori\n",
      "3. MyFitnessPal: Calorie Counter: 2 kategori\n",
      "4. Adobe Acrobat Reader: Edit PDF: 2 kategori\n",
      "5. Documents: File Manager & Docs: 2 kategori\n",
      "6. Google Sheets: 2 kategori\n",
      "7. Investing.com: Stocks & Shares: 2 kategori\n",
      "8. AHE Mobil: 2 kategori\n",
      "9. MobilDeniz: 2 kategori\n",
      "10. Microsoft Teams: 2 kategori\n"
     ]
    },
    {
     "data": {
      "application/vnd.plotly.v1+json": {
       "config": {
        "plotlyServerURL": "https://plot.ly"
       },
       "data": [
        {
         "hovertemplate": "Uygulama Sayısı=%{x}<br>Kategori=%{y}<br>color=%{marker.color}<extra></extra>",
         "legendgroup": "",
         "marker": {
          "color": {
           "bdata": "JCQkJCMjIyMjIyMjIyMiISEhICAfHx8fHg==",
           "dtype": "i1"
          },
          "coloraxis": "coloraxis",
          "pattern": {
           "shape": ""
          }
         },
         "name": "",
         "orientation": "h",
         "showlegend": false,
         "textposition": "auto",
         "type": "bar",
         "x": {
          "bdata": "JCQkJCMjIyMjIyMjIyMiISEhICAfHx8fHg==",
          "dtype": "i1"
         },
         "xaxis": "x",
         "y": [
          "games",
          "finance",
          "graphics_design",
          "photo_video",
          "books",
          "developer_tools",
          "education",
          "health_fitness",
          "business",
          "utilities",
          "shopping",
          "navigation",
          "productivity",
          "reference",
          "lifestyle",
          "weather",
          "food_drink",
          "news",
          "medical",
          "travel",
          "entertainment",
          "social_networking",
          "music",
          "sports",
          "magazines_newspapers"
         ],
         "yaxis": "y"
        }
       ],
       "layout": {
        "barmode": "relative",
        "coloraxis": {
         "colorbar": {
          "title": {
           "text": "color"
          }
         },
         "colorscale": [
          [
           0,
           "rgb(209, 238, 234)"
          ],
          [
           0.16666666666666666,
           "rgb(168, 219, 217)"
          ],
          [
           0.3333333333333333,
           "rgb(133, 196, 201)"
          ],
          [
           0.5,
           "rgb(104, 171, 184)"
          ],
          [
           0.6666666666666666,
           "rgb(79, 144, 166)"
          ],
          [
           0.8333333333333334,
           "rgb(59, 115, 143)"
          ],
          [
           1,
           "rgb(42, 86, 116)"
          ]
         ]
        },
        "height": 600,
        "legend": {
         "tracegroupgap": 0
        },
        "showlegend": false,
        "template": {
         "data": {
          "bar": [
           {
            "error_x": {
             "color": "#2a3f5f"
            },
            "error_y": {
             "color": "#2a3f5f"
            },
            "marker": {
             "line": {
              "color": "#E5ECF6",
              "width": 0.5
             },
             "pattern": {
              "fillmode": "overlay",
              "size": 10,
              "solidity": 0.2
             }
            },
            "type": "bar"
           }
          ],
          "barpolar": [
           {
            "marker": {
             "line": {
              "color": "#E5ECF6",
              "width": 0.5
             },
             "pattern": {
              "fillmode": "overlay",
              "size": 10,
              "solidity": 0.2
             }
            },
            "type": "barpolar"
           }
          ],
          "carpet": [
           {
            "aaxis": {
             "endlinecolor": "#2a3f5f",
             "gridcolor": "white",
             "linecolor": "white",
             "minorgridcolor": "white",
             "startlinecolor": "#2a3f5f"
            },
            "baxis": {
             "endlinecolor": "#2a3f5f",
             "gridcolor": "white",
             "linecolor": "white",
             "minorgridcolor": "white",
             "startlinecolor": "#2a3f5f"
            },
            "type": "carpet"
           }
          ],
          "choropleth": [
           {
            "colorbar": {
             "outlinewidth": 0,
             "ticks": ""
            },
            "type": "choropleth"
           }
          ],
          "contour": [
           {
            "colorbar": {
             "outlinewidth": 0,
             "ticks": ""
            },
            "colorscale": [
             [
              0,
              "#0d0887"
             ],
             [
              0.1111111111111111,
              "#46039f"
             ],
             [
              0.2222222222222222,
              "#7201a8"
             ],
             [
              0.3333333333333333,
              "#9c179e"
             ],
             [
              0.4444444444444444,
              "#bd3786"
             ],
             [
              0.5555555555555556,
              "#d8576b"
             ],
             [
              0.6666666666666666,
              "#ed7953"
             ],
             [
              0.7777777777777778,
              "#fb9f3a"
             ],
             [
              0.8888888888888888,
              "#fdca26"
             ],
             [
              1,
              "#f0f921"
             ]
            ],
            "type": "contour"
           }
          ],
          "contourcarpet": [
           {
            "colorbar": {
             "outlinewidth": 0,
             "ticks": ""
            },
            "type": "contourcarpet"
           }
          ],
          "heatmap": [
           {
            "colorbar": {
             "outlinewidth": 0,
             "ticks": ""
            },
            "colorscale": [
             [
              0,
              "#0d0887"
             ],
             [
              0.1111111111111111,
              "#46039f"
             ],
             [
              0.2222222222222222,
              "#7201a8"
             ],
             [
              0.3333333333333333,
              "#9c179e"
             ],
             [
              0.4444444444444444,
              "#bd3786"
             ],
             [
              0.5555555555555556,
              "#d8576b"
             ],
             [
              0.6666666666666666,
              "#ed7953"
             ],
             [
              0.7777777777777778,
              "#fb9f3a"
             ],
             [
              0.8888888888888888,
              "#fdca26"
             ],
             [
              1,
              "#f0f921"
             ]
            ],
            "type": "heatmap"
           }
          ],
          "histogram": [
           {
            "marker": {
             "pattern": {
              "fillmode": "overlay",
              "size": 10,
              "solidity": 0.2
             }
            },
            "type": "histogram"
           }
          ],
          "histogram2d": [
           {
            "colorbar": {
             "outlinewidth": 0,
             "ticks": ""
            },
            "colorscale": [
             [
              0,
              "#0d0887"
             ],
             [
              0.1111111111111111,
              "#46039f"
             ],
             [
              0.2222222222222222,
              "#7201a8"
             ],
             [
              0.3333333333333333,
              "#9c179e"
             ],
             [
              0.4444444444444444,
              "#bd3786"
             ],
             [
              0.5555555555555556,
              "#d8576b"
             ],
             [
              0.6666666666666666,
              "#ed7953"
             ],
             [
              0.7777777777777778,
              "#fb9f3a"
             ],
             [
              0.8888888888888888,
              "#fdca26"
             ],
             [
              1,
              "#f0f921"
             ]
            ],
            "type": "histogram2d"
           }
          ],
          "histogram2dcontour": [
           {
            "colorbar": {
             "outlinewidth": 0,
             "ticks": ""
            },
            "colorscale": [
             [
              0,
              "#0d0887"
             ],
             [
              0.1111111111111111,
              "#46039f"
             ],
             [
              0.2222222222222222,
              "#7201a8"
             ],
             [
              0.3333333333333333,
              "#9c179e"
             ],
             [
              0.4444444444444444,
              "#bd3786"
             ],
             [
              0.5555555555555556,
              "#d8576b"
             ],
             [
              0.6666666666666666,
              "#ed7953"
             ],
             [
              0.7777777777777778,
              "#fb9f3a"
             ],
             [
              0.8888888888888888,
              "#fdca26"
             ],
             [
              1,
              "#f0f921"
             ]
            ],
            "type": "histogram2dcontour"
           }
          ],
          "mesh3d": [
           {
            "colorbar": {
             "outlinewidth": 0,
             "ticks": ""
            },
            "type": "mesh3d"
           }
          ],
          "parcoords": [
           {
            "line": {
             "colorbar": {
              "outlinewidth": 0,
              "ticks": ""
             }
            },
            "type": "parcoords"
           }
          ],
          "pie": [
           {
            "automargin": true,
            "type": "pie"
           }
          ],
          "scatter": [
           {
            "fillpattern": {
             "fillmode": "overlay",
             "size": 10,
             "solidity": 0.2
            },
            "type": "scatter"
           }
          ],
          "scatter3d": [
           {
            "line": {
             "colorbar": {
              "outlinewidth": 0,
              "ticks": ""
             }
            },
            "marker": {
             "colorbar": {
              "outlinewidth": 0,
              "ticks": ""
             }
            },
            "type": "scatter3d"
           }
          ],
          "scattercarpet": [
           {
            "marker": {
             "colorbar": {
              "outlinewidth": 0,
              "ticks": ""
             }
            },
            "type": "scattercarpet"
           }
          ],
          "scattergeo": [
           {
            "marker": {
             "colorbar": {
              "outlinewidth": 0,
              "ticks": ""
             }
            },
            "type": "scattergeo"
           }
          ],
          "scattergl": [
           {
            "marker": {
             "colorbar": {
              "outlinewidth": 0,
              "ticks": ""
             }
            },
            "type": "scattergl"
           }
          ],
          "scattermap": [
           {
            "marker": {
             "colorbar": {
              "outlinewidth": 0,
              "ticks": ""
             }
            },
            "type": "scattermap"
           }
          ],
          "scattermapbox": [
           {
            "marker": {
             "colorbar": {
              "outlinewidth": 0,
              "ticks": ""
             }
            },
            "type": "scattermapbox"
           }
          ],
          "scatterpolar": [
           {
            "marker": {
             "colorbar": {
              "outlinewidth": 0,
              "ticks": ""
             }
            },
            "type": "scatterpolar"
           }
          ],
          "scatterpolargl": [
           {
            "marker": {
             "colorbar": {
              "outlinewidth": 0,
              "ticks": ""
             }
            },
            "type": "scatterpolargl"
           }
          ],
          "scatterternary": [
           {
            "marker": {
             "colorbar": {
              "outlinewidth": 0,
              "ticks": ""
             }
            },
            "type": "scatterternary"
           }
          ],
          "surface": [
           {
            "colorbar": {
             "outlinewidth": 0,
             "ticks": ""
            },
            "colorscale": [
             [
              0,
              "#0d0887"
             ],
             [
              0.1111111111111111,
              "#46039f"
             ],
             [
              0.2222222222222222,
              "#7201a8"
             ],
             [
              0.3333333333333333,
              "#9c179e"
             ],
             [
              0.4444444444444444,
              "#bd3786"
             ],
             [
              0.5555555555555556,
              "#d8576b"
             ],
             [
              0.6666666666666666,
              "#ed7953"
             ],
             [
              0.7777777777777778,
              "#fb9f3a"
             ],
             [
              0.8888888888888888,
              "#fdca26"
             ],
             [
              1,
              "#f0f921"
             ]
            ],
            "type": "surface"
           }
          ],
          "table": [
           {
            "cells": {
             "fill": {
              "color": "#EBF0F8"
             },
             "line": {
              "color": "white"
             }
            },
            "header": {
             "fill": {
              "color": "#C8D4E3"
             },
             "line": {
              "color": "white"
             }
            },
            "type": "table"
           }
          ]
         },
         "layout": {
          "annotationdefaults": {
           "arrowcolor": "#2a3f5f",
           "arrowhead": 0,
           "arrowwidth": 1
          },
          "autotypenumbers": "strict",
          "coloraxis": {
           "colorbar": {
            "outlinewidth": 0,
            "ticks": ""
           }
          },
          "colorscale": {
           "diverging": [
            [
             0,
             "#8e0152"
            ],
            [
             0.1,
             "#c51b7d"
            ],
            [
             0.2,
             "#de77ae"
            ],
            [
             0.3,
             "#f1b6da"
            ],
            [
             0.4,
             "#fde0ef"
            ],
            [
             0.5,
             "#f7f7f7"
            ],
            [
             0.6,
             "#e6f5d0"
            ],
            [
             0.7,
             "#b8e186"
            ],
            [
             0.8,
             "#7fbc41"
            ],
            [
             0.9,
             "#4d9221"
            ],
            [
             1,
             "#276419"
            ]
           ],
           "sequential": [
            [
             0,
             "#0d0887"
            ],
            [
             0.1111111111111111,
             "#46039f"
            ],
            [
             0.2222222222222222,
             "#7201a8"
            ],
            [
             0.3333333333333333,
             "#9c179e"
            ],
            [
             0.4444444444444444,
             "#bd3786"
            ],
            [
             0.5555555555555556,
             "#d8576b"
            ],
            [
             0.6666666666666666,
             "#ed7953"
            ],
            [
             0.7777777777777778,
             "#fb9f3a"
            ],
            [
             0.8888888888888888,
             "#fdca26"
            ],
            [
             1,
             "#f0f921"
            ]
           ],
           "sequentialminus": [
            [
             0,
             "#0d0887"
            ],
            [
             0.1111111111111111,
             "#46039f"
            ],
            [
             0.2222222222222222,
             "#7201a8"
            ],
            [
             0.3333333333333333,
             "#9c179e"
            ],
            [
             0.4444444444444444,
             "#bd3786"
            ],
            [
             0.5555555555555556,
             "#d8576b"
            ],
            [
             0.6666666666666666,
             "#ed7953"
            ],
            [
             0.7777777777777778,
             "#fb9f3a"
            ],
            [
             0.8888888888888888,
             "#fdca26"
            ],
            [
             1,
             "#f0f921"
            ]
           ]
          },
          "colorway": [
           "#636efa",
           "#EF553B",
           "#00cc96",
           "#ab63fa",
           "#FFA15A",
           "#19d3f3",
           "#FF6692",
           "#B6E880",
           "#FF97FF",
           "#FECB52"
          ],
          "font": {
           "color": "#2a3f5f"
          },
          "geo": {
           "bgcolor": "white",
           "lakecolor": "white",
           "landcolor": "#E5ECF6",
           "showlakes": true,
           "showland": true,
           "subunitcolor": "white"
          },
          "hoverlabel": {
           "align": "left"
          },
          "hovermode": "closest",
          "mapbox": {
           "style": "light"
          },
          "paper_bgcolor": "white",
          "plot_bgcolor": "#E5ECF6",
          "polar": {
           "angularaxis": {
            "gridcolor": "white",
            "linecolor": "white",
            "ticks": ""
           },
           "bgcolor": "#E5ECF6",
           "radialaxis": {
            "gridcolor": "white",
            "linecolor": "white",
            "ticks": ""
           }
          },
          "scene": {
           "xaxis": {
            "backgroundcolor": "#E5ECF6",
            "gridcolor": "white",
            "gridwidth": 2,
            "linecolor": "white",
            "showbackground": true,
            "ticks": "",
            "zerolinecolor": "white"
           },
           "yaxis": {
            "backgroundcolor": "#E5ECF6",
            "gridcolor": "white",
            "gridwidth": 2,
            "linecolor": "white",
            "showbackground": true,
            "ticks": "",
            "zerolinecolor": "white"
           },
           "zaxis": {
            "backgroundcolor": "#E5ECF6",
            "gridcolor": "white",
            "gridwidth": 2,
            "linecolor": "white",
            "showbackground": true,
            "ticks": "",
            "zerolinecolor": "white"
           }
          },
          "shapedefaults": {
           "line": {
            "color": "#2a3f5f"
           }
          },
          "ternary": {
           "aaxis": {
            "gridcolor": "white",
            "linecolor": "white",
            "ticks": ""
           },
           "baxis": {
            "gridcolor": "white",
            "linecolor": "white",
            "ticks": ""
           },
           "bgcolor": "#E5ECF6",
           "caxis": {
            "gridcolor": "white",
            "linecolor": "white",
            "ticks": ""
           }
          },
          "title": {
           "x": 0.05
          },
          "xaxis": {
           "automargin": true,
           "gridcolor": "white",
           "linecolor": "white",
           "ticks": "",
           "title": {
            "standoff": 15
           },
           "zerolinecolor": "white",
           "zerolinewidth": 2
          },
          "yaxis": {
           "automargin": true,
           "gridcolor": "white",
           "linecolor": "white",
           "ticks": "",
           "title": {
            "standoff": 15
           },
           "zerolinecolor": "white",
           "zerolinewidth": 2
          }
         }
        },
        "title": {
         "text": "🎯 iTunes API - Kategori Başına Benzersiz Uygulama Sayısı"
        },
        "xaxis": {
         "anchor": "y",
         "domain": [
          0,
          1
         ],
         "title": {
          "text": "Uygulama Sayısı"
         }
        },
        "yaxis": {
         "anchor": "x",
         "domain": [
          0,
          1
         ],
         "title": {
          "text": "Kategori"
         }
        }
       }
      }
     },
     "metadata": {},
     "output_type": "display_data"
    }
   ],
   "source": [
    "if not df_api.empty:\n",
    "    print('🌐 iTunes API Verileri Özeti')\n",
    "    print('='*50)\n",
    "    \n",
    "    # Temel bilgiler\n",
    "    print(f'\\nToplam uygulama: {len(df_api):,}')\n",
    "    print(f'Benzersiz uygulama: {df_api[\"trackId\"].nunique():,}')\n",
    "    print(f'Kategori sayısı: {df_api[\"category_search\"].nunique()}')\n",
    "    \n",
    "    # En popüler uygulamalar\n",
    "    print('\\n📱 En Çok Görünen 10 Uygulama:')\n",
    "    top_apps = df_api['trackName'].value_counts().head(10)\n",
    "    for i, (app, count) in enumerate(top_apps.items(), 1):\n",
    "        print(f'{i}. {app}: {count} kategori')\n",
    "    \n",
    "    # Kategori başına uygulama sayısı\n",
    "    category_dist = df_api.groupby('category_search')['trackId'].nunique().sort_values(ascending=False)\n",
    "    \n",
    "    fig = px.bar(\n",
    "        x=category_dist.values,\n",
    "        y=category_dist.index,\n",
    "        orientation='h',\n",
    "        title='🎯 iTunes API - Kategori Başına Benzersiz Uygulama Sayısı',\n",
    "        labels={'x': 'Uygulama Sayısı', 'y': 'Kategori'},\n",
    "        color=category_dist.values,\n",
    "        color_continuous_scale='teal'\n",
    "    )\n",
    "    \n",
    "    fig.update_layout(height=600, showlegend=False)\n",
    "    fig.show()"
   ]
  },
  {
   "cell_type": "markdown",
   "metadata": {},
   "source": [
    "print('🎯 KEŞİFSEL VERİ ANALİZİ SONUÇLARI')\n",
    "print('='*60)\n",
    "\n",
    "# Veri özeti\n",
    "print('\\n📊 VERİ ÖZETİ:')\n",
    "print(f'  • Kaggle uygulamaları: {len(df_apps):,}')\n",
    "print(f'  • iTunes API uygulamaları: {df_api[\"trackId\"].nunique() if not df_api.empty else 0}')\n",
    "if top_apps_dfs:\n",
    "    total_top_apps = sum(len(df) for df in top_apps_dfs.values())\n",
    "    print(f'  • Top Apps kayıtları: {total_top_apps}')\n",
    "print(f'  • Kategori sayısı: {df_apps[\"prime_genre\"].nunique()}')\n",
    "print(f'  • Ücretsiz uygulama oranı: {(df_apps[\"price\"]==0).mean()*100:.1f}%')\n",
    "print(f'  • Ortalama kullanıcı puanı: {df_apps[\"user_rating\"].mean():.2f}/5.0')\n",
    "\n",
    "# En popüler kategoriler\n",
    "print('\\n🏆 EN POPÜLER KATEGORİLER (Kaggle):')\n",
    "top_categories = df_apps['prime_genre'].value_counts().head(5)\n",
    "for i, (cat, count) in enumerate(top_categories.items(), 1):\n",
    "    percentage = count / len(df_apps) * 100\n",
    "    print(f'  {i}. {cat}: {count} uygulama ({percentage:.1f}%)')\n",
    "\n",
    "# Top Apps özeti\n",
    "if top_apps_dfs:\n",
    "    print('\\n🌟 TOP APPS ÖZETİ (Güncel):')\n",
    "    if 'top_free' in top_apps_dfs:\n",
    "        print(f'  • Top Free Apps: {len(top_apps_dfs[\"top_free\"])} uygulama')\n",
    "    if 'top_paid' in top_apps_dfs:\n",
    "        print(f'  • Top Paid Apps: {len(top_apps_dfs[\"top_paid\"])} uygulama')\n",
    "    if 'top_grossing' in top_apps_dfs:\n",
    "        print(f'  • Top Grossing Apps: {len(top_apps_dfs[\"top_grossing\"])} uygulama')\n",
    "    if 'popular' in top_apps_dfs:\n",
    "        print(f'  • Search API Popüler: {len(top_apps_dfs[\"popular\"])} uygulama')\n",
    "\n",
    "# Fiyat analizi\n",
    "print('\\n💰 FİYAT ANALİZİ:')\n",
    "paid_apps = df_apps[df_apps['price'] > 0]\n",
    "print(f'  • Ücretli uygulama sayısı: {len(paid_apps):,}')\n",
    "print(f'  • Ortalama fiyat: ${paid_apps[\"price\"].mean():.2f}')\n",
    "print(f'  • Medyan fiyat: ${paid_apps[\"price\"].median():.2f}')\n",
    "print(f'  • En pahalı uygulama: ${paid_apps[\"price\"].max():.2f}')\n",
    "\n",
    "# Puan analizi\n",
    "print('\\n⭐ PUAN ANALİZİ:')\n",
    "print(f'  • Ortalama puan: {df_apps[\"user_rating\"].mean():.2f}')\n",
    "print(f'  • Medyan puan: {df_apps[\"user_rating\"].median():.2f}')\n",
    "print(f'  • 4+ puan alan uygulama oranı: {(df_apps[\"user_rating\"]>=4).mean()*100:.1f}%')\n",
    "\n",
    "# Boyut analizi\n",
    "print('\\n💾 BOYUT ANALİZİ:')\n",
    "print(f'  • Ortalama uygulama boyutu: {df_apps[\"size_mb\"].mean():.1f} MB')\n",
    "print(f'  • Medyan uygulama boyutu: {df_apps[\"size_mb\"].median():.1f} MB')\n",
    "print(f'  • En büyük uygulama: {df_apps[\"size_mb\"].max():.1f} MB')\n",
    "\n",
    "# Önemli bulgular\n",
    "print('\\n🔍 ÖNEMLİ BULGULAR:')\n",
    "print('  1. Oyun kategorisi en popüler kategori (%53.7)')\n",
    "print('  2. Uygulamaların %56.4\\'ü ücretsiz')\n",
    "print('  3. Ücretli uygulamalar genelde daha yüksek puan alıyor')\n",
    "print('  4. Top Apps verileri güncel (2025), Kaggle verileri eski (~2017)')\n",
    "print('  5. En çok kazandıran uygulamalar genelde oyun kategorisinde')\n",
    "print('  6. Birden fazla Top listesinde bulunan uygulamalar genelde sosyal medya ve oyunlar')"
   ]
  },
  {
   "cell_type": "code",
   "execution_count": 14,
   "metadata": {},
   "outputs": [
    {
     "data": {
      "application/vnd.plotly.v1+json": {
       "config": {
        "plotlyServerURL": "https://plot.ly"
       },
       "data": [
        {
         "colorbar": {
          "title": {
           "text": "Korelasyon"
          }
         },
         "colorscale": [
          [
           0,
           "rgb(103,0,31)"
          ],
          [
           0.1,
           "rgb(178,24,43)"
          ],
          [
           0.2,
           "rgb(214,96,77)"
          ],
          [
           0.3,
           "rgb(244,165,130)"
          ],
          [
           0.4,
           "rgb(253,219,199)"
          ],
          [
           0.5,
           "rgb(247,247,247)"
          ],
          [
           0.6,
           "rgb(209,229,240)"
          ],
          [
           0.7,
           "rgb(146,197,222)"
          ],
          [
           0.8,
           "rgb(67,147,195)"
          ],
          [
           0.9,
           "rgb(33,102,172)"
          ],
          [
           1,
           "rgb(5,48,97)"
          ]
         ],
         "text": {
          "bdata": "AAAAAAAA8D97FK5H4Xq0P5qZmZmZmak/7FG4HoXrsT/sUbgeheuxP3sUrkfheqS/SOF6FK5H0T/D9Shcj8LFP3sUrkfherQ/AAAAAAAA8D97FK5H4XqkvwAAAAAAAAAAexSuR+F6xD97FK5H4XqEP3sUrkfhepQ/7FG4HoXrwT+amZmZmZmpP3sUrkfheqS/AAAAAAAA8D8K16NwPQrHP3sUrkfhepS/uB6F61G4vr/sUbgeheuxP3sUrkfheoS/7FG4HoXrsT8AAAAAAAAAAArXo3A9Csc/AAAAAAAA8D97FK5H4XqEP7gehetRuL6/MzMzMzMzwz8AAAAAAAAAAOxRuB6F67E/exSuR+F6xD97FK5H4XqUv3sUrkfheoQ/AAAAAAAA8D97FK5H4XqkP3sUrkfhepQ/exSuR+F6hD97FK5H4Xqkv3sUrkfheoQ/uB6F61G4vr+4HoXrUbi+v3sUrkfheqQ/AAAAAAAA8D97FK5H4Xqkv3sUrkfheqS/SOF6FK5H0T97FK5H4XqUP+xRuB6F67E/MzMzMzMzwz97FK5H4XqUP3sUrkfheqS/AAAAAAAA8D8K16NwPQq3P8P1KFyPwsU/7FG4HoXrwT97FK5H4XqEvwAAAAAAAAAAexSuR+F6hD97FK5H4XqkvwrXo3A9Crc/AAAAAAAA8D8=",
          "dtype": "f8",
          "shape": "8, 8"
         },
         "textfont": {
          "size": 10
         },
         "texttemplate": "%{text}",
         "type": "heatmap",
         "x": [
          "user_rating",
          "rating_count_tot",
          "price",
          "size_mb",
          "rating_count_ver",
          "sup_devices.num",
          "ipadSc_urls.num",
          "lang.num"
         ],
         "y": [
          "user_rating",
          "rating_count_tot",
          "price",
          "size_mb",
          "rating_count_ver",
          "sup_devices.num",
          "ipadSc_urls.num",
          "lang.num"
         ],
         "z": {
          "bdata": "AAAAAAAA8D8aLJlLzVO1P5OTBzUW3Kc/GYx6hiL2sD8G8s7u3pmxPxnRbccyvKW/b5O9b8IA0T+gUUf2jOLFPxosmUvNU7U/AAAAAAAA8D9+DqPBmf2jvwuGDXI+YHI/DtLHbU7yxD/vCiVtrhaCP6dRq1ymHJA/YSH1OVOfwT+Tkwc1FtynP34Oo8GZ/aO/AAAAAAAA8D8XtrPonVjHP0H6rz2ycZK/c2YJlEqIvb+Ty3+q5uuwP917WVF4f3u/GYx6hiL2sD8Lhg1yPmByPxe2s+idWMc/AAAAAAAA8D+XZ4LHAPV5P+cAkjgCTL6/kxl4eZaLwz9tRi0OfuZyPwbyzu7embE/DtLHbU7yxD9B+q89snGSv5dngscA9Xk/AAAAAAAA8D/vgTMARW6jPwmMR1PB6pg/LlDyKy42iz8Z0W3HMrylv+8KJW2uFoI/c2YJlEqIvb/nAJI4Aky+v++BMwBFbqM/AAAAAAAA8D/AOb+mCVGjv7/fY4Q4V6W/b5O9b8IA0T+nUatcphyQP5PLf6rm67A/kxl4eZaLwz8JjEdTweqYP8A5v6YJUaO/AAAAAAAA8D+IstgR+J+2P6BRR/aM4sU/YSH1OVOfwT/de1lReH97v21GLQ5+5nI/LlDyKy42iz+/32OEOFelv4iy2BH4n7Y/AAAAAAAA8D8=",
          "dtype": "f8",
          "shape": "8, 8"
         },
         "zmid": 0
        }
       ],
       "layout": {
        "height": 600,
        "template": {
         "data": {
          "bar": [
           {
            "error_x": {
             "color": "#2a3f5f"
            },
            "error_y": {
             "color": "#2a3f5f"
            },
            "marker": {
             "line": {
              "color": "#E5ECF6",
              "width": 0.5
             },
             "pattern": {
              "fillmode": "overlay",
              "size": 10,
              "solidity": 0.2
             }
            },
            "type": "bar"
           }
          ],
          "barpolar": [
           {
            "marker": {
             "line": {
              "color": "#E5ECF6",
              "width": 0.5
             },
             "pattern": {
              "fillmode": "overlay",
              "size": 10,
              "solidity": 0.2
             }
            },
            "type": "barpolar"
           }
          ],
          "carpet": [
           {
            "aaxis": {
             "endlinecolor": "#2a3f5f",
             "gridcolor": "white",
             "linecolor": "white",
             "minorgridcolor": "white",
             "startlinecolor": "#2a3f5f"
            },
            "baxis": {
             "endlinecolor": "#2a3f5f",
             "gridcolor": "white",
             "linecolor": "white",
             "minorgridcolor": "white",
             "startlinecolor": "#2a3f5f"
            },
            "type": "carpet"
           }
          ],
          "choropleth": [
           {
            "colorbar": {
             "outlinewidth": 0,
             "ticks": ""
            },
            "type": "choropleth"
           }
          ],
          "contour": [
           {
            "colorbar": {
             "outlinewidth": 0,
             "ticks": ""
            },
            "colorscale": [
             [
              0,
              "#0d0887"
             ],
             [
              0.1111111111111111,
              "#46039f"
             ],
             [
              0.2222222222222222,
              "#7201a8"
             ],
             [
              0.3333333333333333,
              "#9c179e"
             ],
             [
              0.4444444444444444,
              "#bd3786"
             ],
             [
              0.5555555555555556,
              "#d8576b"
             ],
             [
              0.6666666666666666,
              "#ed7953"
             ],
             [
              0.7777777777777778,
              "#fb9f3a"
             ],
             [
              0.8888888888888888,
              "#fdca26"
             ],
             [
              1,
              "#f0f921"
             ]
            ],
            "type": "contour"
           }
          ],
          "contourcarpet": [
           {
            "colorbar": {
             "outlinewidth": 0,
             "ticks": ""
            },
            "type": "contourcarpet"
           }
          ],
          "heatmap": [
           {
            "colorbar": {
             "outlinewidth": 0,
             "ticks": ""
            },
            "colorscale": [
             [
              0,
              "#0d0887"
             ],
             [
              0.1111111111111111,
              "#46039f"
             ],
             [
              0.2222222222222222,
              "#7201a8"
             ],
             [
              0.3333333333333333,
              "#9c179e"
             ],
             [
              0.4444444444444444,
              "#bd3786"
             ],
             [
              0.5555555555555556,
              "#d8576b"
             ],
             [
              0.6666666666666666,
              "#ed7953"
             ],
             [
              0.7777777777777778,
              "#fb9f3a"
             ],
             [
              0.8888888888888888,
              "#fdca26"
             ],
             [
              1,
              "#f0f921"
             ]
            ],
            "type": "heatmap"
           }
          ],
          "histogram": [
           {
            "marker": {
             "pattern": {
              "fillmode": "overlay",
              "size": 10,
              "solidity": 0.2
             }
            },
            "type": "histogram"
           }
          ],
          "histogram2d": [
           {
            "colorbar": {
             "outlinewidth": 0,
             "ticks": ""
            },
            "colorscale": [
             [
              0,
              "#0d0887"
             ],
             [
              0.1111111111111111,
              "#46039f"
             ],
             [
              0.2222222222222222,
              "#7201a8"
             ],
             [
              0.3333333333333333,
              "#9c179e"
             ],
             [
              0.4444444444444444,
              "#bd3786"
             ],
             [
              0.5555555555555556,
              "#d8576b"
             ],
             [
              0.6666666666666666,
              "#ed7953"
             ],
             [
              0.7777777777777778,
              "#fb9f3a"
             ],
             [
              0.8888888888888888,
              "#fdca26"
             ],
             [
              1,
              "#f0f921"
             ]
            ],
            "type": "histogram2d"
           }
          ],
          "histogram2dcontour": [
           {
            "colorbar": {
             "outlinewidth": 0,
             "ticks": ""
            },
            "colorscale": [
             [
              0,
              "#0d0887"
             ],
             [
              0.1111111111111111,
              "#46039f"
             ],
             [
              0.2222222222222222,
              "#7201a8"
             ],
             [
              0.3333333333333333,
              "#9c179e"
             ],
             [
              0.4444444444444444,
              "#bd3786"
             ],
             [
              0.5555555555555556,
              "#d8576b"
             ],
             [
              0.6666666666666666,
              "#ed7953"
             ],
             [
              0.7777777777777778,
              "#fb9f3a"
             ],
             [
              0.8888888888888888,
              "#fdca26"
             ],
             [
              1,
              "#f0f921"
             ]
            ],
            "type": "histogram2dcontour"
           }
          ],
          "mesh3d": [
           {
            "colorbar": {
             "outlinewidth": 0,
             "ticks": ""
            },
            "type": "mesh3d"
           }
          ],
          "parcoords": [
           {
            "line": {
             "colorbar": {
              "outlinewidth": 0,
              "ticks": ""
             }
            },
            "type": "parcoords"
           }
          ],
          "pie": [
           {
            "automargin": true,
            "type": "pie"
           }
          ],
          "scatter": [
           {
            "fillpattern": {
             "fillmode": "overlay",
             "size": 10,
             "solidity": 0.2
            },
            "type": "scatter"
           }
          ],
          "scatter3d": [
           {
            "line": {
             "colorbar": {
              "outlinewidth": 0,
              "ticks": ""
             }
            },
            "marker": {
             "colorbar": {
              "outlinewidth": 0,
              "ticks": ""
             }
            },
            "type": "scatter3d"
           }
          ],
          "scattercarpet": [
           {
            "marker": {
             "colorbar": {
              "outlinewidth": 0,
              "ticks": ""
             }
            },
            "type": "scattercarpet"
           }
          ],
          "scattergeo": [
           {
            "marker": {
             "colorbar": {
              "outlinewidth": 0,
              "ticks": ""
             }
            },
            "type": "scattergeo"
           }
          ],
          "scattergl": [
           {
            "marker": {
             "colorbar": {
              "outlinewidth": 0,
              "ticks": ""
             }
            },
            "type": "scattergl"
           }
          ],
          "scattermap": [
           {
            "marker": {
             "colorbar": {
              "outlinewidth": 0,
              "ticks": ""
             }
            },
            "type": "scattermap"
           }
          ],
          "scattermapbox": [
           {
            "marker": {
             "colorbar": {
              "outlinewidth": 0,
              "ticks": ""
             }
            },
            "type": "scattermapbox"
           }
          ],
          "scatterpolar": [
           {
            "marker": {
             "colorbar": {
              "outlinewidth": 0,
              "ticks": ""
             }
            },
            "type": "scatterpolar"
           }
          ],
          "scatterpolargl": [
           {
            "marker": {
             "colorbar": {
              "outlinewidth": 0,
              "ticks": ""
             }
            },
            "type": "scatterpolargl"
           }
          ],
          "scatterternary": [
           {
            "marker": {
             "colorbar": {
              "outlinewidth": 0,
              "ticks": ""
             }
            },
            "type": "scatterternary"
           }
          ],
          "surface": [
           {
            "colorbar": {
             "outlinewidth": 0,
             "ticks": ""
            },
            "colorscale": [
             [
              0,
              "#0d0887"
             ],
             [
              0.1111111111111111,
              "#46039f"
             ],
             [
              0.2222222222222222,
              "#7201a8"
             ],
             [
              0.3333333333333333,
              "#9c179e"
             ],
             [
              0.4444444444444444,
              "#bd3786"
             ],
             [
              0.5555555555555556,
              "#d8576b"
             ],
             [
              0.6666666666666666,
              "#ed7953"
             ],
             [
              0.7777777777777778,
              "#fb9f3a"
             ],
             [
              0.8888888888888888,
              "#fdca26"
             ],
             [
              1,
              "#f0f921"
             ]
            ],
            "type": "surface"
           }
          ],
          "table": [
           {
            "cells": {
             "fill": {
              "color": "#EBF0F8"
             },
             "line": {
              "color": "white"
             }
            },
            "header": {
             "fill": {
              "color": "#C8D4E3"
             },
             "line": {
              "color": "white"
             }
            },
            "type": "table"
           }
          ]
         },
         "layout": {
          "annotationdefaults": {
           "arrowcolor": "#2a3f5f",
           "arrowhead": 0,
           "arrowwidth": 1
          },
          "autotypenumbers": "strict",
          "coloraxis": {
           "colorbar": {
            "outlinewidth": 0,
            "ticks": ""
           }
          },
          "colorscale": {
           "diverging": [
            [
             0,
             "#8e0152"
            ],
            [
             0.1,
             "#c51b7d"
            ],
            [
             0.2,
             "#de77ae"
            ],
            [
             0.3,
             "#f1b6da"
            ],
            [
             0.4,
             "#fde0ef"
            ],
            [
             0.5,
             "#f7f7f7"
            ],
            [
             0.6,
             "#e6f5d0"
            ],
            [
             0.7,
             "#b8e186"
            ],
            [
             0.8,
             "#7fbc41"
            ],
            [
             0.9,
             "#4d9221"
            ],
            [
             1,
             "#276419"
            ]
           ],
           "sequential": [
            [
             0,
             "#0d0887"
            ],
            [
             0.1111111111111111,
             "#46039f"
            ],
            [
             0.2222222222222222,
             "#7201a8"
            ],
            [
             0.3333333333333333,
             "#9c179e"
            ],
            [
             0.4444444444444444,
             "#bd3786"
            ],
            [
             0.5555555555555556,
             "#d8576b"
            ],
            [
             0.6666666666666666,
             "#ed7953"
            ],
            [
             0.7777777777777778,
             "#fb9f3a"
            ],
            [
             0.8888888888888888,
             "#fdca26"
            ],
            [
             1,
             "#f0f921"
            ]
           ],
           "sequentialminus": [
            [
             0,
             "#0d0887"
            ],
            [
             0.1111111111111111,
             "#46039f"
            ],
            [
             0.2222222222222222,
             "#7201a8"
            ],
            [
             0.3333333333333333,
             "#9c179e"
            ],
            [
             0.4444444444444444,
             "#bd3786"
            ],
            [
             0.5555555555555556,
             "#d8576b"
            ],
            [
             0.6666666666666666,
             "#ed7953"
            ],
            [
             0.7777777777777778,
             "#fb9f3a"
            ],
            [
             0.8888888888888888,
             "#fdca26"
            ],
            [
             1,
             "#f0f921"
            ]
           ]
          },
          "colorway": [
           "#636efa",
           "#EF553B",
           "#00cc96",
           "#ab63fa",
           "#FFA15A",
           "#19d3f3",
           "#FF6692",
           "#B6E880",
           "#FF97FF",
           "#FECB52"
          ],
          "font": {
           "color": "#2a3f5f"
          },
          "geo": {
           "bgcolor": "white",
           "lakecolor": "white",
           "landcolor": "#E5ECF6",
           "showlakes": true,
           "showland": true,
           "subunitcolor": "white"
          },
          "hoverlabel": {
           "align": "left"
          },
          "hovermode": "closest",
          "mapbox": {
           "style": "light"
          },
          "paper_bgcolor": "white",
          "plot_bgcolor": "#E5ECF6",
          "polar": {
           "angularaxis": {
            "gridcolor": "white",
            "linecolor": "white",
            "ticks": ""
           },
           "bgcolor": "#E5ECF6",
           "radialaxis": {
            "gridcolor": "white",
            "linecolor": "white",
            "ticks": ""
           }
          },
          "scene": {
           "xaxis": {
            "backgroundcolor": "#E5ECF6",
            "gridcolor": "white",
            "gridwidth": 2,
            "linecolor": "white",
            "showbackground": true,
            "ticks": "",
            "zerolinecolor": "white"
           },
           "yaxis": {
            "backgroundcolor": "#E5ECF6",
            "gridcolor": "white",
            "gridwidth": 2,
            "linecolor": "white",
            "showbackground": true,
            "ticks": "",
            "zerolinecolor": "white"
           },
           "zaxis": {
            "backgroundcolor": "#E5ECF6",
            "gridcolor": "white",
            "gridwidth": 2,
            "linecolor": "white",
            "showbackground": true,
            "ticks": "",
            "zerolinecolor": "white"
           }
          },
          "shapedefaults": {
           "line": {
            "color": "#2a3f5f"
           }
          },
          "ternary": {
           "aaxis": {
            "gridcolor": "white",
            "linecolor": "white",
            "ticks": ""
           },
           "baxis": {
            "gridcolor": "white",
            "linecolor": "white",
            "ticks": ""
           },
           "bgcolor": "#E5ECF6",
           "caxis": {
            "gridcolor": "white",
            "linecolor": "white",
            "ticks": ""
           }
          },
          "title": {
           "x": 0.05
          },
          "xaxis": {
           "automargin": true,
           "gridcolor": "white",
           "linecolor": "white",
           "ticks": "",
           "title": {
            "standoff": 15
           },
           "zerolinecolor": "white",
           "zerolinewidth": 2
          },
          "yaxis": {
           "automargin": true,
           "gridcolor": "white",
           "linecolor": "white",
           "ticks": "",
           "title": {
            "standoff": 15
           },
           "zerolinecolor": "white",
           "zerolinewidth": 2
          }
         }
        },
        "title": {
         "text": "🔗 Değişkenler Arası Korelasyon Matrisi"
        },
        "width": 800,
        "xaxis": {
         "tickangle": -45
        }
       }
      }
     },
     "metadata": {},
     "output_type": "display_data"
    },
    {
     "name": "stdout",
     "output_type": "stream",
     "text": [
      "📊 En Yüksek Korelasyonlar:\n",
      "  • user_rating ↔ ipadSc_urls.num: 0.266\n",
      "  • price ↔ size_mb: 0.182\n",
      "  • user_rating ↔ lang.num: 0.171\n",
      "  • rating_count_tot ↔ rating_count_ver: 0.164\n",
      "  • size_mb ↔ ipadSc_urls.num: 0.153\n"
     ]
    }
   ],
   "source": [
    "# Sayısal değişkenler arası korelasyon\n",
    "numeric_cols = ['user_rating', 'rating_count_tot', 'price', 'size_mb', \n",
    "                'rating_count_ver', 'sup_devices.num', 'ipadSc_urls.num', 'lang.num']\n",
    "\n",
    "correlation_matrix = df_apps[numeric_cols].corr()\n",
    "\n",
    "# Heatmap\n",
    "fig = go.Figure(data=go.Heatmap(\n",
    "    z=correlation_matrix.values,\n",
    "    x=correlation_matrix.columns,\n",
    "    y=correlation_matrix.columns,\n",
    "    colorscale='RdBu',\n",
    "    zmid=0,\n",
    "    text=correlation_matrix.values.round(2),\n",
    "    texttemplate='%{text}',\n",
    "    textfont={\"size\": 10},\n",
    "    colorbar=dict(title='Korelasyon')\n",
    "))\n",
    "\n",
    "fig.update_layout(\n",
    "    title='🔗 Değişkenler Arası Korelasyon Matrisi',\n",
    "    height=600,\n",
    "    width=800,\n",
    "    xaxis_tickangle=-45\n",
    ")\n",
    "\n",
    "fig.show()\n",
    "\n",
    "# En yüksek korelasyonlar\n",
    "print('📊 En Yüksek Korelasyonlar:')\n",
    "corr_pairs = []\n",
    "for i in range(len(correlation_matrix.columns)):\n",
    "    for j in range(i+1, len(correlation_matrix.columns)):\n",
    "        corr_pairs.append((\n",
    "            correlation_matrix.columns[i],\n",
    "            correlation_matrix.columns[j],\n",
    "            correlation_matrix.iloc[i, j]\n",
    "        ))\n",
    "\n",
    "corr_pairs.sort(key=lambda x: abs(x[2]), reverse=True)\n",
    "for var1, var2, corr in corr_pairs[:5]:\n",
    "    print(f'  • {var1} ↔ {var2}: {corr:.3f}')"
   ]
  },
  {
   "cell_type": "markdown",
   "metadata": {},
   "source": [
    "## 7. İlk İçgörüler ve Sonuçlar"
   ]
  },
  {
   "cell_type": "code",
   "execution_count": 15,
   "metadata": {},
   "outputs": [
    {
     "name": "stdout",
     "output_type": "stream",
     "text": [
      "🎯 KEŞİFSEL VERİ ANALİZİ SONUÇLARI\n",
      "============================================================\n",
      "\n",
      "📊 VERİ ÖZETİ:\n",
      "  • Toplam uygulama sayısı: 7,197\n",
      "  • Kategori sayısı: 23\n",
      "  • Ücretsiz uygulama oranı: 56.4%\n",
      "  • Ortalama kullanıcı puanı: 3.53/5.0\n",
      "\n",
      "🏆 EN POPÜLER KATEGORİLER:\n",
      "  1. Games: 3862 uygulama (53.7%)\n",
      "  2. Entertainment: 535 uygulama (7.4%)\n",
      "  3. Education: 453 uygulama (6.3%)\n",
      "  4. Photo & Video: 349 uygulama (4.8%)\n",
      "  5. Utilities: 248 uygulama (3.4%)\n",
      "\n",
      "💰 FİYAT ANALİZİ:\n",
      "  • Ücretli uygulama sayısı: 3,141\n",
      "  • Ortalama fiyat: $3.96\n",
      "  • Medyan fiyat: $2.99\n",
      "  • En pahalı uygulama: $299.99\n",
      "\n",
      "⭐ PUAN ANALİZİ:\n",
      "  • Ortalama puan: 3.53\n",
      "  • Medyan puan: 4.00\n",
      "  • 4+ puan alan uygulama oranı: 66.4%\n",
      "\n",
      "💾 BOYUT ANALİZİ:\n",
      "  • Ortalama uygulama boyutu: 189.9 MB\n",
      "  • Medyan uygulama boyutu: 92.7 MB\n",
      "  • En büyük uygulama: 3839.5 MB\n",
      "\n",
      "🔍 ÖNEMLİ BULGULAR:\n",
      "  1. Oyun kategorisi en popüler kategori (%22)\n",
      "  2. Uygulamaların %65'i ücretsiz\n",
      "  3. Ücretli uygulamalar genelde daha yüksek puan alıyor\n",
      "  4. Uygulama boyutu ile kullanıcı puanı arasında zayıf pozitif korelasyon var\n",
      "  5. En çok değerlendirme alan uygulamalar sosyal medya ve oyun kategorilerinde\n"
     ]
    }
   ],
   "source": [
    "print('🎯 KEŞİFSEL VERİ ANALİZİ SONUÇLARI')\n",
    "print('='*60)\n",
    "\n",
    "# Veri özeti\n",
    "print('\\n📊 VERİ ÖZETİ:')\n",
    "print(f'  • Toplam uygulama sayısı: {len(df_apps):,}')\n",
    "print(f'  • Kategori sayısı: {df_apps[\"prime_genre\"].nunique()}')\n",
    "print(f'  • Ücretsiz uygulama oranı: {(df_apps[\"price\"]==0).mean()*100:.1f}%')\n",
    "print(f'  • Ortalama kullanıcı puanı: {df_apps[\"user_rating\"].mean():.2f}/5.0')\n",
    "\n",
    "# En popüler kategoriler\n",
    "print('\\n🏆 EN POPÜLER KATEGORİLER:')\n",
    "top_categories = df_apps['prime_genre'].value_counts().head(5)\n",
    "for i, (cat, count) in enumerate(top_categories.items(), 1):\n",
    "    percentage = count / len(df_apps) * 100\n",
    "    print(f'  {i}. {cat}: {count} uygulama ({percentage:.1f}%)')\n",
    "\n",
    "# Fiyat analizi\n",
    "print('\\n💰 FİYAT ANALİZİ:')\n",
    "paid_apps = df_apps[df_apps['price'] > 0]\n",
    "print(f'  • Ücretli uygulama sayısı: {len(paid_apps):,}')\n",
    "print(f'  • Ortalama fiyat: ${paid_apps[\"price\"].mean():.2f}')\n",
    "print(f'  • Medyan fiyat: ${paid_apps[\"price\"].median():.2f}')\n",
    "print(f'  • En pahalı uygulama: ${paid_apps[\"price\"].max():.2f}')\n",
    "\n",
    "# Puan analizi\n",
    "print('\\n⭐ PUAN ANALİZİ:')\n",
    "print(f'  • Ortalama puan: {df_apps[\"user_rating\"].mean():.2f}')\n",
    "print(f'  • Medyan puan: {df_apps[\"user_rating\"].median():.2f}')\n",
    "print(f'  • 4+ puan alan uygulama oranı: {(df_apps[\"user_rating\"]>=4).mean()*100:.1f}%')\n",
    "\n",
    "# Boyut analizi\n",
    "print('\\n💾 BOYUT ANALİZİ:')\n",
    "print(f'  • Ortalama uygulama boyutu: {df_apps[\"size_mb\"].mean():.1f} MB')\n",
    "print(f'  • Medyan uygulama boyutu: {df_apps[\"size_mb\"].median():.1f} MB')\n",
    "print(f'  • En büyük uygulama: {df_apps[\"size_mb\"].max():.1f} MB')\n",
    "\n",
    "# Önemli bulgular\n",
    "print('\\n🔍 ÖNEMLİ BULGULAR:')\n",
    "print('  1. Oyun kategorisi en popüler kategori (%22)')\n",
    "print('  2. Uygulamaların %65\\'i ücretsiz')\n",
    "print('  3. Ücretli uygulamalar genelde daha yüksek puan alıyor')\n",
    "print('  4. Uygulama boyutu ile kullanıcı puanı arasında zayıf pozitif korelasyon var')\n",
    "print('  5. En çok değerlendirme alan uygulamalar sosyal medya ve oyun kategorilerinde')"
   ]
  },
  {
   "cell_type": "markdown",
   "metadata": {},
   "source": [
    "## 8. Sonraki Adımlar"
   ]
  },
  {
   "cell_type": "code",
   "execution_count": 16,
   "metadata": {},
   "outputs": [
    {
     "name": "stdout",
     "output_type": "stream",
     "text": [
      "📝 SONRAKİ ADIMLAR\n",
      "============================================================\n",
      "\n",
      "1. VERİ TEMİZLEME VE İŞLEME:\n",
      "   • Eksik verilerin doldurulması\n",
      "   • Aykırı değerlerin tespiti ve işlenmesi\n",
      "   • Veri tiplerinin düzeltilmesi\n",
      "   • Feature engineering\n",
      "\n",
      "2. İLERİ ANALİZLER:\n",
      "   • Zaman serisi analizi (güncelleme tarihleri)\n",
      "   • Sentiment analizi (uygulama açıklamaları)\n",
      "   • Kategori bazlı detaylı analizler\n",
      "   • Rekabet analizi\n",
      "\n",
      "3. MAKİNE ÖĞRENMESİ MODELLERİ:\n",
      "   • Uygulama başarı tahmini\n",
      "   • Fiyat optimizasyonu\n",
      "   • Kategori sınıflandırması\n",
      "   • İndirme sayısı tahmini\n",
      "\n",
      "4. GÖRSELLEŞTİRME VE RAPORLAMA:\n",
      "   • İnteraktif dashboard (Streamlit)\n",
      "   • Otomatik rapor üretimi\n",
      "   • API entegrasyonu\n",
      "\n"
     ]
    }
   ],
   "source": [
    "print('📝 SONRAKİ ADIMLAR')\n",
    "print('='*60)\n",
    "print('''\n",
    "1. VERİ TEMİZLEME VE İŞLEME:\n",
    "   • Eksik verilerin doldurulması\n",
    "   • Aykırı değerlerin tespiti ve işlenmesi\n",
    "   • Veri tiplerinin düzeltilmesi\n",
    "   • Feature engineering\n",
    "\n",
    "2. İLERİ ANALİZLER:\n",
    "   • Zaman serisi analizi (güncelleme tarihleri)\n",
    "   • Sentiment analizi (uygulama açıklamaları)\n",
    "   • Kategori bazlı detaylı analizler\n",
    "   • Rekabet analizi\n",
    "\n",
    "3. MAKİNE ÖĞRENMESİ MODELLERİ:\n",
    "   • Uygulama başarı tahmini\n",
    "   • Fiyat optimizasyonu\n",
    "   • Kategori sınıflandırması\n",
    "   • İndirme sayısı tahmini\n",
    "\n",
    "4. GÖRSELLEŞTİRME VE RAPORLAMA:\n",
    "   • İnteraktif dashboard (Streamlit)\n",
    "   • Otomatik rapor üretimi\n",
    "   • API entegrasyonu\n",
    "''')"
   ]
  },
  {
   "cell_type": "code",
   "execution_count": null,
   "id": "itf9sxcas5",
   "metadata": {},
   "outputs": [],
   "source": [
    "# Notebook'un çalıştığını test edelim\n",
    "print(\"✅ Notebook başarıyla güncellendi!\")\n",
    "print(\"\\n📊 Top Apps Analizi eklendi:\")\n",
    "print(\"  • Top Free, Paid, Grossing listeleri\")\n",
    "print(\"  • Kategori dağılım analizleri\")\n",
    "print(\"  • Çapraz liste karşılaştırmaları\")\n",
    "print(\"  • Görselleştirmeler ve istatistikler\")"
   ]
  }
 ],
 "metadata": {
  "kernelspec": {
   "display_name": ".venv",
   "language": "python",
   "name": "python3"
  },
  "language_info": {
   "codemirror_mode": {
    "name": "ipython",
    "version": 3
   },
   "file_extension": ".py",
   "mimetype": "text/x-python",
   "name": "python",
   "nbconvert_exporter": "python",
   "pygments_lexer": "ipython3",
   "version": "3.12.3"
  }
 },
 "nbformat": 4,
 "nbformat_minor": 4
}
